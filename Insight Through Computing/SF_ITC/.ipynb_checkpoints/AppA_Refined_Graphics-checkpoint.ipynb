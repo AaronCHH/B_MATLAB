{
 "cells": [
  {
   "cell_type": "markdown",
   "metadata": {},
   "source": [
    "# A Refined Graphics\n",
    "## A.1 Scaling Axes"
   ]
  },
  {
   "cell_type": "code",
   "execution_count": null,
   "metadata": {
    "collapsed": true
   },
   "outputs": [],
   "source": [
    "# %load Graphics/ShowAxisStyles.m\n",
    "% Script File: ShowAxisStyles\n",
    "% How to scale the axes.\n",
    "\n",
    "theta = linspace(0,2*pi);\n",
    "x = cos(theta);\n",
    "y = sin(theta);\n",
    "close all\n",
    "\n",
    "figure\n",
    "plot(x,y)\n",
    "title('Autoscaling','Fontsize',14)\n",
    "\n",
    "figure\n",
    "plot(x,y)\n",
    "axis equal\n",
    "title('axis equal','Fontsize',14)\n",
    "\n",
    "figure\n",
    "plot(x,y)\n",
    "axis equal square\n",
    "title('axis equal square','Fontsize',14)\n",
    "\n",
    "figure\n",
    "plot(x,y)\n",
    "axis([-1.2 1.2 -1.2 1.2])\n",
    "title('axis([-1.2 1.2 -1.2 1.2])','Fontsize',14)\n",
    "\n",
    "figure\n",
    "plot(x,y)\n",
    "axis([-1.2 1.2 -1.2 1.2])\n",
    "axis equal\n",
    "title('axis([-1.2 1.2 -1.2 1.2]); axis equal','Fontsize',14)\n",
    "\n",
    "figure\n",
    "plot(x,y)\n",
    "axis([-1.2 1.2 -1.2 1.2])\n",
    "axis equal square\n",
    "title('axis([-1.2 1.2 -1.2 1.2]); axis square','Fontsize',14)\n",
    "\n",
    "\n"
   ]
  },
  {
   "cell_type": "markdown",
   "metadata": {},
   "source": [
    "## A.2 Setting and Labelling Axis Ticks"
   ]
  },
  {
   "cell_type": "code",
   "execution_count": null,
   "metadata": {
    "collapsed": true
   },
   "outputs": [],
   "source": [
    "# %load Graphics/ShowTicks.m\n",
    "% Script File: ShowTicks\n",
    "% How to set and label axis ticks.\n",
    "\n",
    "close all\n",
    "x = linspace(0,4*pi);\n",
    "y = sin(x);\n",
    "plot(x,y)\n",
    "axis([0 4*pi -1.2 1.2])\n",
    "\n",
    "% Define x-ticks and their labels..\n",
    "set(gca,'xTick',0:pi/2:4*pi)\n",
    "set(gca,'xTickLabel',{'0', ' ', 'pi', ' ', '2pi', ' ', '3pi', ' ', '4pi'},'Fontsize',14)\n",
    "\n",
    "% Define y-ticks and let them be auto-labelled...\n",
    "set(gca,'yTick',-1:.5:1)\n",
    "\n",
    "grid on\n",
    "shg"
   ]
  },
  {
   "cell_type": "markdown",
   "metadata": {},
   "source": [
    "## A.3 Fancy Labelling"
   ]
  },
  {
   "cell_type": "code",
   "execution_count": null,
   "metadata": {
    "collapsed": true
   },
   "outputs": [],
   "source": [
    "# %load Graphics/ShowFancyLabelling.m\n",
    "% Script File: ShowFancyLabelling\n",
    "% How to label points with subcripted variable names.\n",
    "\n",
    "close all\n",
    "r = 1;\n",
    "t = pi/6 + linspace(0,2*pi,7);\n",
    "x = r*cos(t);\n",
    "y = r*sin(t);\n",
    "plot(x,y);\n",
    "\n",
    "axis equal off\n",
    "HA = 'HorizontalAlignment';\n",
    "VA = 'VerticalAlignment';\n",
    "text(x(1),y(1),'\\leftarrow {\\itP}_{1}',  HA,'left','FontSize',14)\n",
    "text(x(2),y(2),'\\downarrow',             HA,'center',VA,'baseline','FontSize',14)\n",
    "text(x(2),y(2),'{\\itP}_{2}',             HA,'left',VA,'bottom','FontSize',14)\n",
    "text(x(3),y(3),'{\\itP}_{3} \\rightarrow', HA,'right','FontSize',14)\n",
    "text(x(4),y(4),'{\\itP}_{4} \\rightarrow', HA,'right','FontSize',14)\n",
    "text(x(5),y(5),'\\uparrow',               HA,'center',VA,'top','FontSize',14)\n",
    "text(x(5),y(5),'{\\itP}_{5}  ',           HA,'right',VA,'top','FontSize',14)\n",
    "text(x(6),y(6),'\\leftarrow {\\itP}_{6}',  HA,'left','FontSize',14)\n",
    "\n",
    "text(0,.4*r,'A Labelled Hexagon^{1}',HA,'center','FontSize',14)\n",
    "text(0,-.4*r,'^{1} A hexagon has six sides.',HA,'center','FontSize',10)"
   ]
  },
  {
   "cell_type": "markdown",
   "metadata": {},
   "source": [
    "## A.4 Aligning Text"
   ]
  },
  {
   "cell_type": "code",
   "execution_count": null,
   "metadata": {
    "collapsed": true
   },
   "outputs": [],
   "source": [
    "# %load Graphics/ShowTextAlignment.m\n",
    "% Script File: ShowTextAlignment\n",
    "% How to place text relative to a coordinate point.\n",
    "\n",
    "close all\n",
    "HA = 'HorizontalAlignment';\n",
    "HV = 'VerticalAlignment';\n",
    "\n",
    "figure\n",
    "plot(0,0,'*')\n",
    "axis([-1 1 -1 1])\n",
    "axis equal square\n",
    "set(gca,'xTick',[-1 0 1],'yTick',[-1 0 1])\n",
    "grid on\n",
    "text(0,0,'  (0,0)  ','FontSize',14,HA,'left','color','r', 'Fontweight','bold')\n",
    "title('Left edge of text aligned.','Fontsize',14)\n",
    "\n",
    "figure\n",
    "plot(0,0,'*')\n",
    "axis([-1 1 -1 1])\n",
    "axis equal square\n",
    "set(gca,'xTick',[-1 0 1],'yTick',[-1 0 1])\n",
    "grid on\n",
    "text(0,0,'  (0,0)  ','FontSize',14,HA,'right','color','r','Fontweight','bold')\n",
    "title('Right edge of text aligned.','Fontsize',14)\n",
    "\n",
    "figure\n",
    "plot(0,0,'*')\n",
    "axis([-1 1 -1 1])\n",
    "axis equal square\n",
    "set(gca,'xTick',[-1 0 1],'yTick',[-1 0 1])\n",
    "grid on\n",
    "text(0,0,'  (0,0)  ','FontSize',14,HA,'center','color','r','Fontweight','bold')\n",
    "title('Center of text aligned.','Fontsize',14)\n",
    "\n",
    "figure\n",
    "plot(0,0,'*')\n",
    "axis([-1 1 -1 1])\n",
    "axis equal square\n",
    "set(gca,'xTick',[-1 0 1],'yTick',[-1 0 1])\n",
    "grid on\n",
    "text(0,0,'  (0,0)  ','FontSize',14,HA,'left',HV,'top','color','r','Fontweight','bold')\n",
    "title('Left top edge of text aligned.','Fontsize',14)\n",
    "\n",
    "figure\n",
    "plot(0,0,'*')\n",
    "axis([-1 1 -1 1])\n",
    "axis equal square\n",
    "set(gca,'xTick',[-1 0 1],'yTick',[-1 0 1])\n",
    "grid on\n",
    "text(0,0,'  (0,0)  ','FontSize',14,HA,'right',HV,'bottom','color','r','Fontweight','bold')\n",
    "title('Right bottom edge of text aligned.','Fontsize',14)\n",
    "\n",
    "shg"
   ]
  },
  {
   "cell_type": "markdown",
   "metadata": {},
   "source": [
    "## A.5 Freezing Axis Scaling"
   ]
  },
  {
   "cell_type": "code",
   "execution_count": null,
   "metadata": {
    "collapsed": true
   },
   "outputs": [],
   "source": [
    "# %load Graphics/ShowManual.m\n",
    "% Script File: ShowManual\n",
    "% How to freeze axes.\n",
    "\n",
    "theta = linspace(0,2*pi);\n",
    "c = cos(theta);\n",
    "s = sin(theta);\n",
    "\n",
    "close all\n",
    "\n",
    "figure\n",
    "plot(c,s)\n",
    "axis([-1.2 1.2 -1.2 1.2])\n",
    "axis equal square\n",
    "x = -2 + 4*rand(500,1);\n",
    "y = -2 + 4*rand(500,1);\n",
    "hold on\n",
    "plot(x,y,'.')\n",
    "title('axes not frozen at [-1.2 1.2 -1.2 1.2]')\n",
    "\n",
    "figure\n",
    "plot(c,s)\n",
    "axis([-1.2 1.2 -1.2 1.2])\n",
    "axis equal square manual\n",
    "x = -2 + 4*rand(500,1);\n",
    "y = -2 + 4*rand(500,1);\n",
    "hold on\n",
    "plot(x,y,'.')\n",
    "title('axes frozen at [-1.2 1.2 -1.2 1.2]')\n",
    "\n",
    "shg\n",
    "\n"
   ]
  },
  {
   "cell_type": "markdown",
   "metadata": {},
   "source": [
    "## A.6 Fonts"
   ]
  },
  {
   "cell_type": "code",
   "execution_count": null,
   "metadata": {
    "collapsed": true
   },
   "outputs": [],
   "source": [
    "# %load Graphics/ShowFonts.m\n",
    "% Script File: ShowFonts\n",
    "% How choose a font, a size, a weight, and an angle.\n",
    "\n",
    "close all\n",
    "HA = 'HorizontalAlign';\n",
    "\n",
    "fonts = {'Times-Roman' 'Helvetica' 'AvantGarde' 'Comic Sans MS' 'Palatino'...\n",
    "         'ZapfChancery' 'Courier' 'NewCenturySchlbk' 'Helvetica-Narrow'};\n",
    "for k=1:length(fonts)\n",
    "   figure\n",
    "   axis([-20 100 -5 60])\n",
    "   axis off\n",
    "   hold on\n",
    "   fill([-20 100 100 -20 -20],[-5  -5  60  60  -5],'w')\n",
    "   plot([-20 100 100 -20 -20],[-5  -5  60  60  -5],'k','Linewidth',3)\n",
    "\n",
    "   v=38;\n",
    "   F = fonts{k};  \n",
    "   text(45,55,F,'color','r','FontName',F,'FontSize',24,HA,'center')\n",
    "   text(10,47,'Plain','color','b','FontName',F,'FontSize',22,HA,'center')\n",
    "   text(45,47,'Bold','color','b','FontName',F,'Fontweight','bold','FontSize',22,HA,'center')\n",
    "   text(82,47,'Oblique','color','b','FontName',F,'FontAngle','oblique','FontSize',22,HA,'center')\n",
    "   for size=[22 18 14 12 11 10 9]\n",
    "      text(-12,v,int2str(size),'FontName',F,'FontSize',size,HA,'center')\n",
    "      text(10,v,'Matlab','FontName',F,'FontSize',size,HA,'center')\n",
    "      text(45,v,'Matlab','FontName',F,'FontSize',size,HA,'center','FontWeight','bold')\n",
    "      text(82,v,'Matlab','FontName',F,'FontSize',size,HA,'center','FontAngle','oblique')\n",
    "      v = v-6;\n",
    "   end\n",
    "   hold off\n",
    "   pause(1)\n",
    "end\n",
    "\n"
   ]
  },
  {
   "cell_type": "markdown",
   "metadata": {},
   "source": [
    "## A.7 Greek Symbols"
   ]
  },
  {
   "cell_type": "code",
   "execution_count": null,
   "metadata": {
    "collapsed": true
   },
   "outputs": [],
   "source": [
    "# %load Graphics/ShowGreek.m\n",
    "% Script File: ShowGreek\n",
    "% How to produce Greek letters.\n",
    "\n",
    "close all\n",
    "figure\n",
    "axis off\n",
    "hold on\n",
    "fill([-1 12 12 -1 -1],[-1 -1 12 12 -1],'w')\n",
    "plot([-1 12 12 -1 -1],[-1 -1 12 12 -1],'k','Linewidth',3)\n",
    "\n",
    "text(3,10,'Greek Symbols','color','r','FontSize',18)\n",
    "x = 0; x1 = x+.7;\n",
    "y = 4; y1 = y+.7;\n",
    "z = 8; z1 = z+.7;\n",
    "\n",
    "\n",
    "text(x,8,'\\alpha :');   text(x1,8,'\\\\alpha');  \n",
    "text(x,7,'\\beta :');    text(x1,7,'\\\\beta');\n",
    "text(x,6,'\\gamma :');   text(x1,6,'\\\\gamma')\n",
    "text(x,5,'\\delta :');   text(x1,5,'\\\\delta')\n",
    "text(x,4,'\\epsilon :'); text(x1,4,'\\\\epsilon')\n",
    "text(x,3,'\\kappa :');   text(x1,3,'\\\\kappa')\n",
    "text(x,2,'\\lambda :');  text(x1,2,'\\\\lambda')\n",
    "text(x,1,'\\mu :');      text(x1,1,'\\\\mu')\n",
    "text(x,0,'\\nu :');      text(x1,0,'\\\\nu')\n",
    "\n",
    "text(y,8,'\\omega :');   text(y1,8,'\\\\omega')\n",
    "text(y,7,'\\phi :');     text(y1,7,'\\\\phi')\n",
    "text(y,6,'\\pi :');      text(y1,6,'\\\\pi')\n",
    "text(y,5,'\\chi :');     text(y1,5,'\\\\chi')\n",
    "text(y,4,'\\psi :');     text(y1,4,'\\\\psi')\n",
    "text(y,3,'\\rho :');     text(y1,3,'\\\\rho')\n",
    "text(y,2,'\\sigma :');   text(y1,2,'\\\\sigma')\n",
    "text(y,1,'\\tau :');     text(y1,1,'\\\\tau')\n",
    "text(y,0,'\\upsilon :'); text(y1,0,'\\\\upsilon')\n",
    "\n",
    "\n",
    "text(z,8,'\\Sigma :');   text(z1,8,'\\\\Sigma')\n",
    "text(z,7,'\\Pi :');      text(z1,7,'\\\\Pi')\n",
    "text(z,6,'\\Lambda :');  text(z1,6,'\\\\Lambda')\n",
    "text(z,5,'\\Omega :');   text(z1,5,'\\\\Omega')\n",
    "text(z,4,'\\Gamma :');   text(z1,4,'\\\\Gamma')\n",
    "\n",
    "shg\n",
    "\n",
    "\n",
    "\n",
    "\n",
    "\n",
    "\n",
    "\n"
   ]
  },
  {
   "cell_type": "markdown",
   "metadata": {},
   "source": [
    "## A.8 Mathematical Symbols"
   ]
  },
  {
   "cell_type": "code",
   "execution_count": null,
   "metadata": {
    "collapsed": true
   },
   "outputs": [],
   "source": [
    "# %load Graphics/ShowMathSymbols.m\n",
    "% Script File: ShowMathSymbols\n",
    "% How to produce math symbols.\n",
    "\n",
    "close all\n",
    "figure\n",
    "axis off\n",
    "hold on\n",
    "fill([0 12 12 0 0],[0 0 12 12 0],'w')\n",
    "plot([0 12 12 0 0],[0 0 12 12 0],'k','Linewidth',3)\n",
    "hold off\n",
    "text(6,10.5,'Math Symbols','color','r','FontSize',18,'HorizontalAlign','center')\n",
    "x = 1; x1 = x+.7;\n",
    "y = 4.6; y1 = y+.7;\n",
    "z = 9; z1 = z+.7;\n",
    "n = 12;\n",
    "\n",
    "text(y,9,'\\leftarrow :');       text(y1,9,'\\\\leftarrow') \n",
    "text(y,8,'\\rightarrow :');      text(y1,8,'\\\\rightarrow')\n",
    "text(y,7,'\\uparrow :');         text(y1,7,'\\\\uparrow')\n",
    "text(y,6,'\\downarrow :');       text(y1,6,'\\\\downarrow')\n",
    "text(y,5,'\\Leftarrow :');       text(y1,5,'\\\\Leftarrow')\n",
    "text(y,4,'\\Rightarrow :');      text(y1,4,'\\\\Rightarrow')\n",
    "text(y,3,'\\Leftrightarrow :');  text(y1,3,'\\\\Leftrightarrow')\n",
    "text(y,2,'\\partial :');         text(y1,2,'\\\\partial')\n",
    "\n",
    "text(x,9,'\\neq :');             text(x1,9,'\\\\neq')\n",
    "text(x,8,'\\geq :');             text(x1,8,'\\\\geq')\n",
    "text(x,7,'\\approx : ');         text(x1,7,'\\\\approx')\n",
    "text(x,6,'\\equiv :');           text(x1,6,'\\\\equiv')\n",
    "text(x,5,'\\cong :');            text(x1,5,'\\\\cong')\n",
    "text(x,4,'\\pm :');              text(x1,4,'\\\\pm')\n",
    "text(x,3,'\\nabla :');           text(x1,3,'\\\\nabla')\n",
    "text(x,2,'\\angle :');           text(x1,2,'\\\\angle')\n",
    "\n",
    "text(z,9,'\\in :');              text(z1,9,'\\\\in')\n",
    "text(z,8,'\\subset :');          text(z1,8,'\\\\subset')\n",
    "text(z,7,'\\cup :');             text(z1,7,'\\\\cup')\n",
    "text(z,6,'\\cap :');             text(z1,6,'\\\\cap')\n",
    "text(z,5,'\\perp :');            text(z1,5,'\\\\perp')\n",
    "text(z,4,'\\infty :');           text(z1,4,'\\\\infty')\n",
    "text(z,3,'\\int :');             text(z1,3,'\\\\int')\n",
    "text(z,2,'\\times :');           text(z1,2,'\\\\times')\n",
    "\n",
    "shg\n",
    "\n",
    "\n",
    "\n",
    "\n",
    "\n",
    "\n",
    "\n",
    "\n"
   ]
  },
  {
   "cell_type": "markdown",
   "metadata": {},
   "source": [
    "## A.9 Legends"
   ]
  },
  {
   "cell_type": "code",
   "execution_count": null,
   "metadata": {
    "collapsed": true
   },
   "outputs": [],
   "source": [
    "# %load Graphics/ShowLegend.m\n",
    "% Script File: ShowLegend\n",
    "% How to position a legend.\n",
    "\n",
    "loc = { 'North' , 'South' , 'East' , 'West' ,...             \n",
    "        'NorthEast' , 'NorthWest' , 'SouthEast' , 'SouthWest'  ,...       \n",
    "        'NorthOutside' , 'SouthOutside' , 'EastOutside' , 'WestOutside' ,...       \n",
    "        'NorthEastOutside' , 'NorthWestOutside' , 'SouthEastOutside' ,...  \n",
    "        'SouthWestOutside' , 'Best' , 'BestOutside'  };\n",
    "\n",
    "close all\n",
    "t = linspace(0,2);\n",
    "axis([0 2 -1.5 1.5])\n",
    "y1 = sin(t*pi);\n",
    "y2 = cos(t*pi);\n",
    "plot(t,y1,t,y2,'--',[0 .5 1 1.5 2],[0 0 0 0 0],'o')\n",
    "set(gca,'XTick',[])\n",
    "set(gca,'YTick',[0])\n",
    "grid on\n",
    "for k=1:length(loc)\n",
    "    legend('sin(\\pi t)','cos(\\pi t)','roots','location',loc{k})\n",
    "    title('                            ')\n",
    "    title(loc{k},'FontSize',14)\n",
    "    pause\n",
    "end\n"
   ]
  },
  {
   "cell_type": "markdown",
   "metadata": {},
   "source": [
    "## A.10 Marker Size"
   ]
  },
  {
   "cell_type": "code",
   "execution_count": null,
   "metadata": {
    "collapsed": true
   },
   "outputs": [],
   "source": [
    "# %load Graphics/ShowMarkerSize.m\n",
    "% Script File: ShowMarkerSize\n",
    "% How to draw markers with specified size.\n",
    "\n",
    "close all\n",
    "figure\n",
    "axis off\n",
    "hold on\n",
    "fill([0 10 10 0 0],[-77 -77 42 42 -77],'w')\n",
    "plot([0 10 10 0 0],[-77 -77 42 42 -77],'k','Linewidth',3)\n",
    "text(5,30,'Markersize','color','r','FontSize',18,'HorizontalAlign','center')\n",
    "del = 6;\n",
    "for mSize=0:15\n",
    "    if mSize>0\n",
    "        plot(4,22-del*mSize,'.k','Markersize',mSize);\n",
    "        plot(5,22-del*mSize,'*k','Markersize',mSize);\n",
    "        plot(6,22-del*mSize,'ok','Markersize',mSize);\n",
    "        plot(7,22-del*mSize,'xk','Markersize',mSize);\n",
    "        plot(8,22-del*mSize,'hk','Markersize',mSize);\n",
    "        text(1,22-del*mSize,sprintf('%3d',mSize),'FontSize',14)\n",
    "    else\n",
    "        plot(4,22,'.k');\n",
    "        plot(5,22,'*k');\n",
    "        plot(6,22,'ok');\n",
    "        plot(7,22,'xk');\n",
    "        plot(8,22,'hk');\n",
    "        text(1,22,'default')\n",
    "    end\n",
    "end\n",
    "hold off\n",
    "set(gcf,'position',[50 50 800 800])\n",
    "\n"
   ]
  },
  {
   "cell_type": "markdown",
   "metadata": {},
   "source": [
    "## A.11 Line Width"
   ]
  },
  {
   "cell_type": "code",
   "execution_count": null,
   "metadata": {
    "collapsed": true
   },
   "outputs": [],
   "source": [
    "# %load Graphics/ShowLineWidth.m\n",
    "% Script File: ShowLineWidth\n",
    "% How to draw lines with specified width.\n",
    "\n",
    "close all\n",
    "figure\n",
    "axis off\n",
    "hold on\n",
    "fill([0 14 14 0 0],[0 0 14 14 0],'w')\n",
    "plot([0 14 14 0 0],[0 0 14 14 0],'k','Linewidth',3)\n",
    "text(7,13,'LineWidth','color','r','FontSize',18,'HorizontalAlign','center')\n",
    "for width=0:10\n",
    "    if width>0\n",
    "        plot([3 12],[11-width 11-width],'k','Linewidth',width);\n",
    "        text(1,11-width,sprintf('%3d',width),'FontSize',14)\n",
    "    else\n",
    "        plot([3 12],[11-width 11-width],'k');\n",
    "        text(1,11-width,'default','FontSize',14)\n",
    "    end\n",
    "end\n",
    "hold off\n",
    "\n"
   ]
  },
  {
   "cell_type": "markdown",
   "metadata": {},
   "source": [
    "## A.12 Window Colors"
   ]
  },
  {
   "cell_type": "code",
   "execution_count": null,
   "metadata": {
    "collapsed": true
   },
   "outputs": [],
   "source": [
    "# %load Graphics/ShowWindowColor.m\n",
    "% Script File: ShowWindowColor\n",
    "% How to color the plot and figure windows.\n",
    "\n",
    "close all\n",
    "figure\n",
    "\n",
    "% Plot the sine function...\n",
    "hold on\n",
    "x = linspace(0,1);\n",
    "plot(x,sin(2*pi*x),'k','linewidth',2)\n",
    "hold on\n",
    "plot([0  1],[0 0],'k')\n",
    "axis([0 1,-1.2 1.2])\n",
    "grid on\n",
    "\n",
    "% Set the plot window color to be magenta...\n",
    "set(gca,'color',[1 0 1])\n",
    "% Set the figure color to be black...\n",
    "set(gcf,'color',[0 0 0])\n",
    "% Draw the axis labelings in white...\n",
    "set(gca,'xcolor',[1 1 1], 'ycolor',[1 1 1],'fontsize',14)"
   ]
  },
  {
   "cell_type": "markdown",
   "metadata": {},
   "source": [
    "## A.13 Positioning the Figure Window"
   ]
  },
  {
   "cell_type": "code",
   "execution_count": null,
   "metadata": {
    "collapsed": true
   },
   "outputs": [],
   "source": [
    "# %load Graphics/ShowPosition.m\n",
    "% Script File: ShowPosition\n",
    "% How to position the current figure window.\n",
    "%\n",
    "% Syntax:  set(gcf,'position',[a b L W])\n",
    "%\n",
    "%        (a,b) = is the lower left corner\n",
    "%          L   = the horizontal length of the window\n",
    "%          W   = the vertical width of the window\n",
    "%\n",
    "% Different screens have different dimensions.\n",
    "% A window that fits on one screen may not fit on another.\n",
    "\n",
    "\n",
    "\n",
    "% Vary the lower left corner...\n",
    "close\n",
    "figure\n",
    "shg\n",
    "L = 600;\n",
    "W = 400;\n",
    "for a = 50:100:350\n",
    "    for b = 50:50:200\n",
    "        set(gcf,'position',[a b L W])\n",
    "        title(sprintf('[ a , b , L , W ]  =  [%1d , %1d , %1d , %1d]',a,b,L,W),'Fontsize',14)\n",
    "        text(.3,.5,'Vary Lower Left Corner (a,b)','Fontsize',14)\n",
    "        pause\n",
    "    end\n",
    "end\n",
    "\n",
    "% Vary the length and width of the figure...\n",
    "close\n",
    "figure\n",
    "shg\n",
    "a = 100;\n",
    "b = 100;\n",
    "for L = 500:100:900\n",
    "    for W = 100:100:500\n",
    "        set(gcf,'position',[a b L W])\n",
    "        title(sprintf('[ a , b , L , W ]  =  [%1d , %1d , %1d , %1d]',a,b,L,W),'Fontsize',14)\n",
    "        text(.3,.5,'Vary Length and Width','Fontsize',14)\n",
    "        pause\n",
    "    end\n",
    "end\n",
    "\n"
   ]
  },
  {
   "cell_type": "code",
   "execution_count": null,
   "metadata": {
    "collapsed": true
   },
   "outputs": [],
   "source": []
  }
 ],
 "metadata": {
  "anaconda-cloud": {},
  "kernelspec": {
   "display_name": "Python [default]",
   "language": "python",
   "name": "python3"
  },
  "language_info": {
   "codemirror_mode": {
    "name": "ipython",
    "version": 3
   },
   "file_extension": ".py",
   "mimetype": "text/x-python",
   "name": "python",
   "nbconvert_exporter": "python",
   "pygments_lexer": "ipython3",
   "version": "3.5.2"
  }
 },
 "nbformat": 4,
 "nbformat_minor": 1
}
