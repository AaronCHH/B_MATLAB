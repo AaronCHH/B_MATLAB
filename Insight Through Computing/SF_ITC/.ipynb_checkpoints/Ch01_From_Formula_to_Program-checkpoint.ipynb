{
 "cells": [
  {
   "cell_type": "markdown",
   "metadata": {},
   "source": [
    "# 1 From Formula to Program 1"
   ]
  },
  {
   "cell_type": "markdown",
   "metadata": {},
   "source": [
    "## 1.1 Just Plug It In! 3"
   ]
  },
  {
   "cell_type": "markdown",
   "metadata": {},
   "source": [
    "### Surface Area of a Sphere"
   ]
  },
  {
   "cell_type": "code",
   "execution_count": null,
   "metadata": {
    "collapsed": true
   },
   "outputs": [],
   "source": [
    "# %load C1/SurfArea.m\n",
    "% The Script SurfArea\n",
    "\n",
    "r = input('Enter radius r: ');\n",
    "A = 4*3.1416*r^2;\n",
    "fprintf('r = %10.3f A = %10.3e\\n', r, A)\n"
   ]
  },
  {
   "cell_type": "code",
   "execution_count": null,
   "metadata": {
    "collapsed": true
   },
   "outputs": [],
   "source": [
    "# %load C1/Eg1_1.m\n",
    "% Script Eg1_1\n",
    "% Spherical Surface Area Increase\n",
    "\n",
    "% Acquire and display the input data...\n",
    "r = input('Enter radius (kilometers):');\n",
    "delta_r = input('Enter increase (millimeters):');\n",
    "clc\n",
    "fprintf('Sphere radius   = %12.6f kilometers\\n',r)\n",
    "fprintf('Radius increase = %12.6f millimeters\\n\\n',delta_r)\n",
    "disp('Surface Area Increase:')\n",
    "\n",
    "% Convert from millimeters to meters...\n",
    "dr = delta_r/10^6;\n",
    "\n",
    "% Method 1\n",
    "delta_A1 = (4*pi*(r + dr)^2 -  4*pi*r^2)*10^6;\n",
    "fprintf('\\n   Method 1: %15.6f square meters\\n',delta_A1)\n",
    "\n",
    "% Method 2\n",
    "delta_A2 = (4*pi*(2*r + dr)*dr)*10^6;\n",
    "fprintf('   Method 2: %15.6f square meters\\n',delta_A2)\n",
    "\n",
    "% Method 3\n",
    "delta_A3 = (8*pi*r*dr)*10^6;\n",
    "fprintf('   Method 3: %15.6f square meters\\n',delta_A3)"
   ]
  },
  {
   "cell_type": "markdown",
   "metadata": {},
   "source": [
    "### Matlab: Arithmetic expressions, assignment, input, output"
   ]
  },
  {
   "cell_type": "markdown",
   "metadata": {},
   "source": [
    "## 1.2 Check and Evaluate 14"
   ]
  },
  {
   "cell_type": "markdown",
   "metadata": {},
   "source": [
    "### Minimum of a Quadratic on an Interval"
   ]
  },
  {
   "cell_type": "code",
   "execution_count": null,
   "metadata": {
    "collapsed": true
   },
   "outputs": [],
   "source": [
    "# %load C1/Eg1_2.m\n",
    "% Script Eg1_2\n",
    "% Minimum of the quadratic x^2 + bx + c on the interval [L,R].\n",
    "\n",
    "% Acquire and display the input data...\n",
    "b = input('Enter b:');\n",
    "c = input('Enter c:');\n",
    "L = input('Enter L:');\n",
    "R = input('Enter R (L<R):');\n",
    "clc\n",
    "fprintf('Quadratic: x^2 + bx + c,  b = %5.2f, c = %5.2f\\n',b,c)\n",
    "fprintf('Interval : [L,R], L = %5.2f, R = %5.2f\\n\\n',L,R)\n",
    "% The critical point...\n",
    "xc = -b/2;\n",
    "if xc < L\n",
    "    % Minimum at the left endpoint...\n",
    "    fL = L^2 + b*L + c;\n",
    "    fprintf('Minimizing x    = %5.2f\\n',L)\n",
    "    fprintf('Minimum f value = %5.2f\\n',fL)\n",
    "elseif L <= xc && xc <= R\n",
    "    % Minimum at the critical point...\n",
    "    fxc = c - (b/2)^2;\n",
    "    fprintf('Minimizing x    = %5.2f\\n',xc)\n",
    "    fprintf('Minimum f value = %5.2f\\n',fxc)\n",
    "else\n",
    "    % Minimum at the right endpoint...\n",
    "    fR = R^2 + b*R + c;\n",
    "    fprintf('Minimizing x    = %5.2f\\n',R)\n",
    "    fprintf('Minimum f value = %5.2f\\n',fR)\n",
    "end"
   ]
  },
  {
   "cell_type": "markdown",
   "metadata": {},
   "source": [
    "### Matlab: Boolean expressions, conditionals"
   ]
  },
  {
   "cell_type": "code",
   "execution_count": null,
   "metadata": {
    "collapsed": true
   },
   "outputs": [],
   "source": []
  }
 ],
 "metadata": {
  "anaconda-cloud": {},
  "kernelspec": {
   "display_name": "Python [default]",
   "language": "python",
   "name": "python3"
  },
  "language_info": {
   "codemirror_mode": {
    "name": "ipython",
    "version": 3
   },
   "file_extension": ".py",
   "mimetype": "text/x-python",
   "name": "python",
   "nbconvert_exporter": "python",
   "pygments_lexer": "ipython3",
   "version": "3.5.2"
  }
 },
 "nbformat": 4,
 "nbformat_minor": 1
}
