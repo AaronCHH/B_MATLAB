{
 "cells": [
  {
   "cell_type": "markdown",
   "metadata": {},
   "source": [
    "# 3 Approximation with Fractions 45"
   ]
  },
  {
   "cell_type": "markdown",
   "metadata": {},
   "source": [
    "## 3.1 22/7ths and Counting 47"
   ]
  },
  {
   "cell_type": "markdown",
   "metadata": {},
   "source": [
    "### Proximity to Pi"
   ]
  },
  {
   "cell_type": "code",
   "execution_count": null,
   "metadata": {
    "collapsed": true
   },
   "outputs": [],
   "source": [
    "# %load C3/Eg3_1.m\n",
    "% Script Eg3_1\n",
    "% Rational Approximation of pi\n",
    "\n",
    "% Acquire the numerator/denominator limit...\n",
    "M = input('Enter M:');\n",
    "\n",
    "% Initializations...\n",
    "pBest = 1;                      % Best numerator ``found so far''\n",
    "qBest = 1;                      % Best denominator ``found so far''...\n",
    "err_pq = abs(pBest/qBest - pi); % Error in current best fraction...\n",
    "\n",
    "% Check out all possible denominators...\n",
    "for q = 1:M\n",
    "    % Initializations for the p-search...\n",
    "    p0 = 1;\n",
    "    e0 = abs(pi - p0/q);\n",
    "    % For this q, find the best numerator p0...\n",
    "    for p=1:M\n",
    "        if abs(pi - p/q) < e0\n",
    "            % A new best numerator has been found for this q...\n",
    "            p0 = p;\n",
    "            e0 = abs(pi - p/q);\n",
    "        end\n",
    "    end\n",
    "    % Check to see if we have a new best quotient for this q...\n",
    "    if  e0 < err_pq\n",
    "        pBest = p0;\n",
    "        qBest = q;\n",
    "        err_pq = e0;\n",
    "    end\n",
    "end\n",
    "MyPi = pBest/qBest;\n",
    "% Display Results\n",
    "clc\n",
    "fprintf('M     = %1d\\npBest = %1d\\nqBest = %1d\\n',...\n",
    "        M,pBest,qBest)\n",
    "fprintf('MyPi  = %17.15f\\npi    = %17.15f\\nerror = %17.15f\\n\\n',...\n",
    "        MyPi,pi,err_pq)\n",
    "\n"
   ]
  },
  {
   "cell_type": "code",
   "execution_count": null,
   "metadata": {
    "collapsed": true
   },
   "outputs": [],
   "source": [
    "# %load C3/FasterEg3_1.m\n",
    "% Script FasterEg3_1\n",
    "% Rational Approximation of pi\n",
    "\n",
    "% Acquire the numerator/denominator limit...\n",
    "M = input('Enter M:');\n",
    "\n",
    "% Initializations...\n",
    "pBest = 1;                      % Best numerator ``found so far''\n",
    "qBest = 1;                      % Best denominator ``found so far''...\n",
    "err_pq = abs(pBest/qBest - pi); % Error in current best fraction...\n",
    "\n",
    "% Check out all possible denominators...\n",
    "for q = 1:ceil(M/pi)\n",
    "    % For this q, find the best numerator p0...\n",
    "    pMinus = floor(pi*q); errMinus = abs(pi - pMinus/q);\n",
    "    pPlus  = ceil(pi*q);  errPlus  = abs(pi - pPlus/q);\n",
    "    if errMinus < errPlus\n",
    "        p0 = pMinus; e0 = errMinus;\n",
    "    else\n",
    "        p0 = pPlus;  e0 = errPlus;\n",
    "    end\n",
    "    % Check to see if we have a new best quotient for this q...\n",
    "    if  e0 < err_pq\n",
    "        pBest = p0;\n",
    "        qBest = q;\n",
    "        err_pq = e0;\n",
    "    end\n",
    "end\n",
    "MyPi = pBest/qBest;\n",
    "clc\n",
    "fprintf('M     = %1d\\npBest = %1d\\nqBest = %1d\\n',M,pBest,qBest)\n",
    "fprintf('MyPi  = %17.15f\\npi    = %17.15f\\nerror = %17.15f\\n\\n',...\n",
    "        MyPi,pi,err_pq)\n",
    "\n"
   ]
  },
  {
   "cell_type": "markdown",
   "metadata": {},
   "source": [
    "### Matlab: Nested loops, benchmarking"
   ]
  },
  {
   "cell_type": "markdown",
   "metadata": {},
   "source": [
    "## 3.2 Not Quite Perfect 56"
   ]
  },
  {
   "cell_type": "markdown",
   "metadata": {},
   "source": [
    "### Fibonacci Quotients and the Golden Ratio"
   ]
  },
  {
   "cell_type": "code",
   "execution_count": null,
   "metadata": {
    "collapsed": true
   },
   "outputs": [],
   "source": [
    "# %load C3/Eg3_2.m\n",
    "% Script Eg3_2\n",
    "% Fibonacci numbers and the Golden Ratio\n",
    "\n",
    "% Initializations\n",
    "clc\n",
    "disp('   n        f_n             r_n  ')\n",
    "disp('---------------------------------------')\n",
    "tol = 10^-15;\n",
    "n = 2;\n",
    "f_old = 1;                 % n-1-st  Fibonacci number\n",
    "f_cur = 1;                 % n-th    Fibonacci number\n",
    "f_new = 2;                 % n+1-st  Fibonacci number\n",
    "r_cur = f_cur/f_old;       % n-th    Golden Ratio estimate\n",
    "r_new = f_new/f_cur;       % n+1-st  Golden Ratio estimate\n",
    "fprintf('  %2d   %8d    %20.15f \\n',n,f_cur,r_cur)\n",
    "\n",
    "while (abs(r_new - r_cur)>tol)\n",
    "    % Increase n and update...\n",
    "    n = n+1;\n",
    "    f_old = f_cur;\n",
    "    f_cur = f_new;\n",
    "    f_new = f_old + f_cur;\n",
    "    r_cur = r_new;\n",
    "    r_new = f_new/f_cur;\n",
    "    fprintf('  %2d   %8d    %20.15f \\n',n,f_cur,r_cur)\n",
    "end\n",
    "\n",
    "\n",
    "\n",
    "\n",
    "\n"
   ]
  },
  {
   "cell_type": "markdown",
   "metadata": {},
   "source": [
    "### Matlab: More complicated while-loops"
   ]
  },
  {
   "cell_type": "code",
   "execution_count": null,
   "metadata": {
    "collapsed": true
   },
   "outputs": [],
   "source": []
  }
 ],
 "metadata": {
  "anaconda-cloud": {},
  "kernelspec": {
   "display_name": "Python [default]",
   "language": "python",
   "name": "python3"
  },
  "language_info": {
   "codemirror_mode": {
    "name": "ipython",
    "version": 3
   },
   "file_extension": ".py",
   "mimetype": "text/x-python",
   "name": "python",
   "nbconvert_exporter": "python",
   "pygments_lexer": "ipython3",
   "version": "3.5.2"
  }
 },
 "nbformat": 4,
 "nbformat_minor": 1
}
