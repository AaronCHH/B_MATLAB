{
 "cells": [
  {
   "cell_type": "markdown",
   "metadata": {},
   "source": [
    "# 5 Abstraction 95"
   ]
  },
  {
   "cell_type": "markdown",
   "metadata": {},
   "source": [
    "## 5.1 Reshaping Rectangles 97"
   ]
  },
  {
   "cell_type": "markdown",
   "metadata": {},
   "source": [
    "### A Square and a Root"
   ]
  },
  {
   "cell_type": "code",
   "execution_count": null,
   "metadata": {
    "collapsed": true
   },
   "outputs": [],
   "source": [
    "# %load C5/Eg5_1.m\n",
    "% Script Eg5_1\n",
    "% Examines the relative error in MySqrt\n",
    "\n",
    "clc\n",
    "disp('    a       Relative Error')\n",
    "disp('             in MySqrt(a)')\n",
    "disp('--------------------------')\n",
    "for i = -6:6\n",
    "    a = 10^i;\n",
    "    y = sqrt(a);\n",
    "    z = MySqrt(a);\n",
    "    relErr = abs(y - z)/y;\n",
    "    fprintf('%7.0e    %15.7e\\n',a,relErr)\n",
    "end"
   ]
  },
  {
   "cell_type": "code",
   "execution_count": null,
   "metadata": {
    "collapsed": true
   },
   "outputs": [],
   "source": [
    "# %load C5/MySqrt.m\n",
    "function s = MySqrt(A)\n",
    "% A is a non-negative real number and s is an approximation\n",
    "% to its square root.\n",
    "\n",
    "if A == 0\n",
    "    % Nothing to do in this case...\n",
    "    s = 0;\n",
    "else\n",
    "    % The initial rectangle is A-by-1...\n",
    "    L = A; W = 1;\n",
    "    % Iterate until the difference between L and W is less than L/10^15...\n",
    "    while abs(L-W) >  (10^-15)*L\n",
    "        % The new L is the average of the current L and W...\n",
    "        L = (L+W)/2; W = A/L;\n",
    "    end\n",
    "    s = L;\n",
    "end\n",
    "\n"
   ]
  },
  {
   "cell_type": "markdown",
   "metadata": {},
   "source": [
    "### Matlab: Simple functions"
   ]
  },
  {
   "cell_type": "markdown",
   "metadata": {},
   "source": [
    "## 5.2 Oval Odometer 109"
   ]
  },
  {
   "cell_type": "markdown",
   "metadata": {},
   "source": [
    "### Ellipse Perimeter"
   ]
  },
  {
   "cell_type": "code",
   "execution_count": null,
   "metadata": {
    "collapsed": true
   },
   "outputs": [],
   "source": [
    "# %load C5/Eg5_2A.m\n",
    "% Script Eg5_2A\n",
    "% Explores the accuracy of P_inner and P_outer\n",
    "\n",
    "% Acquire the semiaxes...\n",
    "a = input('Enter a:');\n",
    "b = input('Enter b:');\n",
    "clc\n",
    "fprintf('a = %5.3f  b = %5.3f\\n\\n',a,b)\n",
    "disp('    n         RelErrEst')\n",
    "disp('-------------------------')\n",
    "for n = logspace(1,6,6)\n",
    "    Inner = P_inner(a,b,n);\n",
    "    Outer = P_outer(a,b,n);\n",
    "    Ave = (Inner + Outer)/2;\n",
    "    % tol = 1/n^2; Ave = P_ave(a,b,tol);\n",
    "    relErrEst = (Outer-Inner)/(2*Ave);\n",
    "    fprintf('%6.2e   %10.6e\\n',n,relErrEst)\n",
    "end"
   ]
  },
  {
   "cell_type": "code",
   "execution_count": null,
   "metadata": {
    "collapsed": true
   },
   "outputs": [],
   "source": [
    "# %load C5/Eg5_2B.m\n",
    "% Script Eg5_2B\n",
    "% Explores the performance of P_ave\n",
    "\n",
    "% Acquire the semiaxes...\n",
    "a = input('Enter a:');\n",
    "b = input('Enter b:');\n",
    "clc\n",
    "fprintf('a = %5.3f  b = %5.3f\\n\\n',a,b)\n",
    "disp('    tol          Perimeter')\n",
    "disp('-------------------------------')\n",
    "for tol = logspace(-1,-12,12)\n",
    "    P = P_ave(a,b,tol);\n",
    "    fprintf('%6.2e   %18.12f\\n',tol,P)\n",
    "end"
   ]
  },
  {
   "cell_type": "markdown",
   "metadata": {},
   "source": [
    "### Matlab: Functions with multiple input parameters"
   ]
  },
  {
   "cell_type": "markdown",
   "metadata": {},
   "source": [
    "## 5.3 The Betsy Ross Problem 118"
   ]
  },
  {
   "cell_type": "markdown",
   "metadata": {},
   "source": [
    "### Design Parameters"
   ]
  },
  {
   "cell_type": "code",
   "execution_count": null,
   "metadata": {
    "collapsed": true
   },
   "outputs": [],
   "source": [
    "# %load C5/Eg5_3.m\n",
    "% Script Eg5_3\n",
    "% Illustrates DrawFlag\n",
    "\n",
    "% Initializations\n",
    "close all\n",
    "figure\n",
    "axis equal off\n",
    "hold on\n",
    "SW = 1;               % Stripe width\n",
    "FW = 13*SW;           % Flag width\n",
    "GR = (1+sqrt(5))/2;   % Golden ratio\n",
    "FL = GR*FW;           % Flag length\n",
    "RR = 2.5*SW;          % Ring radius\n",
    "SR = 0.5*SW;          % Star radius\n",
    "% Display four flags with different blue lengths...\n",
    "BL = .30*FL; DrawFlag( 0, 0,FL,FW,BL,RR,SR)\n",
    "BL = .35*FL; DrawFlag(25, 0,FL,FW,BL,RR,SR)\n",
    "BL = .40*FL; DrawFlag( 0,16,FL,FW,BL,RR,SR)\n",
    "BL = .45*FL; DrawFlag(25,16,FL,FW,BL,RR,SR)\n",
    "\n",
    "\n"
   ]
  },
  {
   "cell_type": "markdown",
   "metadata": {},
   "source": [
    "### Matlab: Graphics functions"
   ]
  },
  {
   "cell_type": "code",
   "execution_count": null,
   "metadata": {
    "collapsed": true
   },
   "outputs": [],
   "source": []
  }
 ],
 "metadata": {
  "anaconda-cloud": {},
  "kernelspec": {
   "display_name": "Python [default]",
   "language": "python",
   "name": "python3"
  },
  "language_info": {
   "codemirror_mode": {
    "name": "ipython",
    "version": 3
   },
   "file_extension": ".py",
   "mimetype": "text/x-python",
   "name": "python",
   "nbconvert_exporter": "python",
   "pygments_lexer": "ipython3",
   "version": "3.5.2"
  }
 },
 "nbformat": 4,
 "nbformat_minor": 1
}
