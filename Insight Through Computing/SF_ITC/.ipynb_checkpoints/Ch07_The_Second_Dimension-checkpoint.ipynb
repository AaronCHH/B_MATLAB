{
 "cells": [
  {
   "cell_type": "markdown",
   "metadata": {},
   "source": [
    "# 7 The Second Dimension 155\n",
    "## 7.1 From Here to There 157\n",
    "### Transition Matrices"
   ]
  },
  {
   "cell_type": "code",
   "execution_count": null,
   "metadata": {
    "collapsed": true
   },
   "outputs": [],
   "source": [
    "# %load C7/Eg7_1.m\n",
    "% Script Eg7_1\n",
    "% Illustrates the function Transition.\n",
    "\n",
    "% Set up the transition probability matrix and initialize\n",
    "% the state vector....\n",
    "P = [ .32   .17   .11    .46 ;...\n",
    "      .18   .43   .32    .33 ;...\n",
    "      .27   .22   .39    .14 ;...\n",
    "      .23   .18   .18    .07 ];\n",
    "x = 1000000*ones(4,1);\n",
    "% Simulate 5 time steps and display...\n",
    "clc\n",
    "disp('     x(1)      x(2)       x(3)       x(4)   ')\n",
    "disp('--------------------------------------------')\n",
    "disp(sprintf(' %8.0f  ',x))\n",
    "for t = 1:5\n",
    "    x = Transition(P,x);\n",
    "    disp(sprintf(' %8.0f  ',x))\n",
    "end"
   ]
  },
  {
   "cell_type": "markdown",
   "metadata": {},
   "source": [
    "### Matlab: Two-dimensional arrays\n",
    "## 7.2 Contours and Cross Sections 166\n",
    "### Visualizing F(x, y)"
   ]
  },
  {
   "cell_type": "code",
   "execution_count": null,
   "metadata": {
    "collapsed": true
   },
   "outputs": [],
   "source": [
    "# %load C7/Eg7_2.m\n",
    "% Script Eg7_2\n",
    "% Contour plot and cross sections of a function of two variables.\n",
    "\n",
    "% Generate a matrix of f(x,y) evaluations...\n",
    "a = 0; b = 6; n = 301; x = linspace(a,b,n);\n",
    "c = 0; d = 4; m = 201; y = linspace(c,d,m);\n",
    "TVals = fOnGrid(x,y,@T_plate);\n",
    "% Display the contour plot\n",
    "close all\n",
    "v = linspace(5,100,20);\n",
    "contour(x,y,TVals,v)\n",
    "\n",
    "% Display selected crosssections\n",
    "figure\n",
    "TY = fOnGrid(x,[1 2 3],@T_plate);\n",
    "plot(x,TY(1,:),x,TY(2,:),'--',x,TY(3,:),'-.')\n",
    "xlabel('x','Fontsize',14)\n",
    "ylabel('Temperature','Fontsize',14)\n",
    "legend('y = 1', 'y = 2', 'y = 3')\n",
    "shg"
   ]
  },
  {
   "cell_type": "markdown",
   "metadata": {},
   "source": [
    "### Matlab: Contour plotting\n",
    "## 7.3 Cool It! 171\n",
    "### Simulation on a Grid"
   ]
  },
  {
   "cell_type": "code",
   "execution_count": null,
   "metadata": {
    "collapsed": true
   },
   "outputs": [],
   "source": [
    "# %load C7/Eg7_3.m\n",
    "% Script Eg7_3\n",
    "% Simulates the cooling of a plate whose boundary temperature\n",
    "% is fixed at zero.\n",
    "\n",
    "% Establish the Initial Temperature Distribution...\n",
    "a = 0; b = 6; n = 61; x = linspace(a,b,n);\n",
    "c = 0; d = 4; m = 41; y = linspace(c,d,m);\n",
    "TVals = fOnGrid(x,y,@T_plate);\n",
    "TVals(1,:) = zeros(1,n); TVals(m,:) = zeros(1,n);\n",
    "TVals(:,1) = zeros(m,1); TVals(:,n) = zeros(m,1);\n",
    "nSteps = 200;\n",
    "close all\n",
    "figure\n",
    "colormap('hot')\n",
    "for tau=0:nSteps\n",
    "    % Display the current temperature distribution...\n",
    "    pcolor(TVals)\n",
    "    shading interp\n",
    "    caxis('manual')\n",
    "    title(sprintf('tau = %1d',tau),'Fontsize',14)\n",
    "    axis equal off\n",
    "    pause(.1)\n",
    "    shg\n",
    "    % Update the temperature distribution...\n",
    "    TVals = Average(TVals);\n",
    "end\n",
    "\n"
   ]
  },
  {
   "cell_type": "markdown",
   "metadata": {},
   "source": [
    "### Matlab: A(i,j) updating"
   ]
  },
  {
   "cell_type": "code",
   "execution_count": null,
   "metadata": {
    "collapsed": true
   },
   "outputs": [],
   "source": []
  }
 ],
 "metadata": {
  "anaconda-cloud": {},
  "kernelspec": {
   "display_name": "Python [default]",
   "language": "python",
   "name": "python3"
  },
  "language_info": {
   "codemirror_mode": {
    "name": "ipython",
    "version": 3
   },
   "file_extension": ".py",
   "mimetype": "text/x-python",
   "name": "python",
   "nbconvert_exporter": "python",
   "pygments_lexer": "ipython3",
   "version": "3.5.2"
  }
 },
 "nbformat": 4,
 "nbformat_minor": 1
}
