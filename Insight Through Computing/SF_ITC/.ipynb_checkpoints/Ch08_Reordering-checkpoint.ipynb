{
 "cells": [
  {
   "cell_type": "markdown",
   "metadata": {},
   "source": [
    "# 8 Reordering 179\n",
    "## 8.1 Cut and Deal 181\n",
    "### The Perfect Shuffle"
   ]
  },
  {
   "cell_type": "code",
   "execution_count": null,
   "metadata": {
    "collapsed": true
   },
   "outputs": [],
   "source": [
    "# %load C8/Eg8_1.m\n",
    "% Script Eg8_1\n",
    "% Displays the restoration index for a range of n-values\n",
    "\n",
    "close all\n",
    "nVals = 2:2:60;\n",
    "rVals = [];\n",
    "for n = nVals\n",
    "   % Initializations....\n",
    "   x0 = (1:n)'; \n",
    "   x  = PerfectShuffle(x0); \n",
    "   k = 1;\n",
    "   % Keep shuffling until a match with x0...\n",
    "   while sum(abs(x-x0))>0\n",
    "       x = PerfectShuffle(x);\n",
    "       k = k+1;\n",
    "   end\n",
    "   rVals = [rVals k];\n",
    "end\n",
    "% Display...\n",
    "bar(nVals,rVals)\n",
    "axis([0 62 0 60])\n",
    "xlabel('n','Fontsize',14)\n",
    "ylabel('Restoration Index','Fontsize',14)\n",
    "title('Restoration Via Repeated Perfect Shuffles','Fontsize',14)\n",
    "grid on\n",
    "shg"
   ]
  },
  {
   "cell_type": "markdown",
   "metadata": {},
   "source": [
    "### Matlab: More practice with vectors and subscripting\n",
    "## 8.2 Size Place 188\n",
    "### Sorting"
   ]
  },
  {
   "cell_type": "code",
   "execution_count": null,
   "metadata": {
    "collapsed": true
   },
   "outputs": [],
   "source": [
    "# %load C8/Eg8_2.m\n",
    "% Script Eg8_2\n",
    "% Compares bubble sort and insertion sort.\n",
    "\n",
    "% Tabulate swaps and comparisons for a random x ...\n",
    "clc\n",
    "disp('            Bubble Sort             Insertion Sort  ')\n",
    "disp('    n    Compares    Swaps       Compares      Swaps')\n",
    "disp('-------------------------------------------------------')\n",
    "for n = [10 20 40 80 160 320 640 1280]\n",
    "    x = rand(n,1);\n",
    "    [yB,TCBubble,TSBubble] = BubbleSort(x);\n",
    "    [yI,TCInsert,TSInsert] = InsertionSort(x);\n",
    "    fprintf('%5d   %8d  %8d      %8d    %8d   \\n', ...\n",
    "            n, TCBubble,TSBubble, TCInsert,TSInsert)\n",
    "end\n",
    "\n",
    "N = 50000;\n",
    "x = rand(N,1);\n",
    "tic\n",
    "[yB,TCBubble,TSBubble] = BubbleSort(x);\n",
    "TimeBubble = toc;\n",
    "tic\n",
    "[yI,TCInsert,TSINsert] = InsertionSort(x);\n",
    "TimeInsert = toc;\n",
    "fprintf('\\n\\nTimeBubble/TimeInsert = %5.3f  (N = %1d)\\n', ...\n",
    "        TimeBubble/TimeInsert, N)\n",
    "\n",
    "\n",
    "\n",
    "\n"
   ]
  },
  {
   "cell_type": "markdown",
   "metadata": {},
   "source": [
    "### Matlab: sort"
   ]
  },
  {
   "cell_type": "code",
   "execution_count": null,
   "metadata": {
    "collapsed": true
   },
   "outputs": [],
   "source": []
  }
 ],
 "metadata": {
  "kernelspec": {
   "display_name": "Python [default]",
   "language": "python",
   "name": "python3"
  },
  "language_info": {
   "codemirror_mode": {
    "name": "ipython",
    "version": 3
   },
   "file_extension": ".py",
   "mimetype": "text/x-python",
   "name": "python",
   "nbconvert_exporter": "python",
   "pygments_lexer": "ipython3",
   "version": "3.5.2"
  }
 },
 "nbformat": 4,
 "nbformat_minor": 1
}
