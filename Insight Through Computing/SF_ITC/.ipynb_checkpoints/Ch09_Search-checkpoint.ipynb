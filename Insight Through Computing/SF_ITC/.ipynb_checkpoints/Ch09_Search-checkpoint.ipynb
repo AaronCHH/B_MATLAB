{
 "cells": [
  {
   "cell_type": "markdown",
   "metadata": {},
   "source": [
    "# 9 Search 197\n",
    "## 9.1 Patterns in Proteins 199\n",
    "### Linear Search"
   ]
  },
  {
   "cell_type": "code",
   "execution_count": null,
   "metadata": {
    "collapsed": true
   },
   "outputs": [],
   "source": [
    "# %load C9/Eg9_1.m\n",
    "% Script Eg9_1\n",
    "% Amino acid frequency counts.\n",
    "n = input('Enter the number of amino acids: ');\n",
    "P = RandomProtein(n);\n",
    "\n",
    "count = zeros(20,1);\n",
    "for j=1:n\n",
    "    s = P(3*(j-1)+1:3*j);\n",
    "    a = FindMnemonic(s);\n",
    "    i = FindIndex(a);\n",
    "    count(i) = count(i)+1;\n",
    "end\n",
    "bar(count(1:20))\n",
    "title(sprintf('n = %d',n),'Fontsize',14)\n",
    "axis([0 21 0 1.1*max(count)])\n",
    "set(gcf,'position',[30 50 950 600])\n",
    "set(gca,'xTick',1:20)\n",
    "set(gca,'xTickLabel',...\n",
    "    {'Ala','Arg','Asn','Asp','Cys','Glu','Gln','Gly','His','Ile',...\n",
    "    'Leu','Lys','Met','Phe','Pro','Ser','Thr','Trp','Tyr','Val'})\n",
    "shg"
   ]
  },
  {
   "cell_type": "markdown",
   "metadata": {},
   "source": [
    "### Matlab: Character arrays\n",
    "## 9.2 A Roman Numeral Phone Book 208\n",
    "### Binary Search"
   ]
  },
  {
   "cell_type": "code",
   "execution_count": null,
   "metadata": {
    "collapsed": true
   },
   "outputs": [],
   "source": [
    "# %load C9/Eg9_2.m\n",
    "% Script Eg9_2\n",
    "% Checks whether or not a string is a valid Roman Numeral.\n",
    "\n",
    "clc\n",
    "% Compute and sort the Roman Numerals...\n",
    "[RNsort,idx] = RomanPhoneBook();\n",
    "\n",
    "% Get the input string and see if it occurs in RNsort..\n",
    "s = input('Enter a Possible Roman Numeral (in single quotes): ');\n",
    "i = BinSearch(upper(s),RNsort);\n",
    "\n",
    "% Display the appropriate message...\n",
    "if i==0\n",
    "    disp([s ' is not a valid Roman Numeral'])\n",
    "else\n",
    "    disp([s sprintf(' is the Roman Numeral for %d',idx(i))])\n",
    "end"
   ]
  },
  {
   "cell_type": "markdown",
   "metadata": {},
   "source": [
    "### Matlab: Cell arrays\n",
    "## 9.3 Changing Sign 219\n",
    "### Bisecting for Roots"
   ]
  },
  {
   "cell_type": "code",
   "execution_count": null,
   "metadata": {
    "collapsed": true
   },
   "outputs": [],
   "source": [
    "# %load C9/Eg9_3.m\n",
    "% Script Eg9_3\n",
    "% Illustrates the method of bisection applied to finding the\n",
    "% smallest positive root of\n",
    "%     tau(x) = 512x^10 - 1280x^8 + 1120x^6 - 400x^4 + 50x^2 -1\n",
    "\n",
    "% Initializations...\n",
    "clc\n",
    "L0 = 0.0;\n",
    "R0 = 0.3;\n",
    "fEvalsMax = 100;\n",
    "fprintf('Initial interval = [%5.2f,%5.2f]\\n',L0,R0)\n",
    "fprintf('f-evaluation maximum = %2d\\n\\n',fEvalsMax)\n",
    "disp('   delta               Root           f-Evals')\n",
    "disp('------------------------------------------------')\n",
    "% Apply bisection with increasingly small values for delta...\n",
    "for delta = logspace(-3,-20,18)\n",
    "    [L,R,fEvals] = Bisection(@tau,L0,R0,delta,fEvalsMax);\n",
    "    Root = (L+R)/2;\n",
    "    fprintf(' %5.1e      %20.18f      %3d\\n',delta,Root,fEvals)\n",
    "end"
   ]
  },
  {
   "cell_type": "markdown",
   "metadata": {},
   "source": [
    "### Matlab: Functions as parameters"
   ]
  },
  {
   "cell_type": "code",
   "execution_count": null,
   "metadata": {
    "collapsed": true
   },
   "outputs": [],
   "source": []
  }
 ],
 "metadata": {
  "kernelspec": {
   "display_name": "Python [default]",
   "language": "python",
   "name": "python3"
  },
  "language_info": {
   "codemirror_mode": {
    "name": "ipython",
    "version": 3
   },
   "file_extension": ".py",
   "mimetype": "text/x-python",
   "name": "python",
   "nbconvert_exporter": "python",
   "pygments_lexer": "ipython3",
   "version": "3.5.2"
  }
 },
 "nbformat": 4,
 "nbformat_minor": 1
}
