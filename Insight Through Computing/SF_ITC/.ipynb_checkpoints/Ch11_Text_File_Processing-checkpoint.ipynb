{
 "cells": [
  {
   "cell_type": "markdown",
   "metadata": {},
   "source": [
    "# 11 Text File Processing 255\n",
    "## 11.1 Latitude and Daylight 257\n",
    "### Data Acquisition and Conversion"
   ]
  },
  {
   "cell_type": "code",
   "execution_count": null,
   "metadata": {
    "collapsed": true
   },
   "outputs": [],
   "source": [
    "# %load C11/Eg11_1.m\n",
    "% Script Eg11_1\n",
    "% Examines the accuracy of the simple daylight-predictor model.\n",
    "% Assumes that InsightData is a subdirectory of the working directory.\n",
    "\n",
    "% Data is available for these cities..\n",
    "Cities =  {'Anaheim',  'Anchorage', 'Arlington', 'Athens', 'Atlanta',...\n",
    "    'Baltimore','Bangkok', 'Beijing', 'Berlin', 'Bogata', ...\n",
    "    'Boston', 'BuenosAires', 'Cairo', 'Chicago', 'Cincinnati', ...\n",
    "    'Cleveland', 'Denver', 'Detroit',   'Honolulu',  'Houston', ...\n",
    "    'Ithaca', 'Johannesburg', 'KansasCity', 'Lagos', 'London', ...\n",
    "    'LosAngeles', 'MexicoCity', 'Miami', 'Milwaukee', 'Minneapolis',...\n",
    "    'Moscow',     'NewDelhi',     'NewYork', 'Oakland', 'Paris',...\n",
    "    'Philadelphia', 'Phoenix', 'Pittsburgh', 'RiodeJaneiro', 'Rome',...\n",
    "    'SanFrancisco', 'Seattle', 'Seoul', 'Sydney', 'Tampa',...\n",
    "    'Teheran',  'Tokyo',  'Toronto', 'Washington', 'Wellington'};\n",
    "\n",
    "% Choose a subset of the city indices 1 through 50 to investigate...\n",
    "CityChoices = [4 21 25 33 50];\n",
    "for k = CityChoices\n",
    "    % The sunrise/sunset data for city k...\n",
    "    fn = [ pwd '\\InsightData\\11_1\\' Cities{k}  '.dat'];\n",
    "    % Get the actual and predicted daylight values and display...\n",
    "    [Name,Lat,Long,Hours] = GetRiseSetData(fn);\n",
    "    HoursEst = Daylight(Lat);\n",
    "    err = ceil(max(Hours-HoursEst)*60);\n",
    "    Days = (1:365)';\n",
    "    %    Display...\n",
    "    plot(Days,Hours,'k',Days,HoursEst,'r')\n",
    "    legend('Actual','Model')\n",
    "    title([Name sprintf('  Latitude = %4.1f   Max Error = %1d minutes',...\n",
    "                        Lat,err)])\n",
    "    ylabel('Hours of Sunlight')\n",
    "    axis([0 365 4 20 ]);\n",
    "    set(gca,'Xtick',[31 59 90 120 151 181 212 243 273 304 334],...\n",
    "            'XTickLabel',[]);\n",
    "    grid on\n",
    "    z = 3.5;\n",
    "    text(7,z,'Jan');   text(37,z,'Feb');  text(67,z,'Mar')\n",
    "    text(97,z,'Apr');  text(127,z,'May'); text(157,z,'Jun')\n",
    "    text(187,z,'Jul'); text(217,z,'Aug'); text(253,z,'Sep')\n",
    "    text(283,z,'Oct'); text(313,z,'Nov'); text(343,z,'Dec')\n",
    "    shg\n",
    "    pause(1)\n",
    "end"
   ]
  },
  {
   "cell_type": "markdown",
   "metadata": {},
   "source": [
    "### Matlab: Reading data from a text file\n",
    "## 11.2 Nearby Millions 268\n",
    "### Writing and Representation"
   ]
  },
  {
   "cell_type": "code",
   "execution_count": null,
   "metadata": {
    "collapsed": true
   },
   "outputs": [],
   "source": [
    "# %load C11/Eg11_2.m\n",
    "% Script Eg11_2\n",
    "% Environment for examining the population density factor.\n",
    "\n",
    "% Acquire the data. \n",
    "MakePXYZ();     \n",
    "MakePXYZBmat() \n",
    "[P,x,y,z] = GetPXYZBmat();\n",
    "\n",
    "close all\n",
    "% The distance that defines \"nearby\":\n",
    "Rho = 300;\n",
    "\n",
    "% The number of trials...\n",
    "nTries = 5;\n",
    "for k=1:nTries\n",
    "    figure\n",
    "\n",
    "    % Enter the Q-point and compute its xyz values...\n",
    "    [Lat0,Long0] = USAClick();\n",
    "    [x0,y0,z0] = EarthCartesian(Lat0,Long0);\n",
    "\n",
    "    % Compute the vector of great circle distances to the zipcode areas...\n",
    "    d = 7926*asin(sqrt((x-x0).^2 + (y-y0).^2 + (z-z0).^2)/2);\n",
    "\n",
    "    % Determine the indices associated with the ``nearby'' zipcodes...\n",
    "    i_Rho = find(d<=Rho);\n",
    "\n",
    "    % Sum the associated populations and display...\n",
    "    NearbyPop = sum(P(i_Rho))/10^6;\n",
    "    title(sprintf(...\n",
    "      'Lat = %5.2f  Long = %5.2f  Rho = %3d  NearbyPop = %5.2f million',...\n",
    "      Lat0,Long0,Rho,NearbyPop),'Fontsize',14)\n",
    "    pause(1)\n",
    "end\n",
    "\n",
    "\n",
    "\n"
   ]
  },
  {
   "cell_type": "markdown",
   "metadata": {},
   "source": [
    "## Matlab: Creating .dat and .bin files"
   ]
  },
  {
   "cell_type": "code",
   "execution_count": null,
   "metadata": {
    "collapsed": true
   },
   "outputs": [],
   "source": []
  }
 ],
 "metadata": {
  "kernelspec": {
   "display_name": "Python [default]",
   "language": "python",
   "name": "python3"
  },
  "language_info": {
   "codemirror_mode": {
    "name": "ipython",
    "version": 3
   },
   "file_extension": ".py",
   "mimetype": "text/x-python",
   "name": "python",
   "nbconvert_exporter": "python",
   "pygments_lexer": "ipython3",
   "version": "3.5.2"
  }
 },
 "nbformat": 4,
 "nbformat_minor": 1
}
