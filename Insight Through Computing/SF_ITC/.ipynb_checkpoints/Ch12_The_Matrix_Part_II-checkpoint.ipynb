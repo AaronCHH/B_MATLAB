{
 "cells": [
  {
   "cell_type": "markdown",
   "metadata": {},
   "source": [
    "# 12 The Matrix: Part II 283\n",
    "## 12.1 Saving Private Rainbows 285\n",
    "### Linear Interpolation and Color Mapping"
   ]
  },
  {
   "cell_type": "code",
   "execution_count": null,
   "metadata": {
    "collapsed": true
   },
   "outputs": [],
   "source": [
    "# %load C12/Eg12_1.m\n",
    "% Script Eg12_1\n",
    "% Illustrates MakeColorMap\n",
    "  \n",
    "close all\n",
    "% The endpoint colors...\n",
    "B = [0 0 0; ... \n",
    "     1 0 0; ...\n",
    "     1 1 0; ...\n",
    "     0 1 0; ...\n",
    "     0 1 1; ...\n",
    "     0 0 1; ...\n",
    "     1 0 1; ...\n",
    "     1 0 0; ...\n",
    "     0 0 0];\n",
    "\n",
    " % The in-between color counts...\n",
    "q = [1 9 7 8 12 8 9 1];\n",
    "\n",
    "% Generate and display the color map...\n",
    "C = MakeColorMap(B,q);\n",
    "ShowColorMap(C)"
   ]
  },
  {
   "cell_type": "markdown",
   "metadata": {},
   "source": [
    "### Matlab: row-by-row matrix setup\n",
    "## 12.2 Known on the Corner 292\n",
    "### Bilinear Interpolation and Shading"
   ]
  },
  {
   "cell_type": "code",
   "execution_count": null,
   "metadata": {
    "collapsed": true
   },
   "outputs": [],
   "source": [
    "# %load C11/Eg11_2.m\n",
    "% Script Eg11_2\n",
    "% Environment for examining the population density factor.\n",
    "\n",
    "% Acquire the data. \n",
    "MakePXYZ();     \n",
    "MakePXYZBmat() \n",
    "[P,x,y,z] = GetPXYZBmat();\n",
    "\n",
    "close all\n",
    "% The distance that defines \"nearby\":\n",
    "Rho = 300;\n",
    "\n",
    "% The number of trials...\n",
    "nTries = 5;\n",
    "for k=1:nTries\n",
    "    figure\n",
    "\n",
    "    % Enter the Q-point and compute its xyz values...\n",
    "    [Lat0,Long0] = USAClick();\n",
    "    [x0,y0,z0] = EarthCartesian(Lat0,Long0);\n",
    "\n",
    "    % Compute the vector of great circle distances to the zipcode areas...\n",
    "    d = 7926*asin(sqrt((x-x0).^2 + (y-y0).^2 + (z-z0).^2)/2);\n",
    "\n",
    "    % Determine the indices associated with the ``nearby'' zipcodes...\n",
    "    i_Rho = find(d<=Rho);\n",
    "\n",
    "    % Sum the associated populations and display...\n",
    "    NearbyPop = sum(P(i_Rho))/10^6;\n",
    "    title(sprintf(...\n",
    "      'Lat = %5.2f  Long = %5.2f  Rho = %3d  NearbyPop = %5.2f million',...\n",
    "      Lat0,Long0,Rho,NearbyPop),'Fontsize',14)\n",
    "    pause(1)\n",
    "end\n",
    "\n",
    "\n",
    "\n"
   ]
  },
  {
   "cell_type": "markdown",
   "metadata": {},
   "source": [
    "### Matlab: from f(x, y) to F(i,j)\n",
    "## 12.3 Seven-by-Five 299\n",
    "### Image Digitization"
   ]
  },
  {
   "cell_type": "code",
   "execution_count": null,
   "metadata": {
    "collapsed": true
   },
   "outputs": [],
   "source": [
    "# %load C12/Eg12_3.m\n",
    "% Script Eg12_3\n",
    "% Environment for designing 14-by-10 dot matrix representations of the\n",
    "% ten digits.\n",
    "\n",
    "close all\n",
    "% Get the 7-by-5 representations...\n",
    "SevenByFive = TheDigits();\n",
    "\n",
    "% Improve the 14-by-10's...\n",
    "FourteenByTen = cell(10,1);\n",
    "for k=1:3\n",
    "    figure\n",
    "    set(gcf,'position',[20,20,800,600])\n",
    "    axis equal off\n",
    "    hold on\n",
    "    %    Design and  save the k-th digit...\n",
    "    FourteenByTen{k} = Refine(SevenByFive{k});\n",
    "    close\n",
    "end\n",
    "\n",
    "% Display the 7-by-5's and 14-by-10's side-by-side...\n",
    "figure\n",
    "axis([1 11 -1.3 1.3])\n",
    "set(gcf,'position',[20,20,800,600])\n",
    "axis equal off\n",
    "hold on\n",
    "for k=1:10\n",
    "    DrawDigit(k,1,1,SevenByFive{k},0)\n",
    "    DrawDigit(k,-1.3,1,FourteenByTen{k},0)\n",
    "end"
   ]
  },
  {
   "cell_type": "markdown",
   "metadata": {},
   "source": [
    "### Matlab: Cell arrays of matrices\n",
    "## 12.4 Picture This 306\n",
    "### Working with Image Data Files"
   ]
  },
  {
   "cell_type": "code",
   "execution_count": null,
   "metadata": {
    "collapsed": true
   },
   "outputs": [],
   "source": [
    "# %load C12/Eg12_4.m\n",
    "% Script Eg12_4\n",
    "% Illustrates median filtering and edge detection.\n",
    "close all\n",
    "% Acquire and show the original color image...\n",
    "A = imread([pwd '\\InsightData\\12_4\\Cornell_Clock.jpg'],'jpg');\n",
    "imshow(A)\n",
    "\n",
    "% Turn into black-and-white, display, and save...\n",
    "B = rgb2gray(A);\n",
    "figure; imshow(B)\n",
    "imwrite(B,[pwd '\\MyData\\Cornell_Clock_Gray.jpg'],'jpg')\n",
    "\n",
    "% Extract a portion of the black-and-white image, add some noise,\n",
    "% and observe the effect of median filtering...\n",
    "figure\n",
    "C = B(850:1150,2350:2650);\n",
    "for k=1:200\n",
    "    i = floor(1+rand(1)*299); j = floor(1+rand(1)*299);\n",
    "    C(i:i+1,j:j+1) = floor(10*rand(2,2));\n",
    "end\n",
    "imshow(C)\n",
    "\n",
    "figure\n",
    "D = MedianFilter(C);\n",
    "imshow(D)\n",
    "\n",
    "% Find and display the edges in the black-and-white image...\n",
    "figure\n",
    "jpegIn  = [pwd '\\InsightData\\12_4\\Cornell_Clock.jpg'];\n",
    "jpegOut = [pwd '\\MyData\\Cornell_Clock_Edges.jpg'];\n",
    "for tau = 30:10:50\n",
    "    Edges(jpegIn,jpegOut,tau);\n",
    "    imshow(imread(jpegOut))\n",
    "    title(sprintf('Tau = %2d',tau),'Fontsize',14)\n",
    "    pause\n",
    "end"
   ]
  },
  {
   "cell_type": "markdown",
   "metadata": {},
   "source": [
    "### Matlab: imread, imwrite, more practice with matrices"
   ]
  },
  {
   "cell_type": "code",
   "execution_count": null,
   "metadata": {
    "collapsed": true
   },
   "outputs": [],
   "source": []
  }
 ],
 "metadata": {
  "anaconda-cloud": {},
  "kernelspec": {
   "display_name": "Python [default]",
   "language": "python",
   "name": "python3"
  },
  "language_info": {
   "codemirror_mode": {
    "name": "ipython",
    "version": 3
   },
   "file_extension": ".py",
   "mimetype": "text/x-python",
   "name": "python",
   "nbconvert_exporter": "python",
   "pygments_lexer": "ipython3",
   "version": "3.5.2"
  }
 },
 "nbformat": 4,
 "nbformat_minor": 1
}
