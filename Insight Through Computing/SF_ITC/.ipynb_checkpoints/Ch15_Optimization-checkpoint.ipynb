{
 "cells": [
  {
   "cell_type": "markdown",
   "metadata": {},
   "source": [
    "# 15 Optimization 363\n",
    "## 15.1 Shortest Route 365\n",
    "### The Combinatoric Explosion"
   ]
  },
  {
   "cell_type": "code",
   "execution_count": null,
   "metadata": {
    "collapsed": true
   },
   "outputs": [],
   "source": [
    "# %load C15/Eg15_1.m\n",
    "% Script Eg15_1\n",
    "% Heuristic solution of the traveling salesperson problem.\n",
    "\n",
    "% Get the data and set up the distance matrix...\n",
    "City = Capitals;\n",
    "D = CityDistTable(City);\n",
    "\n",
    "Shortest = inf;\n",
    "% Examine the route obtained for each possible starting city...\n",
    "for StartCity = 1:48\n",
    "    [S,Odom] = Route(StartCity,D);\n",
    "    if Odom(49) < Shortest\n",
    "        % A new best route discovered. Display...\n",
    "        Shortest = Odom(49);\n",
    "        clc\n",
    "        disp('       Stop              Odometer')\n",
    "        disp('---------------------------------')\n",
    "        for k=1:49\n",
    "            disp([City(S(k)).Name  sprintf(' %6.0f',Odom(k)) ])\n",
    "        end\n",
    "        pause\n",
    "    end\n",
    "end\n",
    "\n",
    "\n",
    "\n",
    "\n",
    "\n",
    "\n",
    "\n",
    "\n",
    "\n",
    "\n",
    "\n",
    "\n",
    "\n"
   ]
  },
  {
   "cell_type": "markdown",
   "metadata": {},
   "source": [
    "### Matlab: More practice with arrays\n",
    "## 15.2 Best Bike 372\n",
    "### Constraints and Objective Functions"
   ]
  },
  {
   "cell_type": "code",
   "execution_count": null,
   "metadata": {
    "collapsed": true
   },
   "outputs": [],
   "source": [
    "# %load C15/Eg15_2.m\n",
    "% Script Eg15_2\n",
    "% Find the best bike.\n",
    "\n",
    "% Initial guess for w(2:6)...\n",
    "wTilde(2:6) = [ 22 16 15 14 13];\n",
    "B = BestBike(wTilde);\n",
    "its = 1;\n",
    "clc\n",
    "while its==1 || (diff>0 && its<=10)\n",
    "    % Display the current best bike...\n",
    "    fprintf('\\n\\n\\nPedal Sprockets = [ %2d  %2d  %2d ]\\n',B.p)\n",
    "    fprintf('Wheel Sprockets = [ %2d  %2d  %2d  %2d  %2d  %2d  %2d ]\\n',B.w)\n",
    "    fprintf('wTilde(2:6)     =       %2d  %2d  %2d  %2d  %2d \\n\\n',wTilde(2:6))\n",
    "    disp(' pedal  wheel     ratio')\n",
    "    disp('-----------------------')\n",
    "    for k=1:21\n",
    "        fprintf('  %2d     %2d      %6.3f\\n',B.G(k).i,B.G(k).j,B.G(k).r)\n",
    "    end\n",
    "    fprintf('\\nphi = %6.3f\\n',B.phiVal)\n",
    "\n",
    "    % Revise the search space and try again...\n",
    "    wTildeNew(2:6) = [B.w(2) B.w(3) B.w(4) B.w(5) B.w(6)];\n",
    "    diff = max(abs(wTildeNew(2:6) - wTilde(2:6)));\n",
    "    wTilde = wTildeNew;\n",
    "    B = BestBike(wTilde);\n",
    "    phiOld = B.phiVal;\n",
    "    its = its + 1;\n",
    "end\n"
   ]
  },
  {
   "cell_type": "markdown",
   "metadata": {},
   "source": [
    "### Matlab: More complicated nested loops\n",
    "## 15.3 Most Likely Orbit 381\n",
    "### Model Building"
   ]
  },
  {
   "cell_type": "code",
   "execution_count": null,
   "metadata": {
    "collapsed": true
   },
   "outputs": [],
   "source": [
    "# %load C15/Eg15_3.m\n",
    "% Script Eg15_3\n",
    "% Fitting an ellipse to data\n",
    "\n",
    "% Generate noisy orbit data...\n",
    "NoiseFactor = .2;\n",
    "P = 1; A = 6; theta = pi/6;\n",
    "n = 20; t = linspace(0,2*pi,n);\n",
    "x1 = (P-A)/2 + ((P+A)/2)*cos(t);   y1 = sqrt(A*P)*sin(t);\n",
    "x = cos(theta)*x1 - sin(theta)*y1; y = sin(theta)*x1 + cos(theta)*y1;\n",
    "x = x + NoiseFactor*randn(1,n);    y = y + NoiseFactor*randn(1,n);\n",
    "\n",
    "% Solicit and display the first approximation...\n",
    "close all; axis equal off; hold on\n",
    "plot(x,y,'or',0,0,'*k')\n",
    "[alpha,beta,sbar,phiValBest] = GetFocusAndString(x,y);\n",
    "ShowEllipse(alpha,beta,sbar,phiValBest)\n",
    "\n",
    "% Try to improve the fit...\n",
    "nTries = 10;\n",
    "for Try = 2:nTries\n",
    "   [alpha,beta,stilde,phiVal] = GetFocusAndString(x,y);\n",
    "   if phiVal < phiValBest\n",
    "       % Redisplay if an improvement...\n",
    "       phiValBest = phiVal;\n",
    "       close all; axis equal off; hold on\n",
    "       plot(x,y,'or',0,0,'*k')\n",
    "       ShowEllipse(alpha,beta,sbar,phiValBest)\n",
    "   end\n",
    "end"
   ]
  },
  {
   "cell_type": "markdown",
   "metadata": {},
   "source": [
    "### Matlab: Interactive search"
   ]
  },
  {
   "cell_type": "code",
   "execution_count": null,
   "metadata": {
    "collapsed": true
   },
   "outputs": [],
   "source": []
  }
 ],
 "metadata": {
  "kernelspec": {
   "display_name": "Python [default]",
   "language": "python",
   "name": "python3"
  },
  "language_info": {
   "codemirror_mode": {
    "name": "ipython",
    "version": 3
   },
   "file_extension": ".py",
   "mimetype": "text/x-python",
   "name": "python",
   "nbconvert_exporter": "python",
   "pygments_lexer": "ipython3",
   "version": "3.5.2"
  }
 },
 "nbformat": 4,
 "nbformat_minor": 1
}
