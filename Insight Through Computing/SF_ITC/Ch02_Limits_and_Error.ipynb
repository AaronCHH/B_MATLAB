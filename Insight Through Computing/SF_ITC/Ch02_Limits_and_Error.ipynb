{
 "cells": [
  {
   "cell_type": "markdown",
   "metadata": {},
   "source": [
    "# 2 Limits and Error 27"
   ]
  },
  {
   "cell_type": "markdown",
   "metadata": {},
   "source": [
    "## 2.1 Tiling a Disk 29"
   ]
  },
  {
   "cell_type": "markdown",
   "metadata": {},
   "source": [
    "### Summation"
   ]
  },
  {
   "cell_type": "code",
   "execution_count": null,
   "metadata": {
    "collapsed": true
   },
   "outputs": [],
   "source": [
    "# %load C2/Eg2_1.m\n",
    "% Script Eg2_1\n",
    "% Pi Via Tiling\n",
    "\n",
    "% Enter the disk radius...\n",
    "clc\n",
    "n = input('Enter an  integral radius n: ');\n",
    "\n",
    "% Tile just the first quadrant, then multiply by four...\n",
    "N1 = 0;\n",
    "for k = 1:n\n",
    "    % Add in the number of uncut tiles in row k...\n",
    "    m = floor(sqrt(n^2 - k^2));\n",
    "    N1 = N1 + m;\n",
    "end\n",
    "\n",
    "% Display the estimate...\n",
    "rho_n = 4*N1/n^2;\n",
    "clc\n",
    "fprintf('n      = %1d\\n',n)\n",
    "fprintf('rho_n  = %12.8f\\n',rho_n)\n",
    "fprintf('Error  = %12.8f\\n',abs(pi-rho_n))"
   ]
  },
  {
   "cell_type": "markdown",
   "metadata": {},
   "source": [
    "### Matlab: The for-loop"
   ]
  },
  {
   "cell_type": "markdown",
   "metadata": {},
   "source": [
    "## 2.2 Inside/Outside Polygons 36"
   ]
  },
  {
   "cell_type": "markdown",
   "metadata": {},
   "source": [
    "### Sequences"
   ]
  },
  {
   "cell_type": "code",
   "execution_count": null,
   "metadata": {
    "collapsed": true
   },
   "outputs": [],
   "source": [
    "# %load C2/Eg2_2.m\n",
    "% Script Eg2_2\n",
    "% Pi Via Polygons\n",
    "\n",
    "% Input the iteration parameters...\n",
    "clc\n",
    "delta = input('Enter the error tolerance:');\n",
    "nMax  = input('Enter the iteration bound:');\n",
    "\n",
    "% The triangle case...\n",
    "n = 3;                        % Number of Polygon Edges\n",
    "A_n = (n/2)*sin(2*pi/n);      % Inscribed Area\n",
    "B_n = n*tan(pi/n);            % Circumscribed Area\n",
    "ErrorBound = B_n - A_n;       % The error bound\n",
    "\n",
    "% Iterate while error too big and n sufficiently small...\n",
    "while (ErrorBound  > delta  && n < nMax)\n",
    "    n = n+1;\n",
    "    A_n = (n/2)*sin(2*pi/n);\n",
    "    B_n = n*tan(pi/n);\n",
    "    ErrorBound = B_n - A_n;\n",
    "end\n",
    "\n",
    "% Display the final approximation...\n",
    "nStar = n;\n",
    "rho_nStar = (A_n + B_n)/2;\n",
    "clc\n",
    "fprintf(' delta = %10.3e\\n nStar = %1d\\n nMax  = %1d\\n\\n',...\n",
    "                                               delta,nStar,nMax)\n",
    "fprintf(' rho_nStar = %20.15f\\n Pi        = %20.15f\\n',...\n",
    "                                                   rho_nStar,pi)\n",
    "\n",
    "\n"
   ]
  },
  {
   "cell_type": "markdown",
   "metadata": {},
   "source": [
    "### Matlab: The while-loop"
   ]
  },
  {
   "cell_type": "code",
   "execution_count": null,
   "metadata": {
    "collapsed": true
   },
   "outputs": [],
   "source": []
  }
 ],
 "metadata": {
  "anaconda-cloud": {},
  "kernelspec": {
   "display_name": "Python [default]",
   "language": "python",
   "name": "python3"
  },
  "language_info": {
   "codemirror_mode": {
    "name": "ipython",
    "version": 3
   },
   "file_extension": ".py",
   "mimetype": "text/x-python",
   "name": "python",
   "nbconvert_exporter": "python",
   "pygments_lexer": "ipython3",
   "version": "3.5.2"
  }
 },
 "nbformat": 4,
 "nbformat_minor": 1
}
