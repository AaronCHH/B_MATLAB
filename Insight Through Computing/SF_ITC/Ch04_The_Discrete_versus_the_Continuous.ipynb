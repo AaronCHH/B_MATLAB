{
 "cells": [
  {
   "cell_type": "markdown",
   "metadata": {},
   "source": [
    "# 4 The Discrete versus the Continuous 63\n",
    "## 4.1 Connect the Dots 65"
   ]
  },
  {
   "cell_type": "markdown",
   "metadata": {},
   "source": [
    "### Plotting Continuous Functions"
   ]
  },
  {
   "cell_type": "code",
   "execution_count": null,
   "metadata": {
    "collapsed": true
   },
   "outputs": [],
   "source": [
    "# %load C4/Eg4_1.m\n",
    "% Script Eg4_1\n",
    "% Plots the function f(x) = sin(5x)*exp(x/2)/(1 + x^2) across [-2,3].\n",
    "\n",
    "L = -2;  % Left endpoint\n",
    "R =  3;  % Right endpoint\n",
    "N = 200; % Number of sample points\n",
    "% Obtain the vector of x-values and f-values...\n",
    "x = linspace(L,R,N);\n",
    "y = sin(5*x) .* exp(-x/2) ./ (1 + x.^2);\n",
    "% Plot and label...\n",
    "plot(x,y,[L R],[0 0],':')\n",
    "title('The function f(x) = sin(5x) * exp(x/2) / (1 + x^2)')\n",
    "ylabel('y = f(x)')\n",
    "xlabel('x')"
   ]
  },
  {
   "cell_type": "markdown",
   "metadata": {},
   "source": [
    "### Matlab: Vectors, elementary graphics"
   ]
  },
  {
   "cell_type": "markdown",
   "metadata": {},
   "source": [
    "## 4.2 From Cyan to Magenta 79"
   ]
  },
  {
   "cell_type": "markdown",
   "metadata": {},
   "source": [
    "### Color Computations"
   ]
  },
  {
   "cell_type": "code",
   "execution_count": null,
   "metadata": {
    "collapsed": true
   },
   "outputs": [],
   "source": [
    "# %load C4/Eg4_2.m\n",
    "% Script Eg4_2\n",
    "% Displays interpolants of the colors cyan and magenta\n",
    "\n",
    "% Prepare the figure window...\n",
    "close all\n",
    "figure\n",
    "axis equal off\n",
    "hold on\n",
    "\n",
    "% Color initializations...\n",
    "cyan    = [0 1 1];  % rgb of the \"bottom\" color\n",
    "magenta = [1 0 1];  % rgb of the \"top\" color\n",
    "n = 10;             % the number of \"in between\" colors is n-1\n",
    "x = [0 3 3 0];      % locates the x-values in the tiles\n",
    "y = [0 0 1 1];      % locates the y-values in the tiles\n",
    "\n",
    "% Add colored tiles to the figure window...\n",
    "for j=0:n\n",
    "    % Display the jth tile and its rgb value...\n",
    "    f = j/n;\n",
    "    v = (1-f)*cyan + f*magenta;\n",
    "    fill(x,y+j,v)\n",
    "    text(3.5,j+.5,sprintf('[ %4.2f , %4.2f , %4.2f ]',v(1),v(2),v(3)))\n",
    "end\n",
    "hold off\n",
    "shg\n",
    "\n"
   ]
  },
  {
   "cell_type": "markdown",
   "metadata": {},
   "source": [
    "### Matlab: rgb"
   ]
  },
  {
   "cell_type": "markdown",
   "metadata": {},
   "source": [
    "## 4.3 One Third Plus One Third Is Not Two Thirds 87"
   ]
  },
  {
   "cell_type": "markdown",
   "metadata": {},
   "source": [
    "### The Floating Point Environment"
   ]
  },
  {
   "cell_type": "code",
   "execution_count": null,
   "metadata": {
    "collapsed": true
   },
   "outputs": [],
   "source": [
    "# %load C4/Eg4_3.m\n",
    "% Script Eg4_3\n",
    "% Floating Point Number Facts\n",
    "\n",
    "clc\n",
    "% p = largest positive integer so 1+1/2^p > 1.\n",
    "x=1; p=0; y=1; z=x+y/2;\n",
    "while x~=z\n",
    "    y = y/2;\n",
    "    p = p+1;\n",
    "    z = x+y/2;\n",
    "end\n",
    "fprintf('p = %2.0f   is the largest positive integer so 1+1/2^p > 1.\\n',p)\n",
    "\n",
    "% q = smallest positive integer so 1/2^q = 0.\n",
    "x = 1; q = 0;\n",
    "while x>0\n",
    "    x = x/2;\n",
    "    q = q+1;\n",
    "end;\n",
    "fprintf('q = %2.0f is the smallest positive integer so 1/2^q == 0.\\n',q)\n",
    "\n",
    "% r = smallest positive integer so 2^r = inf.\n",
    "x = 1; r = 0;\n",
    "while x~=inf\n",
    "    x = 2*x;\n",
    "    r = r+1;\n",
    "end\n",
    "fprintf('r = %2.0f is the smallest positive integer so 2^r == inf.\\n',r)\n",
    "\n",
    "\n"
   ]
  },
  {
   "cell_type": "markdown",
   "metadata": {},
   "source": [
    "### Matlab: eps, inf, NaN"
   ]
  }
 ],
 "metadata": {
  "anaconda-cloud": {},
  "kernelspec": {
   "display_name": "Python [default]",
   "language": "python",
   "name": "python3"
  },
  "language_info": {
   "codemirror_mode": {
    "name": "ipython",
    "version": 3
   },
   "file_extension": ".py",
   "mimetype": "text/x-python",
   "name": "python",
   "nbconvert_exporter": "python",
   "pygments_lexer": "ipython3",
   "version": "3.5.2"
  }
 },
 "nbformat": 4,
 "nbformat_minor": 1
}
