{
 "cells": [
  {
   "cell_type": "markdown",
   "metadata": {},
   "source": [
    "# 6 Randomness 129"
   ]
  },
  {
   "cell_type": "markdown",
   "metadata": {},
   "source": [
    "## 6.1 Safety in Numbers 131"
   ]
  },
  {
   "cell_type": "markdown",
   "metadata": {},
   "source": [
    "### Monte Carlo Simulation"
   ]
  },
  {
   "cell_type": "code",
   "execution_count": null,
   "metadata": {
    "collapsed": true
   },
   "outputs": [],
   "source": [
    "# %load C6/Eg6_1.m\n",
    "% Script File: Eg6_1\n",
    "% Pi computation with uniform and normal distributions\n",
    "\n",
    "% Initializations\n",
    "n = 10000; rand('seed',0); randn('seed',0);\n",
    "\n",
    "% Throw Darts Uniformly...\n",
    "x = -1+2*rand(n,1);\n",
    "y = -1+2*rand(n,1);\n",
    "Hits = 0;\n",
    "for k=1:n\n",
    "    % Check the k-th dart throw...\n",
    "    if x(k)^2 + y(k)^2 <= 1\n",
    "        Hits = Hits + 1;\n",
    "    end\n",
    "end\n",
    "piEstU = 4*(Hits/n);\n",
    "\n",
    "% Throw Darts with Aiming...\n",
    "sigma = .4;\n",
    "x = sigma*randn(n,1);\n",
    "y = sigma*randn(n,1);\n",
    "Hits = 0;\n",
    "nSquare = 0;\n",
    "for k=1:n\n",
    "    % Check the k-th dart throw...\n",
    "    if abs(x(k))<=1 && abs(y(k))<=1\n",
    "        nSquare = nSquare + 1;\n",
    "        if x(k)^2 + y(k)^2 <= 1\n",
    "            Hits = Hits + 1;\n",
    "        end\n",
    "    end\n",
    "end\n",
    "piEstN = 4*(Hits/nSquare);\n",
    "\n",
    "% Display the estimates...\n",
    "clc\n",
    "fprintf('n: %1d\\n',n)\n",
    "fprintf('Pi Estimate via Uniform Distribution: %7.5f\\n',piEstU)\n",
    "fprintf('Pi Estimate via N(0,%5.2f)          : %7.5f\\n',sigma,piEstN)\n",
    "\n",
    "\n",
    "\n",
    "\n"
   ]
  },
  {
   "cell_type": "markdown",
   "metadata": {},
   "source": [
    "### Matlab: More practice with boolean expressions"
   ]
  },
  {
   "cell_type": "markdown",
   "metadata": {},
   "source": [
    "## 6.2 Dice and Compass 143"
   ]
  },
  {
   "cell_type": "markdown",
   "metadata": {},
   "source": [
    "### Random Walks"
   ]
  },
  {
   "cell_type": "code",
   "execution_count": null,
   "metadata": {
    "collapsed": true
   },
   "outputs": [],
   "source": [
    "# %load C6/Eg6_2.m\n",
    "% Script Eg6_2\n",
    "% Estimates the average number of hops required for the robot to\n",
    "% reach the boundary.\n",
    "\n",
    "clc\n",
    "disp('   n    Average to Boundary')\n",
    "disp('---------------------------')\n",
    "nTrials = 100;\n",
    "for n = 5:5:50\n",
    "    s = 0;\n",
    "    for k=1:nTrials\n",
    "        [x,y] = RandomWalk2D(n);\n",
    "        s = s+ length(x);\n",
    "    end\n",
    "    ave = s/nTrials;\n",
    "    fprintf(' %3d         %8.3f\\n',n,ave)\n",
    "end\n",
    "fprintf('\\n\\n(Results based on %d trials)\\n',nTrials)"
   ]
  },
  {
   "cell_type": "markdown",
   "metadata": {},
   "source": [
    "### Matlab: More practice with while-loops"
   ]
  },
  {
   "cell_type": "markdown",
   "metadata": {},
   "source": [
    "## 6.3 Order from Chaos 149"
   ]
  },
  {
   "cell_type": "markdown",
   "metadata": {},
   "source": [
    "### Polygon Averaging"
   ]
  },
  {
   "cell_type": "code",
   "execution_count": null,
   "metadata": {
    "collapsed": true
   },
   "outputs": [],
   "source": [
    "# %load C6/Eg6_3.m\n",
    "% Script Eg6_3\n",
    "% Polygon Smoothing\n",
    "\n",
    "% Initializations...\n",
    "close all\n",
    "n = input('Enter the number of polygon edges: ');\n",
    "nSmoothings = input('Enter the number of smoothings: ');\n",
    "\n",
    "% Generate and display a random polygon\n",
    "x = rand(n,1); y = rand(n,1);\n",
    "figure\n",
    "set(gcf,'position',[100 100 1000 500])\n",
    "subplot(1,2,1)\n",
    "plot([x;x(1)],[y;y(1)],'k',x,y,'or')\n",
    "axis tight off\n",
    "title('Original Polygon','FontWeight','bold','FontSize',14)\n",
    "\n",
    "% Repeatedly smooth and display the polygon...\n",
    "for k=1:nSmoothings\n",
    "    subplot(1,2,2)\n",
    "    [x,y] = Smooth(x,y);\n",
    "    plot([x ; x(1)],[y ; y(1)],'k',x,y,'or')\n",
    "    axis tight off\n",
    "    title(sprintf('After %d Smoothings',k), ...\n",
    "          'FontWeight','bold','FontSize',14)\n",
    "    pause(.1)\n",
    "end\n",
    "\n",
    "\n"
   ]
  },
  {
   "cell_type": "markdown",
   "metadata": {},
   "source": [
    "### Matlab: More practice with graphics and vectors"
   ]
  },
  {
   "cell_type": "code",
   "execution_count": null,
   "metadata": {
    "collapsed": true
   },
   "outputs": [],
   "source": []
  }
 ],
 "metadata": {
  "kernelspec": {
   "display_name": "Python [default]",
   "language": "python",
   "name": "python3"
  },
  "language_info": {
   "codemirror_mode": {
    "name": "ipython",
    "version": 3
   },
   "file_extension": ".py",
   "mimetype": "text/x-python",
   "name": "python",
   "nbconvert_exporter": "python",
   "pygments_lexer": "ipython3",
   "version": "3.5.2"
  }
 },
 "nbformat": 4,
 "nbformat_minor": 1
}
