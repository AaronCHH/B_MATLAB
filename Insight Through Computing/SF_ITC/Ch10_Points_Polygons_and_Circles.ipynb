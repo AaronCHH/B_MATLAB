{
 "cells": [
  {
   "cell_type": "markdown",
   "metadata": {},
   "source": [
    "# 10 Points, Polygons, and Circles 227\n",
    "## 10.1 How Far? 229\n",
    "### Distance Metrics"
   ]
  },
  {
   "cell_type": "code",
   "execution_count": null,
   "metadata": {
    "collapsed": true
   },
   "outputs": [],
   "source": [
    "# %load C10/Eg10_1.m\n",
    "% Script Eg10_1\n",
    "% Generates and displays a random point set and its diameter\n",
    "\n",
    "% Set up the figure window...\n",
    "close all\n",
    "figure\n",
    "axis([-.2 1.2 -.2 1.2])\n",
    "hold on\n",
    "\n",
    "% Generate a random point set...\n",
    "n = 100; x = rand(n,1); y = rand(n,1);\n",
    "for i=1:n\n",
    "    P(i) = MakePoint(x(i),y(i));\n",
    "end\n",
    "\n",
    "% Compute the diameter and display...\n",
    "[Q1,Q2] = DiameterPoints(P);\n",
    "plot([Q1.x Q2.x],[Q1.y Q2.y],'r')\n",
    "d = GetDist(Q1,Q2);\n",
    "ShowPointSet(P,'*k')\n",
    "ShowPointSet([Q1 Q2],'or')\n",
    "title(sprintf('Diameter = %5.3f',d),'Fontsize',14)\n",
    "hold off\n"
   ]
  },
  {
   "cell_type": "markdown",
   "metadata": {},
   "source": [
    "### Matlab: Simple structures\n",
    "## 10.2 Fenced in Twice? 237\n",
    "### Intersection"
   ]
  },
  {
   "cell_type": "code",
   "execution_count": null,
   "metadata": {
    "collapsed": true
   },
   "outputs": [],
   "source": [
    "# %load C10/Eg10_2.m\n",
    "% Script Eg10_2\n",
    "% Displays a random set of rectangles and hightlights those\n",
    "%   rectangles that are isolated from all the others\n",
    "\n",
    "% Generate n random rectangles...\n",
    "n = 50;\n",
    "%colors = 'rgbycm';\n",
    "for i=1:n\n",
    "    xc = randn(1); yc = randn(1); \n",
    "    L = .5+.5*rand(1); W = .5+.5*rand(1);\n",
    "    R(i) = MakeRect(xc-L/3,xc+L/3,yc-W/3,yc+W/3);\n",
    "end\n",
    "\n",
    "% Display all the rectangles...\n",
    "close all\n",
    "figure\n",
    "axis equal off\n",
    "hold on\n",
    "for i = 1:n\n",
    "    ShowRect(R(i),'y')\n",
    "end\n",
    "\n",
    "% Determine and highlight the isolated rectangles..\n",
    "i = ListOfDisjoints(R);\n",
    "for k = 1:length(i)\n",
    "    j = i(k);\n",
    "    % Rectangle j is isolated...\n",
    "    ShowRect(R(j),'r')\n",
    "end\n",
    "hold off\n",
    "title(sprintf('Number of Isolated Rectangles = %1d', ...\n",
    "      length(i)),'Fontsize',14)\n",
    "\n"
   ]
  },
  {
   "cell_type": "markdown",
   "metadata": {},
   "source": [
    "### Matlab: More complicated structures, boolean-valued functions\n",
    "## 10.3 Not Perfect? 244\n",
    "### Nearness in Shape"
   ]
  },
  {
   "cell_type": "code",
   "execution_count": null,
   "metadata": {
    "collapsed": true
   },
   "outputs": [],
   "source": [
    "# %load C10/Eg10_3.m\n",
    "% Script Eg10_3\n",
    "% Displays a random triangle and the associate inscribed\n",
    "% and circumscribed circles.\n",
    "\n",
    "% Set up the figure window...\n",
    "close all\n",
    "figure\n",
    "axis equal off\n",
    "hold on\n",
    "\n",
    "% Generate a random triangle and its inscribed and circumscribed\n",
    "% circles...\n",
    "A = MakePoint(rand(1),rand(1));\n",
    "B = MakePoint(rand(1),rand(1));\n",
    "C = MakePoint(rand(1),rand(1));\n",
    "T = MakeTriangle(A,B,C);\n",
    "[C_In,C_Out] = InAndOut(T);\n",
    "\n",
    "% Display...\n",
    "ShowCircle(C_Out,'y')\n",
    "ShowTriangle(T,'k');\n",
    "ShowCircle(C_In,'r')\n",
    "rho = sqrt(1 - (2*C_In.r/C_Out.r)^2);\n",
    "title(sprintf('rho(T) = %5.3f',rho),'Fontsize',14)\n",
    "hold off\n",
    "shg"
   ]
  },
  {
   "cell_type": "markdown",
   "metadata": {},
   "source": [
    "### Matlab: Practice with structures"
   ]
  },
  {
   "cell_type": "code",
   "execution_count": null,
   "metadata": {
    "collapsed": true
   },
   "outputs": [],
   "source": []
  }
 ],
 "metadata": {
  "anaconda-cloud": {},
  "kernelspec": {
   "display_name": "Python [default]",
   "language": "python",
   "name": "python3"
  },
  "language_info": {
   "codemirror_mode": {
    "name": "ipython",
    "version": 3
   },
   "file_extension": ".py",
   "mimetype": "text/x-python",
   "name": "python",
   "nbconvert_exporter": "python",
   "pygments_lexer": "ipython3",
   "version": "3.5.2"
  }
 },
 "nbformat": 4,
 "nbformat_minor": 1
}
