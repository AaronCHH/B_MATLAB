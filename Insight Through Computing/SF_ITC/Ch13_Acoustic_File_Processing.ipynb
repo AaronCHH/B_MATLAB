{
 "cells": [
  {
   "cell_type": "markdown",
   "metadata": {},
   "source": [
    "# 13 Acoustic File Processing 319\n",
    "## 13.1 The Clock Strikes 321\n",
    "### Acquisition and Playback"
   ]
  },
  {
   "cell_type": "code",
   "execution_count": null,
   "metadata": {
    "collapsed": true
   },
   "outputs": [],
   "source": [
    "# %load C13/Eg13_1.m\n",
    "% Script Eg13_1\n",
    "% Creates sound files for each of the twelve clock strikes using the\n",
    "% data in BigBen.wav. \n",
    "\n",
    "close all\n",
    "% Read in the 1 O'clock sound file...\n",
    "fname = [pwd '\\InsightData\\13_1\\BigBen.wav'];\n",
    "[OneOclock,rate] = wavread(fname);\n",
    "n = length(OneOclock);\n",
    "\n",
    "% Display the wave form and click in between the Chimes portion and\n",
    "% the gong portion...\n",
    "plot(OneOclock)\n",
    "title('Click at the beginning of the gong.')\n",
    "[m,y] = ginput(1);\n",
    "m = round(m);\n",
    "Chimes = OneOclock(1:m);\n",
    "Gong = OneOclock(m+1:n);\n",
    "\n",
    "% For each hourly strike, create a .wav file.\n",
    "% Name them BigBen1, BigBen2,...,BigBen12.\n",
    "F = Chimes;\n",
    "for k=1:12\n",
    "    F = [F; Gong];\n",
    "    fname = [pwd '\\MyData\\BigBen' num2str(k) '.wav'];\n",
    "    wavwrite(F,rate,8,fname)\n",
    "end\n",
    "\n",
    "% Play back a chosen subset of the soundtracks...\n",
    "PlayList = [2 3];\n",
    "for k = PlayList\n",
    "     fname = [pwd '\\MyData\\BigBen' num2str(k) '.wav'];\n",
    "    [Oclock,rate] = wavread(fname);\n",
    "    sound(Oclock)\n",
    "end"
   ]
  },
  {
   "cell_type": "markdown",
   "metadata": {},
   "source": [
    "### Matlab: wavread, sound, wavwrite\n",
    "## 13.2 Dial N for Noise 326\n",
    "### Frequency and Sampling"
   ]
  },
  {
   "cell_type": "code",
   "execution_count": null,
   "metadata": {
    "collapsed": true
   },
   "outputs": [],
   "source": [
    "# %load C13/Eg13_2.m\n",
    "% Script Eg13_2\n",
    "% Examines the Touch-tone system in the presence of noise.\n",
    "\n",
    "for Trial = 1:10\n",
    "    close all\n",
    "    % Choose a button at random...\n",
    "    i = ceil(rand*4); \n",
    "    j = ceil(rand*3); \n",
    "    % Generate and the tone...\n",
    "    [tVals,y] = MakeShowPlay(i,j);\n",
    "    % \"Send\" a noisy version...\n",
    "    y = SendNoisy(tVals,y);\n",
    "    % \"Receive\" and decipher...\n",
    "    ShowCosines(y)\n",
    "    pause(2)\n",
    "end\n",
    "\n",
    "\n",
    "\n"
   ]
  },
  {
   "cell_type": "markdown",
   "metadata": {},
   "source": [
    "### Matlab: More practice with vectors"
   ]
  }
 ],
 "metadata": {
  "kernelspec": {
   "display_name": "Python [default]",
   "language": "python",
   "name": "python3"
  },
  "language_info": {
   "codemirror_mode": {
    "name": "ipython",
    "version": 3
   },
   "file_extension": ".py",
   "mimetype": "text/x-python",
   "name": "python",
   "nbconvert_exporter": "python",
   "pygments_lexer": "ipython3",
   "version": "3.5.2"
  }
 },
 "nbformat": 4,
 "nbformat_minor": 1
}
