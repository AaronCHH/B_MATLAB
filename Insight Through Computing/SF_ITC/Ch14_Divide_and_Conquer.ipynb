{
 "cells": [
  {
   "cell_type": "markdown",
   "metadata": {},
   "source": [
    "# 14 Divide and Conquer 335\n",
    "## 14.1 Patterns within Patterns 337\n",
    "### Recursive Tiling"
   ]
  },
  {
   "cell_type": "code",
   "execution_count": null,
   "metadata": {
    "collapsed": false,
    "scrolled": true
   },
   "outputs": [],
   "source": [
    "# %load C14/Eg14_1.m\n",
    "% Script Eg14_1\n",
    "% Illustrates the function MeshTriangle\n",
    "\n",
    "close all\n",
    "x = [0  3  1];\n",
    "y = [0  0  2];\n",
    "for L = 0:4\n",
    "   figure\n",
    "   axis equal off\n",
    "   hold on\n",
    "   MeshTriangle(x,y,L)\n",
    "end\n",
    "\n",
    "\n",
    "\n",
    "\n"
   ]
  },
  {
   "cell_type": "markdown",
   "metadata": {},
   "source": [
    "### Matlab: Recursive functions\n",
    "## 14.2 N and Half N 344\n",
    "### Merge Sort"
   ]
  },
  {
   "cell_type": "code",
   "execution_count": null,
   "metadata": {
    "collapsed": true
   },
   "outputs": [],
   "source": [
    "# %load C14/Eg14_2.m\n",
    "% Script Eg14_2\n",
    "% Benchmarks MergeSortI\n",
    "clc\n",
    "disp('      N       tMerge    tInsert')\n",
    "disp('-----------------------------------')\n",
    "dRange = 14:20;\n",
    "dRange = 10:14;\n",
    "for d = dRange\n",
    "    N = 2^d; x = randn(N,1);\n",
    "    if d<=15\n",
    "        tic;\n",
    "        y = InsertionSort(x);\n",
    "        tInsert = toc;\n",
    "        tic;\n",
    "        y = MergeSortI(x);\n",
    "        tMerge = toc;\n",
    "        fprintf('%10d   %6.3f     %6.3f\\n',N,tMerge,tInsert)\n",
    "    else\n",
    "        tic\n",
    "        y = MergeSortI(x);\n",
    "        tMerge = toc;\n",
    "        fprintf('%10d   %6.3f\\n',N,tMerge)\n",
    "    end\n",
    "end"
   ]
  },
  {
   "cell_type": "markdown",
   "metadata": {},
   "source": [
    "### Matlab: More practice with recursion\n",
    "## 14.3 Looking for Trouble 354\n",
    "### Adaptive Interpolation"
   ]
  },
  {
   "cell_type": "code",
   "execution_count": null,
   "metadata": {
    "collapsed": true
   },
   "outputs": [],
   "source": [
    "# %load C14/Eg14_3.m\n",
    "% Script Eg14_3\n",
    "% Illustrates pwLAdapt with the function Rough on [0,6].\n",
    "close all\n",
    "\n",
    "% Produce a nice \"linspace\" plot...\n",
    "N = 1000;\n",
    "figure\n",
    "set(gcf,'position',[50 50 1000 500])\n",
    "L = 0.0;\n",
    "R = 6.0;\n",
    "x = linspace(L,R,N);\n",
    "y = Rough(x);\n",
    "plot(x,y,'r',[L R],[0 0],'k')\n",
    "axis([L R -10 120])\n",
    "pause(1)\n",
    "\n",
    "% Now show a more efficient distribution of f-evals...\n",
    "tol = (R-L)/(N-1); fL = Rough(L); fR = Rough(R);\n",
    "hold on\n",
    "[x,y] = pwLadapt(@Rough,L,fL,R,fR,tol);\n",
    "plot(x,y,'.k','Markersize',10)\n",
    "title(sprintf('Number of f-Evaluations = %1d',length(x)),'Fontsize',14)\n",
    "pause(1)\n",
    "% And connect...\n",
    "plot(x,y,'k')"
   ]
  },
  {
   "cell_type": "markdown",
   "metadata": {},
   "source": [
    "### Matlab: Still more practice with recursion"
   ]
  },
  {
   "cell_type": "code",
   "execution_count": null,
   "metadata": {
    "collapsed": true
   },
   "outputs": [],
   "source": []
  }
 ],
 "metadata": {
  "anaconda-cloud": {},
  "kernelspec": {
   "display_name": "Python [default]",
   "language": "python",
   "name": "python3"
  },
  "language_info": {
   "codemirror_mode": {
    "name": "ipython",
    "version": 3
   },
   "file_extension": ".py",
   "mimetype": "text/x-python",
   "name": "python",
   "nbconvert_exporter": "python",
   "pygments_lexer": "ipython3",
   "version": "3.5.2"
  }
 },
 "nbformat": 4,
 "nbformat_minor": 1
}
