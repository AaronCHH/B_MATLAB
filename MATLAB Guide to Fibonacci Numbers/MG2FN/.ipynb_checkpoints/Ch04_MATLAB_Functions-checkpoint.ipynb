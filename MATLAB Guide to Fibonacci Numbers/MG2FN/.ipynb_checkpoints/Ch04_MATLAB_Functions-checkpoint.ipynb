{
 "cells": [
  {
   "cell_type": "markdown",
   "metadata": {},
   "source": [
    "# 4. MATLAB Functions "
   ]
  },
  {
   "cell_type": "code",
   "execution_count": 38,
   "metadata": {
    "collapsed": false,
    "scrolled": true
   },
   "outputs": [
    {
     "name": "stdout",
     "output_type": "stream",
     "text": [
      "MATLAB closed\n",
      "Starting MATLAB on ZMQ socket tcp://127.0.0.1:54059\n",
      "Send 'exit' command to kill the server\n",
      "......MATLAB started and connected!\n"
     ]
    }
   ],
   "source": [
    "%reload_ext pymatbridge"
   ]
  },
  {
   "cell_type": "code",
   "execution_count": null,
   "metadata": {
    "collapsed": false
   },
   "outputs": [],
   "source": [
    "%%matlab\n",
    "% This is an example\n",
    "cost = 50\n",
    "profit = 10\n",
    "sale_price = cost + profit"
   ]
  },
  {
   "cell_type": "code",
   "execution_count": null,
   "metadata": {
    "collapsed": true
   },
   "outputs": [],
   "source": [
    "# %load example1.m\n",
    "%%matlab\n",
    "% This is an example\n",
    "cost = 50\n",
    "profit = 10\n",
    "sale_price = cost + profit"
   ]
  },
  {
   "cell_type": "code",
   "execution_count": null,
   "metadata": {
    "collapsed": false
   },
   "outputs": [],
   "source": [
    "%%matlab\n",
    "example1"
   ]
  },
  {
   "cell_type": "code",
   "execution_count": null,
   "metadata": {
    "collapsed": true
   },
   "outputs": [],
   "source": [
    "# %load example2.m\n",
    "% This is an example\n",
    "cost = 50;\n",
    "profit = 10;\n",
    "sale_price = cost + profit"
   ]
  },
  {
   "cell_type": "code",
   "execution_count": null,
   "metadata": {
    "collapsed": false
   },
   "outputs": [],
   "source": [
    "%%matlab\n",
    "example2"
   ]
  },
  {
   "cell_type": "code",
   "execution_count": 39,
   "metadata": {
    "collapsed": false
   },
   "outputs": [
    {
     "data": {
      "text/plain": [
       "\r\n",
       "area =\r\n",
       "\r\n",
       "   28.2743\r\n",
       "\r\n",
       "\r\n",
       "area =\r\n",
       "\r\n",
       "   78.5398\r\n",
       "\r\n"
      ]
     },
     "metadata": {},
     "output_type": "display_data"
    }
   ],
   "source": [
    "%%matlab\n",
    "area(3)\n",
    "area(5)"
   ]
  },
  {
   "cell_type": "code",
   "execution_count": null,
   "metadata": {
    "collapsed": false
   },
   "outputs": [],
   "source": [
    "%%matlab\n",
    "% This is an example\n",
    "cost = 50\n",
    "profit = 10\n",
    "sale_price = cost + profit"
   ]
  },
  {
   "cell_type": "code",
   "execution_count": null,
   "metadata": {
    "collapsed": false
   },
   "outputs": [],
   "source": [
    "%%matlab\n",
    "perimeter(2,3)\n",
    "perimeter(3,7)\n",
    "perimeter(1.2,5.3)   "
   ]
  },
  {
   "cell_type": "code",
   "execution_count": null,
   "metadata": {
    "collapsed": true
   },
   "outputs": [],
   "source": [
    "# %load example3.m\n",
    "for n = 1:10\n",
    "\tx(n) = n^2;\n",
    "end"
   ]
  },
  {
   "cell_type": "code",
   "execution_count": null,
   "metadata": {
    "collapsed": false
   },
   "outputs": [],
   "source": [
    "%%matlab\n",
    "example3\n",
    "x"
   ]
  },
  {
   "cell_type": "code",
   "execution_count": null,
   "metadata": {
    "collapsed": true
   },
   "outputs": [],
   "source": [
    "# %load example4.m\n",
    "for n = 1:3\n",
    "\tfor m = 1:3\n",
    "\t\ty(m,n) = m^2 + m*n + n^2;\n",
    "\tend\n",
    "end"
   ]
  },
  {
   "cell_type": "code",
   "execution_count": null,
   "metadata": {
    "collapsed": false
   },
   "outputs": [],
   "source": [
    "%%matlab\n",
    "example4\n",
    "y"
   ]
  },
  {
   "cell_type": "code",
   "execution_count": null,
   "metadata": {
    "collapsed": false
   },
   "outputs": [],
   "source": [
    "%%matlab\n",
    "example5\n",
    "n\n",
    "tol"
   ]
  },
  {
   "cell_type": "code",
   "execution_count": null,
   "metadata": {
    "collapsed": false
   },
   "outputs": [],
   "source": [
    "%%matlab\n",
    "example6\n",
    "cost"
   ]
  },
  {
   "cell_type": "code",
   "execution_count": 42,
   "metadata": {
    "collapsed": false
   },
   "outputs": [
    {
     "data": {
      "text/plain": [
       "\r\n",
       "cost =\r\n",
       "\r\n",
       "    12\r\n",
       "\r\n",
       "\r\n",
       "cost =\r\n",
       "\r\n",
       "    18\r\n",
       "\r\n",
       "\r\n",
       "cost =\r\n",
       "\r\n",
       "    24\r\n",
       "\r\n",
       "\r\n",
       "cost =\r\n",
       "\r\n",
       "    20\r\n",
       "\r\n"
      ]
     },
     "metadata": {},
     "output_type": "display_data"
    }
   ],
   "source": [
    "%%matlab\n",
    "clc;clear;\n",
    "cost(4)\n",
    "cost(6)\n",
    "cost(8)"
   ]
  },
  {
   "cell_type": "code",
   "execution_count": 43,
   "metadata": {
    "collapsed": false
   },
   "outputs": [
    {
     "data": {
      "text/plain": [
       "\r\n",
       "cost =\r\n",
       "\r\n",
       "    15\r\n",
       "\r\n",
       "\r\n",
       "cost =\r\n",
       "\r\n",
       "    16\r\n",
       "\r\n",
       "\r\n",
       "cost =\r\n",
       "\r\n",
       "    15\r\n",
       "\r\n"
      ]
     },
     "metadata": {},
     "output_type": "display_data"
    }
   ],
   "source": [
    "%%matlab\n",
    "clc;clear;\n",
    "cost2(6)\n",
    "cost2(8)\n",
    "cost2(10)"
   ]
  },
  {
   "cell_type": "code",
   "execution_count": 44,
   "metadata": {
    "collapsed": false
   },
   "outputs": [
    {
     "data": {
      "text/plain": [
       "\r\n",
       "cost =\r\n",
       "\r\n",
       "    15\r\n",
       "\r\n",
       "\r\n",
       "cost =\r\n",
       "\r\n",
       "    16\r\n",
       "\r\n",
       "\r\n",
       "cost =\r\n",
       "\r\n",
       "    15\r\n",
       "\r\n"
      ]
     },
     "metadata": {},
     "output_type": "display_data"
    }
   ],
   "source": [
    "%%matlab\n",
    "clc;clear;\n",
    "cost3(6)\n",
    "cost3(8)\n",
    "cost3(10)"
   ]
  },
  {
   "cell_type": "code",
   "execution_count": null,
   "metadata": {
    "collapsed": true
   },
   "outputs": [],
   "source": []
  }
 ],
 "metadata": {
  "anaconda-cloud": {},
  "kernelspec": {
   "display_name": "Python [default]",
   "language": "python",
   "name": "python3"
  },
  "language_info": {
   "codemirror_mode": {
    "name": "ipython",
    "version": 3
   },
   "file_extension": ".py",
   "mimetype": "text/x-python",
   "name": "python",
   "nbconvert_exporter": "python",
   "pygments_lexer": "ipython3",
   "version": "3.5.2"
  }
 },
 "nbformat": 4,
 "nbformat_minor": 0
}
