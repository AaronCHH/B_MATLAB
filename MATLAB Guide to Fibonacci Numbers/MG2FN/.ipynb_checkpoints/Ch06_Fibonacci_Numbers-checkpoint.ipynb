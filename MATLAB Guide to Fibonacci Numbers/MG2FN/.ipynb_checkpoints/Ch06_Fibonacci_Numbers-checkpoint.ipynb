{
 "cells": [
  {
   "cell_type": "markdown",
   "metadata": {},
   "source": [
    "# 6. Fibonacci Numbers "
   ]
  },
  {
   "cell_type": "code",
   "execution_count": 1,
   "metadata": {
    "collapsed": false,
    "scrolled": true
   },
   "outputs": [
    {
     "name": "stdout",
     "output_type": "stream",
     "text": [
      "Starting MATLAB on ZMQ socket tcp://127.0.0.1:54604\n",
      "Send 'exit' command to kill the server\n",
      "......MATLAB started and connected!\n"
     ]
    }
   ],
   "source": [
    "%load_ext pymatbridge"
   ]
  },
  {
   "cell_type": "code",
   "execution_count": 4,
   "metadata": {
    "collapsed": false,
    "scrolled": true
   },
   "outputs": [
    {
     "data": {
      "text/plain": [
       "['.ipynb_checkpoints',\n",
       " 'Ch06.ipynb',\n",
       " 'fibonacci.m',\n",
       " 'Fig6_1.m',\n",
       " 'Fig6_2.m',\n",
       " 'Fig6_3.m',\n",
       " 'Fig6_4.m',\n",
       " 'Fig9_6.m',\n",
       " 'Matlab.m',\n",
       " '_vti_cnf']"
      ]
     },
     "execution_count": 4,
     "metadata": {},
     "output_type": "execute_result"
    }
   ],
   "source": [
    "import os\n",
    "os.listdir('Ch06/')"
   ]
  },
  {
   "cell_type": "code",
   "execution_count": null,
   "metadata": {
    "collapsed": true
   },
   "outputs": [],
   "source": [
    "# %load Ch06/fibonacci.m\n",
    "function f=fibonacci(n) \n",
    "% This function generates the first n Fibonacci numbers\n",
    "f = zeros(n,1); \n",
    "f(1)=1; f(2)=2; \n",
    "for k = 3:n\n",
    "\tf(k) = f(k-1) + f(k-2); \n",
    "end"
   ]
  },
  {
   "cell_type": "markdown",
   "metadata": {},
   "source": [
    "---"
   ]
  },
  {
   "cell_type": "code",
   "execution_count": 3,
   "metadata": {
    "collapsed": false
   },
   "outputs": [
    {
     "name": "stdout",
     "output_type": "stream",
     "text": [
      "2\n",
      "3\n",
      "5\n",
      "8\n",
      "13\n",
      "21\n",
      "34\n",
      "55\n",
      "89\n",
      "144\n",
      "233\n"
     ]
    }
   ],
   "source": [
    "print(1 + 1)\n",
    "print(2 + 1)\n",
    "print(3 + 2)\n",
    "print(5 + 3)\n",
    "print(8 + 5)\n",
    "print(13 + 8)\n",
    "print(21 + 13)\n",
    "print(34 + 21)\n",
    "print(55 + 34)\n",
    "print(89 + 55)\n",
    "print(144 + 89)"
   ]
  },
  {
   "cell_type": "code",
   "execution_count": 8,
   "metadata": {
    "collapsed": false
   },
   "outputs": [
    {
     "data": {
      "text/plain": [
       "\r\n",
       "ans =\r\n",
       "\r\n",
       "     1\r\n",
       "     2\r\n",
       "     3\r\n",
       "     5\r\n",
       "     8\r\n",
       "    13\r\n",
       "    21\r\n",
       "\r\n",
       "\r\n",
       "ans =\r\n",
       "\r\n",
       "     1\r\n",
       "     2\r\n",
       "     3\r\n",
       "     5\r\n",
       "     8\r\n",
       "    13\r\n",
       "    21\r\n",
       "    34\r\n",
       "    55\r\n",
       "    89\r\n",
       "   144\r\n",
       "   233\r\n",
       "   377\r\n",
       "   610\r\n",
       "   987\r\n",
       "\r\n",
       "\r\n",
       "ans =\r\n",
       "\r\n",
       "           1\r\n",
       "           2\r\n",
       "           3\r\n",
       "           5\r\n",
       "           8\r\n",
       "          13\r\n",
       "          21\r\n",
       "          34\r\n",
       "          55\r\n",
       "          89\r\n",
       "         144\r\n",
       "         233\r\n",
       "         377\r\n",
       "         610\r\n",
       "         987\r\n",
       "        1597\r\n",
       "        2584\r\n",
       "        4181\r\n",
       "        6765\r\n",
       "       10946\r\n",
       "       17711\r\n",
       "       28657\r\n",
       "       46368\r\n",
       "       75025\r\n",
       "      121393\r\n",
       "      196418\r\n",
       "      317811\r\n",
       "      514229\r\n",
       "      832040\r\n",
       "     1346269\r\n",
       "\r\n"
      ]
     },
     "metadata": {},
     "output_type": "display_data"
    }
   ],
   "source": [
    "%%matlab\n",
    "fibonacci(7)\n",
    "fibonacci(15)\n",
    "fibonacci(30)"
   ]
  },
  {
   "cell_type": "code",
   "execution_count": 9,
   "metadata": {
    "collapsed": false
   },
   "outputs": [
    {
     "data": {
      "text/plain": [
       "\r\n",
       "ans =\r\n",
       "\r\n",
       "   987\r\n",
       "\r\n"
      ]
     },
     "metadata": {},
     "output_type": "display_data"
    }
   ],
   "source": [
    "%%matlab\n",
    "y = fibonacci(15);\n",
    "y(15)"
   ]
  },
  {
   "cell_type": "code",
   "execution_count": 10,
   "metadata": {
    "collapsed": false
   },
   "outputs": [
    {
     "data": {
      "text/plain": [
       "\r\n",
       "x =\r\n",
       "\r\n",
       "     1     2     3     4     5     6     7     8     9    10\r\n",
       "\r\n",
       "\r\n",
       "y =\r\n",
       "\r\n",
       "     1\r\n",
       "     2\r\n",
       "     3\r\n",
       "     5\r\n",
       "     8\r\n",
       "    13\r\n",
       "    21\r\n",
       "    34\r\n",
       "    55\r\n",
       "    89\r\n",
       "\r\n"
      ]
     },
     "metadata": {},
     "output_type": "display_data"
    },
    {
     "data": {
      "image/png": "[encoded data removed]"
     },
     "metadata": {},
     "output_type": "display_data"
    }
   ],
   "source": [
    "%%matlab\n",
    "x = 1:10\n",
    "y = fibonacci(10)\n",
    "plot(x,y)\n",
    "hold on\n",
    "xlabel('n')\n",
    "ylabel('fibonacci(n)')"
   ]
  },
  {
   "cell_type": "code",
   "execution_count": 11,
   "metadata": {
    "collapsed": false
   },
   "outputs": [
    {
     "data": {
      "image/png": "[encoded data removed]"
     },
     "metadata": {},
     "output_type": "display_data"
    }
   ],
   "source": [
    "%%matlab\n",
    "x = 1:30;\n",
    "y = fibonacci(30);\n",
    "plot(x,y)\n",
    "hold on;\n",
    "xlabel('n')\n",
    "ylabel('fibonacci(n)')"
   ]
  },
  {
   "cell_type": "code",
   "execution_count": 12,
   "metadata": {
    "collapsed": false
   },
   "outputs": [
    {
     "data": {
      "text/plain": [
       "\r\n",
       "ans =\r\n",
       "\r\n",
       "         0\r\n",
       "    0.6931\r\n",
       "    1.0986\r\n",
       "    1.6094\r\n",
       "    2.0794\r\n",
       "    2.5649\r\n",
       "    3.0445\r\n",
       "    3.5264\r\n",
       "    4.0073\r\n",
       "    4.4886\r\n",
       "\r\n"
      ]
     },
     "metadata": {},
     "output_type": "display_data"
    }
   ],
   "source": [
    "%%matlab\n",
    "log(fibonacci(10))"
   ]
  },
  {
   "cell_type": "code",
   "execution_count": 13,
   "metadata": {
    "collapsed": false
   },
   "outputs": [
    {
     "data": {
      "image/png": "[encoded data removed]"
     },
     "metadata": {},
     "output_type": "display_data"
    }
   ],
   "source": [
    "%%matlab\n",
    "x = 1:10;\n",
    "y = log(fibonacci(10));\n",
    "plot(x,y)\n",
    "hold on\n",
    "xlabel('n')\n",
    "ylabel('log(F(n))')"
   ]
  },
  {
   "cell_type": "code",
   "execution_count": 14,
   "metadata": {
    "collapsed": false
   },
   "outputs": [
    {
     "data": {
      "text/plain": [
       "\r\n",
       "m =\r\n",
       "\r\n",
       "    0.4818\r\n",
       "\r\n"
      ]
     },
     "metadata": {},
     "output_type": "display_data"
    }
   ],
   "source": [
    "%%matlab\n",
    "m = (y(10)-y(5))/(x(10)-x(5))"
   ]
  },
  {
   "cell_type": "code",
   "execution_count": 16,
   "metadata": {
    "collapsed": false,
    "scrolled": true
   },
   "outputs": [
    {
     "data": {
      "image/png": "[encoded data removed]"
     },
     "metadata": {},
     "output_type": "display_data"
    }
   ],
   "source": [
    "%%matlab\n",
    "x = 1:30;\n",
    "y = log(fibonacci(30));\n",
    "plot(x,y)\n",
    "hold on\n",
    "xlabel('n')\n",
    "ylabel('log(F(n))')"
   ]
  },
  {
   "cell_type": "code",
   "execution_count": 17,
   "metadata": {
    "collapsed": false
   },
   "outputs": [
    {
     "data": {
      "text/plain": [
       "\r\n",
       "m =\r\n",
       "\r\n",
       "    0.4812\r\n",
       "\r\n"
      ]
     },
     "metadata": {},
     "output_type": "display_data"
    }
   ],
   "source": [
    "%%matlab\n",
    "m = (y(30)-y(10))/(x(30)-x(10))"
   ]
  },
  {
   "cell_type": "code",
   "execution_count": null,
   "metadata": {
    "collapsed": true
   },
   "outputs": [],
   "source": []
  }
 ],
 "metadata": {
  "anaconda-cloud": {},
  "kernelspec": {
   "display_name": "Python [default]",
   "language": "python",
   "name": "python3"
  },
  "language_info": {
   "codemirror_mode": {
    "name": "ipython",
    "version": 3
   },
   "file_extension": ".py",
   "mimetype": "text/x-python",
   "name": "python",
   "nbconvert_exporter": "python",
   "pygments_lexer": "ipython3",
   "version": "3.5.2"
  }
 },
 "nbformat": 4,
 "nbformat_minor": 0
}
