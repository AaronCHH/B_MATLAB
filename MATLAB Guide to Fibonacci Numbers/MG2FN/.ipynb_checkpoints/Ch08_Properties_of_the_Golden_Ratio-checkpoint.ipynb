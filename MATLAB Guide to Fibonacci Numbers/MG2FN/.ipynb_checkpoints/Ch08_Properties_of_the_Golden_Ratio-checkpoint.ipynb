{
 "cells": [
  {
   "cell_type": "markdown",
   "metadata": {},
   "source": [
    "# 8. Properties of the Golden Ratio "
   ]
  },
  {
   "cell_type": "code",
   "execution_count": 2,
   "metadata": {
    "collapsed": false
   },
   "outputs": [
    {
     "data": {
      "text/plain": [
       "['.ipynb_checkpoints', 'approximate_fib.m', 'Ch08.ipynb', 'fib.m', '_vti_cnf']"
      ]
     },
     "execution_count": 2,
     "metadata": {},
     "output_type": "execute_result"
    }
   ],
   "source": [
    "import os\n",
    "os.listdir('Ch08/')"
   ]
  },
  {
   "cell_type": "code",
   "execution_count": null,
   "metadata": {
    "collapsed": true
   },
   "outputs": [],
   "source": [
    "# %load Ch08/approximate_fib.m\n",
    "function f = approximate_fib(n)\n",
    "% This function generates the nth Fibonacci % number using the approximate formula\n",
    "f = ((1+sqrt(5))^n) /(sqrt(5)*2^n);\n",
    "end"
   ]
  },
  {
   "cell_type": "markdown",
   "metadata": {},
   "source": [
    "---"
   ]
  },
  {
   "cell_type": "code",
   "execution_count": 19,
   "metadata": {
    "collapsed": false,
    "scrolled": true
   },
   "outputs": [
    {
     "name": "stdout",
     "output_type": "stream",
     "text": [
      "MATLAB closed\n",
      "Starting MATLAB on ZMQ socket tcp://127.0.0.1:54983\n",
      "Send 'exit' command to kill the server\n",
      "......MATLAB started and connected!\n"
     ]
    }
   ],
   "source": [
    "%reload_ext pymatbridge   "
   ]
  },
  {
   "cell_type": "code",
   "execution_count": null,
   "metadata": {
    "collapsed": false
   },
   "outputs": [],
   "source": [
    "%%matlab\n",
    "phi = (1+sqrt(5))/2\n",
    "1/phi"
   ]
  },
  {
   "cell_type": "code",
   "execution_count": null,
   "metadata": {
    "collapsed": false
   },
   "outputs": [],
   "source": [
    "%%matlab\n",
    "phi = (1+sqrt(5))/2\n",
    "phi^3\n",
    "phi^2 + phi\n",
    "phi = (1+sqrt(5))/2\n",
    "phi^4\n",
    "phi^3 + phi^2"
   ]
  },
  {
   "cell_type": "code",
   "execution_count": null,
   "metadata": {
    "collapsed": false
   },
   "outputs": [],
   "source": [
    "%%matlab\n",
    "phi = (1+sqrt(5))/2\n",
    "phi^3\n",
    "2*phi + 1\n",
    "phi = (1+sqrt(5))/2\n",
    "phi^4\n",
    "3*phi +2"
   ]
  },
  {
   "cell_type": "code",
   "execution_count": null,
   "metadata": {
    "collapsed": false
   },
   "outputs": [],
   "source": [
    "%%matlab\n",
    "phi = (1+sqrt(5))/2\n",
    "1/phi + 1/phi^2\n",
    "phi = (1+sqrt(5))/2\n",
    "1/phi^2 + 1/phi^3\n",
    "1/phi"
   ]
  },
  {
   "cell_type": "code",
   "execution_count": null,
   "metadata": {
    "collapsed": false
   },
   "outputs": [],
   "source": [
    "%%matlab\n",
    "phi = (1+sqrt(5))/2\n",
    "1/phi^3\n",
    "2/phi -1\n",
    "phi = (1+sqrt(5))/2\n",
    "1/phi^4\n",
    "2 - 3/phi"
   ]
  },
  {
   "cell_type": "code",
   "execution_count": null,
   "metadata": {
    "collapsed": false,
    "scrolled": true
   },
   "outputs": [],
   "source": [
    "%%matlab\n",
    "phi = (1+sqrt(5))/2\n",
    "1/phi + 1/phi^2\n",
    "phi + 1/phi^2\n",
    "phi^2 + 1/phi^2\n",
    "(phi + 1/phi^2)^2\n",
    "(phi + 1/phi)^2\n",
    "phi = (1+sqrt(5))/2\n",
    "phi + 1/phi\n",
    "sqrt(5)\n",
    "phi = (1+sqrt(5))/2\n",
    "1/phi + 1/phi^2 + 1/phi^3 + 1/phi^4 + 1/phi^5 + 1/phi^6"
   ]
  },
  {
   "cell_type": "code",
   "execution_count": 12,
   "metadata": {
    "collapsed": false
   },
   "outputs": [
    {
     "data": {
      "text/plain": [
       "\r\n",
       "ans =\r\n",
       "\r\n",
       "    5.0000\r\n",
       "\r\n",
       "\r\n",
       "ans =\r\n",
       "\r\n",
       "   13.0000\r\n",
       "\r\n",
       "\r\n",
       "ans =\r\n",
       "\r\n",
       "   55.0000\r\n",
       "\r\n",
       "\r\n",
       "ans =\r\n",
       "\r\n",
       "  610.0000\r\n",
       "\r\n"
      ]
     },
     "metadata": {},
     "output_type": "display_data"
    }
   ],
   "source": [
    "%%matlab\n",
    "fib(5)\n",
    "fib(7)\n",
    "fib(10)\n",
    "fib(15)"
   ]
  },
  {
   "cell_type": "code",
   "execution_count": 21,
   "metadata": {
    "collapsed": false
   },
   "outputs": [
    {
     "data": {
      "text/plain": [
       "\r\n",
       "ans =\r\n",
       "\r\n",
       "    0.7236\r\n",
       "\r\n",
       "\r\n",
       "ans =\r\n",
       "\r\n",
       "    1.1708\r\n",
       "\r\n",
       "\r\n",
       "ans =\r\n",
       "\r\n",
       "    1.8944\r\n",
       "\r\n",
       "\r\n",
       "ans =\r\n",
       "\r\n",
       "    3.0652\r\n",
       "\r\n",
       "\r\n",
       "ans =\r\n",
       "\r\n",
       "    4.9597\r\n",
       "\r\n"
      ]
     },
     "metadata": {},
     "output_type": "display_data"
    }
   ],
   "source": [
    "%%matlab\n",
    "approximate_fib(1)\n",
    "approximate_fib(2)\n",
    "approximate_fib(3)\n",
    "approximate_fib(4)\n",
    "approximate_fib(5)"
   ]
  },
  {
   "cell_type": "code",
   "execution_count": 22,
   "metadata": {
    "collapsed": false
   },
   "outputs": [
    {
     "data": {
      "text/plain": [
       "\r\n",
       "ans =\r\n",
       "\r\n",
       "   55.0000\r\n",
       "\r\n",
       "\r\n",
       "ans =\r\n",
       "\r\n",
       "   55.0036\r\n",
       "\r\n",
       "\r\n",
       "ans =\r\n",
       "\r\n",
       "   8.3204e+05\r\n",
       "\r\n",
       "\r\n",
       "ans =\r\n",
       "\r\n",
       "   8.3204e+05\r\n",
       "\r\n"
      ]
     },
     "metadata": {},
     "output_type": "display_data"
    }
   ],
   "source": [
    "%%matlab\n",
    "fib(10)\n",
    "approximate_fib(10)\n",
    "\n",
    "fib(30)\n",
    "approximate_fib(30)"
   ]
  },
  {
   "cell_type": "code",
   "execution_count": null,
   "metadata": {
    "collapsed": true
   },
   "outputs": [],
   "source": []
  }
 ],
 "metadata": {
  "anaconda-cloud": {},
  "kernelspec": {
   "display_name": "Python [default]",
   "language": "python",
   "name": "python3"
  },
  "language_info": {
   "codemirror_mode": {
    "name": "ipython",
    "version": 3
   },
   "file_extension": ".py",
   "mimetype": "text/x-python",
   "name": "python",
   "nbconvert_exporter": "python",
   "pygments_lexer": "ipython3",
   "version": "3.5.2"
  }
 },
 "nbformat": 4,
 "nbformat_minor": 0
}
