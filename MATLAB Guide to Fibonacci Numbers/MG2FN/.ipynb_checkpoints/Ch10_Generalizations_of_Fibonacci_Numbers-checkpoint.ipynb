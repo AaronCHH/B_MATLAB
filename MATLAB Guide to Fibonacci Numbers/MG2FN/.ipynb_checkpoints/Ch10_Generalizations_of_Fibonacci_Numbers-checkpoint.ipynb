{
 "cells": [
  {
   "cell_type": "markdown",
   "metadata": {},
   "source": [
    "# 10. Generalizations of Fibonacci Numbers "
   ]
  },
  {
   "cell_type": "code",
   "execution_count": 1,
   "metadata": {
    "collapsed": false
   },
   "outputs": [
    {
     "data": {
      "text/plain": [
       "['.ipynb_checkpoints',\n",
       " 'Ch10.ipynb',\n",
       " 'heptanacci.m',\n",
       " 'hexanacci.m',\n",
       " 'lucas_ratio.m',\n",
       " 'pentanacci.m',\n",
       " 'tetranacci.m',\n",
       " 'tribonacci.m',\n",
       " '_vti_cnf']"
      ]
     },
     "execution_count": 1,
     "metadata": {},
     "output_type": "execute_result"
    }
   ],
   "source": [
    "import os\n",
    "os.listdir('Ch10/')"
   ]
  },
  {
   "cell_type": "code",
   "execution_count": null,
   "metadata": {
    "collapsed": true
   },
   "outputs": [],
   "source": [
    "# %load Ch10/lucas_ratio.m\n",
    "function r = lucas_ratio(n)\n",
    "    % This function calculates the ratio oftwo % consecutive Lucas numbers\n",
    "    f= zeros(n,1);\n",
    "    r = zeros(n,1);\n",
    "    f(1)=1;\n",
    "    f(2)=3;\n",
    "    \n",
    "    for k = 3:n\n",
    "        f(k) = f(k-1) + f(k-2);\n",
    "        r(k) = f(k)/f(k-1);\n",
    "    end"
   ]
  },
  {
   "cell_type": "code",
   "execution_count": null,
   "metadata": {
    "collapsed": true
   },
   "outputs": [],
   "source": [
    "# %load Ch10/tribonacci.m\n",
    "function f=tribonacci(n)\n",
    "% This function generates the first n tribonacci numbers\n",
    "f= zeros(n,1);\n",
    "f(1)=0;\n",
    "f(2)=0;\n",
    "f(3)=1;\n",
    "for k = 4:n\n",
    "f(k) = f(k-1) + f(k-2) + f(k-3);\n",
    "end"
   ]
  },
  {
   "cell_type": "code",
   "execution_count": null,
   "metadata": {
    "collapsed": true
   },
   "outputs": [],
   "source": [
    "# %load Ch10/tetranacci.m\n",
    "function f=tetranacci(n)\n",
    "% This function generates the first n tetranacci numbers\n",
    "f= zeros(n,1);\n",
    "f(1)=0;\n",
    "f(2)=0;\n",
    "f(3)=0;\n",
    "f(4)=1;\n",
    "for k = 5:n\n",
    "f(k) = f(k-1) + f(k-2) + f(k-3) + f(k-4);\n",
    "end"
   ]
  },
  {
   "cell_type": "code",
   "execution_count": null,
   "metadata": {
    "collapsed": true
   },
   "outputs": [],
   "source": [
    "# %load Ch10/pentanacci.m\n",
    "function f=pentanacci(n)\n",
    "% This function generates the first n pentanacci numbers\n",
    "f= zeros(n,1);\n",
    "f(1)=0;\n",
    "f(2)=0;\n",
    "f(3)=0;\n",
    "f(4)=0;\n",
    "f(5)=1;\n",
    "for k = 6:n\n",
    "f(k) = f(k-1) + f(k-2) + f(k-3) + f(k-4) +f(k-5);\n",
    "end"
   ]
  },
  {
   "cell_type": "code",
   "execution_count": null,
   "metadata": {
    "collapsed": true
   },
   "outputs": [],
   "source": [
    "# %load Ch10/hexanacci.m\n",
    "function f=hexanacci(n)\n",
    "% This function generates the first n hexanacci numbers\n",
    "f= zeros(n,1);\n",
    "f(1)=0;\n",
    "f(2)=0;\n",
    "f(3)=0;\n",
    "f(4)=0;\n",
    "f(5)=0;\n",
    "f(6)=1;\n",
    "for k = 7:n\n",
    "f(k) = f(k-1) + f(k-2) + f(k-3) + f(k-4) + f(k-5) +f(k-6);\n",
    "end"
   ]
  },
  {
   "cell_type": "code",
   "execution_count": null,
   "metadata": {
    "collapsed": true
   },
   "outputs": [],
   "source": [
    "# %load Ch10/heptanacci.m\n",
    "function f=heptanacci(n)\n",
    "% This function generates the first n heptanacci numbers\n",
    "f= zeros(n,1);\n",
    "f(1)=0;\n",
    "f(2)=0;\n",
    "f(3)=0;\n",
    "f(4)=0;\n",
    "f(5)=0;\n",
    "f(6)=0;\n",
    "f(7)=1;\n",
    "for k = 8:n\n",
    "f(k) = f(k-1) + f(k-2) + f(k-3) + f(k-4) + f(k-5) +f(k-6) +f(k-7);\n",
    "end"
   ]
  },
  {
   "cell_type": "markdown",
   "metadata": {},
   "source": [
    "---"
   ]
  },
  {
   "cell_type": "code",
   "execution_count": 1,
   "metadata": {
    "collapsed": false,
    "scrolled": true
   },
   "outputs": [
    {
     "data": {
      "text/plain": [
       "ans =\r\n",
       "\r\n",
       "           0\r\n",
       "           0\r\n",
       "           1\r\n",
       "           1\r\n",
       "           2\r\n",
       "           4\r\n",
       "           7\r\n",
       "          13\r\n",
       "          24\r\n",
       "          44\r\n",
       "          81\r\n",
       "         149\r\n",
       "         274\r\n",
       "         504\r\n",
       "         927\r\n",
       "        1705\r\n",
       "        3136\r\n",
       "        5768\r\n",
       "       10609\r\n",
       "       19513"
      ]
     },
     "execution_count": 1,
     "metadata": {},
     "output_type": "execute_result"
    }
   ],
   "source": [
    "tribonacci(20)"
   ]
  },
  {
   "cell_type": "code",
   "execution_count": 2,
   "metadata": {
    "collapsed": false
   },
   "outputs": [
    {
     "data": {
      "text/plain": [
       "ans =\r\n",
       "\r\n",
       "   1.8393 + 0.0000i\r\n",
       "  -0.4196 - 0.6063i\r\n",
       "  -0.4196 + 0.6063i"
      ]
     },
     "execution_count": 2,
     "metadata": {},
     "output_type": "execute_result"
    }
   ],
   "source": [
    "solve('x^3 -x^2 -x -1=0');\n",
    "double(ans)"
   ]
  },
  {
   "cell_type": "code",
   "execution_count": 1,
   "metadata": {
    "collapsed": false
   },
   "outputs": [
    {
     "data": {
      "text/plain": [
       "ans =\r\n",
       "\r\n",
       "           0\r\n",
       "           0\r\n",
       "           0\r\n",
       "           1\r\n",
       "           1\r\n",
       "           2\r\n",
       "           4\r\n",
       "           8\r\n",
       "          15\r\n",
       "          29\r\n",
       "          56\r\n",
       "         108\r\n",
       "         208\r\n",
       "         401\r\n",
       "         773\r\n",
       "        1490\r\n",
       "        2872\r\n",
       "        5536\r\n",
       "       10671\r\n",
       "       20569"
      ]
     },
     "execution_count": 1,
     "metadata": {},
     "output_type": "execute_result"
    }
   ],
   "source": [
    "tetranacci(20)"
   ]
  },
  {
   "cell_type": "code",
   "execution_count": 2,
   "metadata": {
    "collapsed": false
   },
   "outputs": [
    {
     "data": {
      "text/plain": [
       "ans =\r\n",
       "\r\n",
       "  -0.7748 + 0.0000i\r\n",
       "   1.9276 + 0.0000i\r\n",
       "  -0.0764 + 0.8147i\r\n",
       "  -0.0764 - 0.8147i"
      ]
     },
     "execution_count": 2,
     "metadata": {},
     "output_type": "execute_result"
    }
   ],
   "source": [
    "solve('x^4 - x^3 -x^2 -x -1=0');\n",
    "double(ans)"
   ]
  },
  {
   "cell_type": "code",
   "execution_count": 1,
   "metadata": {
    "collapsed": false
   },
   "outputs": [
    {
     "data": {
      "text/plain": [
       "ans =\r\n",
       "\r\n",
       "           0\r\n",
       "           0\r\n",
       "           0\r\n",
       "           0\r\n",
       "           1\r\n",
       "           1\r\n",
       "           2\r\n",
       "           4\r\n",
       "           8\r\n",
       "          16\r\n",
       "          31\r\n",
       "          61\r\n",
       "         120\r\n",
       "         236\r\n",
       "         464\r\n",
       "         912\r\n",
       "        1793\r\n",
       "        3525\r\n",
       "        6930\r\n",
       "       13624"
      ]
     },
     "execution_count": 1,
     "metadata": {},
     "output_type": "execute_result"
    }
   ],
   "source": [
    "pentanacci(20)"
   ]
  },
  {
   "cell_type": "code",
   "execution_count": 1,
   "metadata": {
    "collapsed": false
   },
   "outputs": [
    {
     "data": {
      "text/plain": [
       "ans =\r\n",
       "\r\n",
       "           0\r\n",
       "           0\r\n",
       "           0\r\n",
       "           0\r\n",
       "           0\r\n",
       "           1\r\n",
       "           1\r\n",
       "           2\r\n",
       "           4\r\n",
       "           8\r\n",
       "          16\r\n",
       "          32\r\n",
       "          63\r\n",
       "         125\r\n",
       "         248\r\n",
       "         492\r\n",
       "         976\r\n",
       "        1936\r\n",
       "        3840\r\n",
       "        7617"
      ]
     },
     "execution_count": 1,
     "metadata": {},
     "output_type": "execute_result"
    }
   ],
   "source": [
    "hexanacci(20)"
   ]
  },
  {
   "cell_type": "code",
   "execution_count": 1,
   "metadata": {
    "collapsed": false
   },
   "outputs": [
    {
     "data": {
      "text/plain": [
       "ans =\r\n",
       "\r\n",
       "           0\r\n",
       "           0\r\n",
       "           0\r\n",
       "           0\r\n",
       "           0\r\n",
       "           0\r\n",
       "           1\r\n",
       "           1\r\n",
       "           2\r\n",
       "           4\r\n",
       "           8\r\n",
       "          16\r\n",
       "          32\r\n",
       "          64\r\n",
       "         127\r\n",
       "         253\r\n",
       "         504\r\n",
       "        1004\r\n",
       "        2000\r\n",
       "        3984"
      ]
     },
     "execution_count": 1,
     "metadata": {},
     "output_type": "execute_result"
    }
   ],
   "source": [
    "heptanacci(20)"
   ]
  },
  {
   "cell_type": "code",
   "execution_count": 2,
   "metadata": {
    "collapsed": false
   },
   "outputs": [
    {
     "data": {
      "text/plain": [
       "ans =\r\n",
       "\r\n",
       "   -0.6180\r\n",
       "    1.6180"
      ]
     },
     "execution_count": 2,
     "metadata": {},
     "output_type": "execute_result"
    }
   ],
   "source": [
    "solve('x^2 - x - 1 = 0');\n",
    "double(ans)"
   ]
  },
  {
   "cell_type": "code",
   "execution_count": 3,
   "metadata": {
    "collapsed": false
   },
   "outputs": [
    {
     "data": {
      "text/plain": [
       "ans =\r\n",
       "\r\n",
       "   1.3247 + 0.0000i\r\n",
       "  -0.6624 - 0.5623i\r\n",
       "  -0.6624 + 0.5623i"
      ]
     },
     "execution_count": 3,
     "metadata": {},
     "output_type": "execute_result"
    }
   ],
   "source": [
    "solve('x^3- x - 1 = 0');\n",
    "double(ans)"
   ]
  },
  {
   "cell_type": "code",
   "execution_count": 4,
   "metadata": {
    "collapsed": false
   },
   "outputs": [
    {
     "data": {
      "text/plain": [
       "ans =\r\n",
       "\r\n",
       "   1.4656 + 0.0000i\r\n",
       "  -0.2328 - 0.7926i\r\n",
       "  -0.2328 + 0.7926i"
      ]
     },
     "execution_count": 4,
     "metadata": {},
     "output_type": "execute_result"
    }
   ],
   "source": [
    "solve('x^3- x^2 - 1 = 0');\n",
    "double(ans)"
   ]
  },
  {
   "cell_type": "code",
   "execution_count": 5,
   "metadata": {
    "collapsed": false
   },
   "outputs": [
    {
     "data": {
      "text/plain": [
       "ans =\r\n",
       "\r\n",
       "  -0.7245 + 0.0000i\r\n",
       "   1.2207 + 0.0000i\r\n",
       "  -0.2481 - 1.0340i\r\n",
       "  -0.2481 + 1.0340i"
      ]
     },
     "execution_count": 5,
     "metadata": {},
     "output_type": "execute_result"
    }
   ],
   "source": [
    "solve('x^4- x - 1 = 0');\n",
    "double(ans)"
   ]
  },
  {
   "cell_type": "code",
   "execution_count": 6,
   "metadata": {
    "collapsed": false
   },
   "outputs": [
    {
     "data": {
      "text/plain": [
       "ans =\r\n",
       "\r\n",
       "  -0.8192 + 0.0000i\r\n",
       "   1.3803 + 0.0000i\r\n",
       "   0.2194 + 0.9145i\r\n",
       "   0.2194 - 0.9145i"
      ]
     },
     "execution_count": 6,
     "metadata": {},
     "output_type": "execute_result"
    }
   ],
   "source": [
    "solve('x^4- x^3 - 1 = 0');\n",
    "double(ans)"
   ]
  },
  {
   "cell_type": "code",
   "execution_count": 7,
   "metadata": {
    "collapsed": false
   },
   "outputs": [
    {
     "data": {
      "text/plain": [
       "ans =\r\n",
       "\r\n",
       "   1.1673 + 0.0000i\r\n",
       "   0.1812 - 1.0840i\r\n",
       "  -0.7649 - 0.3525i\r\n",
       "   0.1812 + 1.0840i\r\n",
       "  -0.7649 + 0.3525i"
      ]
     },
     "execution_count": 7,
     "metadata": {},
     "output_type": "execute_result"
    }
   ],
   "source": [
    "solve('x^5- x - 1 = 0');\n",
    "double(ans)"
   ]
  },
  {
   "cell_type": "code",
   "execution_count": 8,
   "metadata": {
    "collapsed": false
   },
   "outputs": [
    {
     "data": {
      "text/plain": [
       "ans =\r\n",
       "\r\n",
       "   1.1939 + 0.0000i\r\n",
       "  -0.7515 + 0.7846i\r\n",
       "  -0.7515 - 0.7846i\r\n",
       "   0.1546 + 0.8281i\r\n",
       "   0.1546 - 0.8281i"
      ]
     },
     "execution_count": 8,
     "metadata": {},
     "output_type": "execute_result"
    }
   ],
   "source": [
    "solve('x^5- x^2 - 1 = 0');\n",
    "double(ans)"
   ]
  },
  {
   "cell_type": "code",
   "execution_count": 9,
   "metadata": {
    "collapsed": false
   },
   "outputs": [
    {
     "data": {
      "text/plain": [
       "ans =\r\n",
       "\r\n",
       "   1.2365 + 0.0000i\r\n",
       "  -0.9590 - 0.4284i\r\n",
       "   0.3408 + 0.7854i\r\n",
       "   0.3408 - 0.7854i\r\n",
       "  -0.9590 + 0.4284i"
      ]
     },
     "execution_count": 9,
     "metadata": {},
     "output_type": "execute_result"
    }
   ],
   "source": [
    "solve('x^5- x^3 - 1 = 0');\n",
    "double(ans)"
   ]
  },
  {
   "cell_type": "code",
   "execution_count": 10,
   "metadata": {
    "collapsed": false
   },
   "outputs": [
    {
     "data": {
      "text/plain": [
       "ans =\r\n",
       "\r\n",
       "   0.5000 - 0.8660i\r\n",
       "   0.5000 + 0.8660i\r\n",
       "   1.3247 + 0.0000i\r\n",
       "  -0.6624 - 0.5623i\r\n",
       "  -0.6624 + 0.5623i"
      ]
     },
     "execution_count": 10,
     "metadata": {},
     "output_type": "execute_result"
    }
   ],
   "source": [
    "solve('x^5- x^4 - 1 = 0');\n",
    "double(ans)"
   ]
  },
  {
   "cell_type": "code",
   "execution_count": null,
   "metadata": {
    "collapsed": true
   },
   "outputs": [],
   "source": []
  }
 ],
 "metadata": {
  "anaconda-cloud": {},
  "kernelspec": {
   "display_name": "Python [default]",
   "language": "python",
   "name": "python3"
  },
  "language_info": {
   "codemirror_mode": {
    "name": "ipython",
    "version": 3
   },
   "file_extension": ".py",
   "mimetype": "text/x-python",
   "name": "python",
   "nbconvert_exporter": "python",
   "pygments_lexer": "ipython3",
   "version": "3.5.2"
  }
 },
 "nbformat": 4,
 "nbformat_minor": 0
}
