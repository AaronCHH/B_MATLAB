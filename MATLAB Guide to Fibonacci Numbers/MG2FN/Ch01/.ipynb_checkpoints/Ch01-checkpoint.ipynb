{
 "cells": [
  {
   "cell_type": "code",
   "execution_count": 3,
   "metadata": {
    "collapsed": false
   },
   "outputs": [
    {
     "name": "stdout",
     "output_type": "stream",
     "text": [
      "Starting MATLAB on ZMQ socket tcp://127.0.0.1:56259\n",
      "Send 'exit' command to kill the server\n",
      "......MATLAB started and connected!\n"
     ]
    }
   ],
   "source": [
    "%load_ext pymatbridge"
   ]
  },
  {
   "cell_type": "code",
   "execution_count": 9,
   "metadata": {
    "collapsed": false
   },
   "outputs": [
    {
     "data": {
      "text/plain": [
       "\r\n",
       "ans =\r\n",
       "\r\n",
       "    11\r\n",
       "\r\n",
       "\r\n",
       "ans =\r\n",
       "\r\n",
       "    0.5000\r\n",
       "\r\n",
       "\r\n",
       "x =\r\n",
       "\r\n",
       "     4\r\n",
       "\r\n",
       "\r\n",
       "ans =\r\n",
       "\r\n",
       "    1.2247\r\n",
       "\r\n",
       "\r\n",
       "w =\r\n",
       "\r\n",
       "   144\r\n",
       "\r\n"
      ]
     },
     "metadata": {},
     "output_type": "display_data"
    }
   ],
   "source": [
    "%%matlab\n",
    "2*3+5\n",
    "cos(60*pi/180)\n",
    "x = 4\n",
    "3/sqrt(2+x)\n",
    "y = 30;\n",
    "z= 8;\n",
    "x = 2; y-z;\n",
    "w = 4*y+3*z"
   ]
  },
  {
   "cell_type": "code",
   "execution_count": 12,
   "metadata": {
    "collapsed": false
   },
   "outputs": [
    {
     "data": {
      "text/plain": [
       "\r\n",
       "x =\r\n",
       "\r\n",
       "     1     2     3     4     5     6     7     8     9    10    11\r\n",
       "\r\n",
       "\r\n",
       "y =\r\n",
       "\r\n",
       "     4     7    12    19    28    39    52    67    84   103   124\r\n",
       "\r\n"
      ]
     },
     "metadata": {},
     "output_type": "display_data"
    },
    {
     "data": {
      "image/png": "[encoded data removed]"
     },
     "metadata": {},
     "output_type": "display_data"
    }
   ],
   "source": [
    "%%matlab\n",
    "x = [1 2 3 4 5 6 7 8 9 10 11]\n",
    "y = x.^2 + 3\n",
    "plot(x,y)"
   ]
  },
  {
   "cell_type": "code",
   "execution_count": 13,
   "metadata": {
    "collapsed": false
   },
   "outputs": [
    {
     "data": {
      "text/plain": [
       "\r\n",
       "ans =\r\n",
       "\r\n",
       "    17    24     1     8    15\r\n",
       "    23     5     7    14    16\r\n",
       "     4     6    13    20    22\r\n",
       "    10    12    19    21     3\r\n",
       "    11    18    25     2     9\r\n",
       "\r\n"
      ]
     },
     "metadata": {},
     "output_type": "display_data"
    }
   ],
   "source": [
    "%%matlab\n",
    "magic(5)"
   ]
  },
  {
   "cell_type": "code",
   "execution_count": null,
   "metadata": {
    "collapsed": true
   },
   "outputs": [],
   "source": []
  }
 ],
 "metadata": {
  "kernelspec": {
   "display_name": "Python 3",
   "language": "python",
   "name": "python3"
  },
  "language_info": {
   "codemirror_mode": {
    "name": "ipython",
    "version": 3
   },
   "file_extension": ".py",
   "mimetype": "text/x-python",
   "name": "python",
   "nbconvert_exporter": "python",
   "pygments_lexer": "ipython3",
   "version": "3.4.3"
  }
 },
 "nbformat": 4,
 "nbformat_minor": 0
}
