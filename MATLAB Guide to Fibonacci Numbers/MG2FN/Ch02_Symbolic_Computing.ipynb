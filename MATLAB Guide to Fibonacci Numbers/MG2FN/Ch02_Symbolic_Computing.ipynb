{
 "cells": [
  {
   "cell_type": "markdown",
   "metadata": {},
   "source": [
    "## 2. Symbolic Computing"
   ]
  },
  {
   "cell_type": "code",
   "execution_count": 1,
   "metadata": {
    "collapsed": false
   },
   "outputs": [
    {
     "name": "stdout",
     "output_type": "stream",
     "text": [
      "Starting MATLAB on ZMQ socket tcp://127.0.0.1:56336\n",
      "Send 'exit' command to kill the server\n",
      "......MATLAB started and connected!\n"
     ]
    }
   ],
   "source": [
    "%load_ext pymatbridge"
   ]
  },
  {
   "cell_type": "code",
   "execution_count": 6,
   "metadata": {
    "collapsed": false
   },
   "outputs": [
    {
     "data": {
      "text/plain": [
       " \r\n",
       "ans =\r\n",
       " \r\n",
       "1/2\r\n",
       " \r\n",
       "\r\n",
       "ans =\r\n",
       "\r\n",
       "    1.1000\r\n",
       "\r\n",
       "\r\n",
       "ans =\r\n",
       "\r\n",
       "    1.1000\r\n",
       "\r\n",
       " \r\n",
       "ans =\r\n",
       " \r\n",
       "11/10\r\n",
       " \r\n"
      ]
     },
     "metadata": {},
     "output_type": "display_data"
    }
   ],
   "source": [
    "%%matlab\n",
    "sym(1/2)\n",
    "1/2+3/5\n",
    "(1/2)+(3/5)\n",
    "sym((1/2)+(3/5))"
   ]
  },
  {
   "cell_type": "code",
   "execution_count": 7,
   "metadata": {
    "collapsed": false
   },
   "outputs": [
    {
     "data": {
      "text/plain": [
       "\r\n",
       "x =\r\n",
       "\r\n",
       "    0.5000\r\n",
       "\r\n",
       "\r\n",
       "y =\r\n",
       "\r\n",
       "    0.6667\r\n",
       "\r\n",
       " \r\n",
       "ans =\r\n",
       " \r\n",
       "1/2\r\n",
       " \r\n",
       " \r\n",
       "ans =\r\n",
       " \r\n",
       "2/3\r\n",
       " \r\n",
       " \r\n",
       "z =\r\n",
       " \r\n",
       "-1/6\r\n",
       " \r\n"
      ]
     },
     "metadata": {},
     "output_type": "display_data"
    }
   ],
   "source": [
    "%%matlab\n",
    "x = 1/2\n",
    "y = 2/3\n",
    "sym(x)\n",
    "sym(y)\n",
    "z = sym(x-y)"
   ]
  },
  {
   "cell_type": "code",
   "execution_count": 10,
   "metadata": {
    "collapsed": false
   },
   "outputs": [
    {
     "data": {
      "text/plain": [
       "\r\n",
       "r =\r\n",
       "\r\n",
       "    2.1429\r\n",
       "\r\n",
       " \r\n",
       "ans =\r\n",
       " \r\n",
       "15/7\r\n",
       " \r\n",
       " \r\n",
       "volume =\r\n",
       " \r\n",
       "(4500*pi)/343\r\n",
       " \r\n",
       "\r\n",
       "ans =\r\n",
       "\r\n",
       "   41.2162\r\n",
       "\r\n"
      ]
     },
     "metadata": {},
     "output_type": "display_data"
    }
   ],
   "source": [
    "%%matlab\n",
    "r = 15/7\n",
    "sym(r)\n",
    "volume = sym(4*pi*r^3/3)\n",
    "double(volume)"
   ]
  },
  {
   "cell_type": "code",
   "execution_count": 12,
   "metadata": {
    "collapsed": false
   },
   "outputs": [
    {
     "data": {
      "text/plain": [
       " \r\n",
       "x =\r\n",
       " \r\n",
       "x\r\n",
       " \r\n",
       " \r\n",
       "this =\r\n",
       " \r\n",
       "this\r\n",
       " \r\n"
      ]
     },
     "metadata": {},
     "output_type": "display_data"
    }
   ],
   "source": [
    "%%matlab\n",
    "x = sym('x')\n",
    "this = sym('this')"
   ]
  },
  {
   "cell_type": "code",
   "execution_count": null,
   "metadata": {
    "collapsed": true
   },
   "outputs": [],
   "source": []
  }
 ],
 "metadata": {
  "kernelspec": {
   "display_name": "Python [default]",
   "language": "python",
   "name": "python3"
  },
  "language_info": {
   "codemirror_mode": {
    "name": "ipython",
    "version": 3
   },
   "file_extension": ".py",
   "mimetype": "text/x-python",
   "name": "python",
   "nbconvert_exporter": "python",
   "pygments_lexer": "ipython3",
   "version": "3.5.2"
  }
 },
 "nbformat": 4,
 "nbformat_minor": 0
}
