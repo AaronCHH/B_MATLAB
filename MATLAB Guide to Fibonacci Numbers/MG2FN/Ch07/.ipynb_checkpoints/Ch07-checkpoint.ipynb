{
 "cells": [
  {
   "cell_type": "code",
   "execution_count": 1,
   "metadata": {
    "collapsed": false
   },
   "outputs": [
    {
     "name": "stdout",
     "output_type": "stream",
     "text": [
      "Starting MATLAB on ZMQ socket tcp://127.0.0.1:54702\n",
      "Send 'exit' command to kill the server\n",
      "......MATLAB started and connected!\n"
     ]
    }
   ],
   "source": [
    "%load_ext pymatbridge"
   ]
  },
  {
   "cell_type": "code",
   "execution_count": 2,
   "metadata": {
    "collapsed": false
   },
   "outputs": [
    {
     "name": "stdout",
     "output_type": "stream",
     "text": [
      "1.0\n",
      "2.0\n",
      "1.5\n",
      "1.6666666666666667\n",
      "1.6\n",
      "1.625\n",
      "1.6153846153846154\n",
      "1.619047619047619\n",
      "1.6176470588235294\n",
      "1.6181818181818182\n",
      "1.6179775280898876\n",
      "1.6180555555555556\n",
      "1.6180257510729614\n",
      "1.6180371352785146\n",
      "1.618032786885246\n"
     ]
    }
   ],
   "source": [
    "print(1/1)\n",
    "print(2/1)\n",
    "print(3/2)\n",
    "print(5/3)\n",
    "print(8/5)\n",
    "print(13/8)\n",
    "print(21/13)\n",
    "print(34/21)\n",
    "print(55/34)\n",
    "print(89/55)\n",
    "print(144/89)\n",
    "print(233/144)\n",
    "print(377/233)\n",
    "print(610/377)\n",
    "print(987/610)"
   ]
  },
  {
   "cell_type": "code",
   "execution_count": 3,
   "metadata": {
    "collapsed": false
   },
   "outputs": [
    {
     "data": {
      "text/plain": [
       "\r\n",
       "ans =\r\n",
       "\r\n",
       "         0\r\n",
       "         0\r\n",
       "    1.5000\r\n",
       "    1.6667\r\n",
       "    1.6000\r\n",
       "\r\n"
      ]
     },
     "metadata": {},
     "output_type": "display_data"
    }
   ],
   "source": [
    "%%matlab\n",
    "ratio(5)"
   ]
  },
  {
   "cell_type": "code",
   "execution_count": 4,
   "metadata": {
    "collapsed": false
   },
   "outputs": [
    {
     "data": {
      "text/plain": [
       "\r\n",
       "ans =\r\n",
       "\r\n",
       "         0\r\n",
       "         0\r\n",
       "    1.5000\r\n",
       "    1.6667\r\n",
       "    1.6000\r\n",
       "    1.6250\r\n",
       "    1.6154\r\n",
       "    1.6190\r\n",
       "    1.6176\r\n",
       "    1.6182\r\n",
       "    1.6180\r\n",
       "    1.6181\r\n",
       "    1.6180\r\n",
       "    1.6180\r\n",
       "    1.6180\r\n",
       "\r\n"
      ]
     },
     "metadata": {},
     "output_type": "display_data"
    }
   ],
   "source": [
    "%%matlab\n",
    "ratio(15)"
   ]
  },
  {
   "cell_type": "code",
   "execution_count": 5,
   "metadata": {
    "collapsed": false
   },
   "outputs": [
    {
     "data": {
      "text/plain": [
       "\r\n",
       "ans =\r\n",
       "\r\n",
       "                   0\r\n",
       "                   0\r\n",
       "   1.500000000000000\r\n",
       "   1.666666666666667\r\n",
       "   1.600000000000000\r\n",
       "   1.625000000000000\r\n",
       "   1.615384615384615\r\n",
       "   1.619047619047619\r\n",
       "   1.617647058823529\r\n",
       "   1.618181818181818\r\n",
       "   1.617977528089888\r\n",
       "   1.618055555555556\r\n",
       "   1.618025751072961\r\n",
       "   1.618037135278515\r\n",
       "   1.618032786885246\r\n",
       "   1.618034447821682\r\n",
       "   1.618033813400125\r\n",
       "   1.618034055727554\r\n",
       "   1.618033963166706\r\n",
       "   1.618033998521803\r\n",
       "   1.618033985017358\r\n",
       "   1.618033990175597\r\n",
       "   1.618033988205325\r\n",
       "   1.618033988957902\r\n",
       "   1.618033988670443\r\n",
       "   1.618033988780243\r\n",
       "   1.618033988738303\r\n",
       "   1.618033988754323\r\n",
       "   1.618033988748204\r\n",
       "   1.618033988750541\r\n",
       "\r\n"
      ]
     },
     "metadata": {},
     "output_type": "display_data"
    }
   ],
   "source": [
    "%%matlab\n",
    "format long\n",
    "ratio(30)"
   ]
  },
  {
   "cell_type": "code",
   "execution_count": 7,
   "metadata": {
    "collapsed": false
   },
   "outputs": [
    {
     "data": {
      "image/png": "[encoded data removed]"
     },
     "metadata": {},
     "output_type": "display_data"
    }
   ],
   "source": [
    "%%matlab\n",
    "x = 1:30;\n",
    "y = ratio(30);\n",
    "plot(x,y)\n",
    "hold on;\n",
    "xlabel('n');\n",
    "ylabel('F(n)/F(n-1)')"
   ]
  },
  {
   "cell_type": "code",
   "execution_count": 8,
   "metadata": {
    "collapsed": false
   },
   "outputs": [
    {
     "data": {
      "text/plain": [
       " \r\n",
       "ans =\r\n",
       " \r\n",
       " 1/2 - 5^(1/2)/2\r\n",
       " 5^(1/2)/2 + 1/2\r\n",
       " \r\n"
      ]
     },
     "metadata": {},
     "output_type": "display_data"
    }
   ],
   "source": [
    "%%matlab\n",
    "solve('x^2 - x -1 = 0')"
   ]
  },
  {
   "cell_type": "code",
   "execution_count": 11,
   "metadata": {
    "collapsed": false
   },
   "outputs": [
    {
     "data": {
      "text/plain": [
       "\r\n",
       "ans =\r\n",
       "\r\n",
       "   1.618033988749895\r\n",
       "\r\n"
      ]
     },
     "metadata": {},
     "output_type": "display_data"
    }
   ],
   "source": [
    "%%matlab\n",
    "(1+sqrt(5))/2"
   ]
  },
  {
   "cell_type": "code",
   "execution_count": 12,
   "metadata": {
    "collapsed": false
   },
   "outputs": [
    {
     "data": {
      "text/plain": [
       "\r\n",
       "ans =\r\n",
       "\r\n",
       "   1.618033988749895\r\n",
       "\r\n"
      ]
     },
     "metadata": {},
     "output_type": "display_data"
    }
   ],
   "source": [
    "%%matlab\n",
    "format long\n",
    "(1+sqrt(5))/2"
   ]
  },
  {
   "cell_type": "code",
   "execution_count": 14,
   "metadata": {
    "collapsed": false
   },
   "outputs": [
    {
     "data": {
      "text/plain": [
       "\r\n",
       "ans =\r\n",
       "\r\n",
       "  -0.618033988749895\r\n",
       "\r\n"
      ]
     },
     "metadata": {},
     "output_type": "display_data"
    }
   ],
   "source": [
    "%%matlab\n",
    "(1-sqrt(5))/2"
   ]
  },
  {
   "cell_type": "code",
   "execution_count": 16,
   "metadata": {
    "collapsed": false
   },
   "outputs": [
    {
     "data": {
      "text/plain": [
       "\r\n",
       "ans =\r\n",
       "\r\n",
       "  -0.618033988749895\r\n",
       "\r\n"
      ]
     },
     "metadata": {},
     "output_type": "display_data"
    }
   ],
   "source": [
    "%%matlab\n",
    "format long\n",
    "(1-sqrt(5))/2"
   ]
  },
  {
   "cell_type": "code",
   "execution_count": 17,
   "metadata": {
    "collapsed": false
   },
   "outputs": [
    {
     "data": {
      "text/plain": [
       "\r\n",
       "phi =\r\n",
       "\r\n",
       "   1.618033988749895\r\n",
       "\r\n",
       "\r\n",
       "ans =\r\n",
       "\r\n",
       "     0\r\n",
       "\r\n",
       "\r\n",
       "ans =\r\n",
       "\r\n",
       "     0\r\n",
       "\r\n"
      ]
     },
     "metadata": {},
     "output_type": "display_data"
    }
   ],
   "source": [
    "%%matlab\n",
    "phi = (1+sqrt(5))/2\n",
    "phi^2 - phi - 1\n",
    "(1-phi)^2 - (1-phi) - 1"
   ]
  },
  {
   "cell_type": "code",
   "execution_count": null,
   "metadata": {
    "collapsed": true
   },
   "outputs": [],
   "source": []
  }
 ],
 "metadata": {
  "kernelspec": {
   "display_name": "Python 3",
   "language": "python",
   "name": "python3"
  },
  "language_info": {
   "codemirror_mode": {
    "name": "ipython",
    "version": 3
   },
   "file_extension": ".py",
   "mimetype": "text/x-python",
   "name": "python",
   "nbconvert_exporter": "python",
   "pygments_lexer": "ipython3",
   "version": "3.4.3"
  }
 },
 "nbformat": 4,
 "nbformat_minor": 0
}
