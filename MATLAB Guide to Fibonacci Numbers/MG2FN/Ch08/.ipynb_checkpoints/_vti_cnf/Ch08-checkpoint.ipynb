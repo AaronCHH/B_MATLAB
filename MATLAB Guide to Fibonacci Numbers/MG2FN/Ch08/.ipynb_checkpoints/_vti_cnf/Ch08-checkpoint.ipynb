vti_encoding:SR|utf8-nl
vti_timelastmodified:TR|25 Jun 2015 14:54:44 -0000
vti_extenderversion:SR|12.0.0.0
vti_cacheddtm:TX|25 Jun 2015 14:54:44 -0000
vti_filesize:IR|5512
vti_backlinkinfo:VX|
