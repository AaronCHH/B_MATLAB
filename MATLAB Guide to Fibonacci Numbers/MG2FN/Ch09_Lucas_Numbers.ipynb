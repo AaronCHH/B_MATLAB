{
 "cells": [
  {
   "cell_type": "markdown",
   "metadata": {},
   "source": [
    "# 9. Lucas Numbers "
   ]
  },
  {
   "cell_type": "code",
   "execution_count": 1,
   "metadata": {
    "collapsed": false,
    "scrolled": true
   },
   "outputs": [
    {
     "data": {
      "text/plain": [
       "['.ipynb_checkpoints',\n",
       " 'approximate_luc.m',\n",
       " 'Ch09.ipynb',\n",
       " 'Fig.m',\n",
       " 'Fig9_1.m',\n",
       " 'luc.m',\n",
       " 'lucas.m',\n",
       " 'lucas_ratio.m',\n",
       " 'untitled01.m',\n",
       " '_vti_cnf']"
      ]
     },
     "execution_count": 1,
     "metadata": {},
     "output_type": "execute_result"
    }
   ],
   "source": [
    "import os\n",
    "os.listdir('Ch09/')"
   ]
  },
  {
   "cell_type": "code",
   "execution_count": null,
   "metadata": {
    "collapsed": true
   },
   "outputs": [],
   "source": [
    "# %load Ch09/luc.m\n",
    "function f = luc(n)\n",
    "% This function generates the nth Lucas number\n",
    "f = ((1+sqrt(5))/2)^(n-1) + (1-(1+sqrt(5))/2)^(n-1)"
   ]
  },
  {
   "cell_type": "code",
   "execution_count": null,
   "metadata": {
    "collapsed": true
   },
   "outputs": [],
   "source": [
    "# %load Ch09/lucas.m\n",
    "function f=lucas(n) \n",
    "% This function generates the first n Lucas numbers \n",
    "f = zeros(n,1); \n",
    "f(1)=1; \n",
    "f(2)=3; \n",
    "\n",
    "for k = 3:n\n",
    "    f(k) = f(k-1) + f(k-2); \n",
    "end"
   ]
  },
  {
   "cell_type": "code",
   "execution_count": null,
   "metadata": {
    "collapsed": true
   },
   "outputs": [],
   "source": [
    "# %load Ch09/lucas_ratio.m\n",
    "function r = lucas_ratio(n)\n",
    "    % This function calculates the ratio oftwo % consecutive Lucas numbers\n",
    "    f= zeros(n,1);\n",
    "    r = zeros(n,1);\n",
    "    f(1)=1;\n",
    "    f(2)=3;\n",
    "    \n",
    "    for k = 3:n\n",
    "        f(k) = f(k-1) + f(k-2);\n",
    "        r(k) = f(k)/f(k-1);\n",
    "    end"
   ]
  },
  {
   "cell_type": "markdown",
   "metadata": {
    "collapsed": true
   },
   "source": [
    "---"
   ]
  },
  {
   "cell_type": "code",
   "execution_count": 1,
   "metadata": {
    "collapsed": false,
    "scrolled": true
   },
   "outputs": [
    {
     "name": "stdout",
     "output_type": "stream",
     "text": [
      "Starting MATLAB on ZMQ socket tcp://127.0.0.1:55809\n",
      "Send 'exit' command to kill the server\n",
      "......MATLAB started and connected!\n"
     ]
    }
   ],
   "source": [
    "%load_ext pymatbridge"
   ]
  },
  {
   "cell_type": "code",
   "execution_count": 16,
   "metadata": {
    "collapsed": false
   },
   "outputs": [
    {
     "data": {
      "text/plain": [
       "ans =\r\n",
       "\r\n",
       "     4\r\n",
       "\r\n",
       "\r\n",
       "ans =\r\n",
       "\r\n",
       "     7\r\n",
       "\r\n",
       "\r\n",
       "ans =\r\n",
       "\r\n",
       "    11\r\n",
       "\r\n",
       "\r\n",
       "ans =\r\n",
       "\r\n",
       "    18\r\n",
       "\r\n",
       "\r\n",
       "ans =\r\n",
       "\r\n",
       "    29\r\n",
       "\r\n",
       "\r\n",
       "ans =\r\n",
       "\r\n",
       "    47\r\n",
       "\r\n",
       "\r\n",
       "ans =\r\n",
       "\r\n",
       "    76\r\n",
       "\r\n",
       "\r\n",
       "ans =\r\n",
       "\r\n",
       "   123"
      ]
     },
     "execution_count": 16,
     "metadata": {},
     "output_type": "execute_result"
    }
   ],
   "source": [
    "1+3\n",
    "3+4\n",
    "4+7\n",
    "7+11\n",
    "11+18\n",
    "18+29\n",
    "29+47\n",
    "47+76"
   ]
  },
  {
   "cell_type": "code",
   "execution_count": 12,
   "metadata": {
    "collapsed": false
   },
   "outputs": [
    {
     "data": {
      "text/plain": [
       "ans =\r\n",
       "\r\n",
       "     1\r\n",
       "     3\r\n",
       "     4\r\n",
       "     7\r\n",
       "    11\r\n",
       "    18\r\n",
       "    29"
      ]
     },
     "execution_count": 12,
     "metadata": {},
     "output_type": "execute_result"
    }
   ],
   "source": [
    "lucas(7)"
   ]
  },
  {
   "cell_type": "code",
   "execution_count": 2,
   "metadata": {
    "collapsed": false
   },
   "outputs": [
    {
     "data": {
      "text/plain": [
       "ans =\r\n",
       "\r\n",
       "           1\r\n",
       "           3\r\n",
       "           4\r\n",
       "           7\r\n",
       "          11\r\n",
       "          18\r\n",
       "          29\r\n",
       "          47\r\n",
       "          76\r\n",
       "         123\r\n",
       "         199\r\n",
       "         322\r\n",
       "         521\r\n",
       "         843\r\n",
       "        1364\r\n",
       "        2207\r\n",
       "        3571\r\n",
       "        5778\r\n",
       "        9349\r\n",
       "       15127"
      ]
     },
     "execution_count": 2,
     "metadata": {},
     "output_type": "execute_result"
    }
   ],
   "source": [
    "lucas(20)"
   ]
  },
  {
   "cell_type": "code",
   "execution_count": 3,
   "metadata": {
    "collapsed": false,
    "scrolled": true
   },
   "outputs": [
    {
     "data": {
      "image/png": "[encoded data removed]",
      "text/plain": [
       "<IPython.core.display.Image object>"
      ]
     },
     "metadata": {},
     "output_type": "display_data"
    },
    {
     "data": {
      "text/plain": [
       "x =\r\n",
       "\r\n",
       "     1     2     3     4     5     6     7     8     9    10\r\n",
       "\r\n",
       "\r\n",
       "y =\r\n",
       "\r\n",
       "     1\r\n",
       "     3\r\n",
       "     4\r\n",
       "     7\r\n",
       "    11\r\n",
       "    18\r\n",
       "    29\r\n",
       "    47\r\n",
       "    76\r\n",
       "   123"
      ]
     },
     "execution_count": 3,
     "metadata": {},
     "output_type": "execute_result"
    }
   ],
   "source": [
    "x = 1:10\n",
    "y = lucas(10)\n",
    "plot(x,y)\n",
    "hold on\n",
    "xlabel('n')\n",
    "ylabel('lucas(n)')"
   ]
  },
  {
   "cell_type": "code",
   "execution_count": 4,
   "metadata": {
    "collapsed": false
   },
   "outputs": [
    {
     "data": {
      "image/png": "[encoded data removed]",
      "text/plain": [
       "<IPython.core.display.Image object>"
      ]
     },
     "metadata": {},
     "output_type": "display_data"
    },
    {
     "data": {},
     "execution_count": 4,
     "metadata": {},
     "output_type": "execute_result"
    }
   ],
   "source": [
    "x = 1:30;\n",
    "y = lucas(30);\n",
    "plot(x,y)\n",
    "hold on;\n",
    "xlabel('n')\n",
    "ylabel('lucas(n)')"
   ]
  },
  {
   "cell_type": "code",
   "execution_count": 5,
   "metadata": {
    "collapsed": false
   },
   "outputs": [
    {
     "data": {
      "text/plain": [
       "ans =\r\n",
       "\r\n",
       "         0\r\n",
       "    1.0986\r\n",
       "    1.3863\r\n",
       "    1.9459\r\n",
       "    2.3979\r\n",
       "    2.8904\r\n",
       "    3.3673\r\n",
       "    3.8501\r\n",
       "    4.3307\r\n",
       "    4.8122"
      ]
     },
     "execution_count": 5,
     "metadata": {},
     "output_type": "execute_result"
    }
   ],
   "source": [
    "log(lucas(10))"
   ]
  },
  {
   "cell_type": "code",
   "execution_count": 6,
   "metadata": {
    "collapsed": false
   },
   "outputs": [
    {
     "data": {
      "image/png": "[encoded data removed]",
      "text/plain": [
       "<IPython.core.display.Image object>"
      ]
     },
     "metadata": {},
     "output_type": "display_data"
    },
    {
     "data": {},
     "execution_count": 6,
     "metadata": {},
     "output_type": "execute_result"
    }
   ],
   "source": [
    "x = 1:10;\n",
    "y = log(lucas(10));\n",
    "plot(x,y)\n",
    "hold on\n",
    "xlabel('n')\n",
    "ylabel('log(L(n))')"
   ]
  },
  {
   "cell_type": "code",
   "execution_count": 7,
   "metadata": {
    "collapsed": false
   },
   "outputs": [
    {
     "data": {
      "text/plain": [
       "m =\r\n",
       "\r\n",
       "    0.4829"
      ]
     },
     "execution_count": 7,
     "metadata": {},
     "output_type": "execute_result"
    }
   ],
   "source": [
    "m = (y(10)-y(5))/(x(10)-x(5))"
   ]
  },
  {
   "cell_type": "code",
   "execution_count": 8,
   "metadata": {
    "collapsed": false
   },
   "outputs": [
    {
     "data": {
      "image/png": "[encoded data removed]",
      "text/plain": [
       "<IPython.core.display.Image object>"
      ]
     },
     "metadata": {},
     "output_type": "display_data"
    },
    {
     "data": {},
     "execution_count": 8,
     "metadata": {},
     "output_type": "execute_result"
    }
   ],
   "source": [
    "x = 1:30;\n",
    "y = log(lucas(30));\n",
    "plot(x,y)\n",
    "hold on\n",
    "xlabel('n')\n",
    "ylabel('log(L(n))')"
   ]
  },
  {
   "cell_type": "code",
   "execution_count": 9,
   "metadata": {
    "collapsed": false
   },
   "outputs": [
    {
     "data": {
      "text/plain": [
       "m =\r\n",
       "\r\n",
       "    0.4812"
      ]
     },
     "execution_count": 9,
     "metadata": {},
     "output_type": "execute_result"
    }
   ],
   "source": [
    "m = (y(30)-y(10))/(x(30)-x(10))"
   ]
  },
  {
   "cell_type": "markdown",
   "metadata": {},
   "source": [
    "The ratio of each two consecutive Lucas numbers is calculated using\n",
    "MATLAB as follows:"
   ]
  },
  {
   "cell_type": "code",
   "execution_count": 3,
   "metadata": {
    "collapsed": false
   },
   "outputs": [
    {
     "data": {
      "text/plain": [
       "ans =\r\n",
       "\r\n",
       "    0.5000\r\n",
       "\r\n",
       "\r\n",
       "ans =\r\n",
       "\r\n",
       "     3\r\n",
       "\r\n",
       "\r\n",
       "ans =\r\n",
       "\r\n",
       "    1.3333\r\n",
       "\r\n",
       "\r\n",
       "ans =\r\n",
       "\r\n",
       "    1.7500\r\n",
       "\r\n",
       "\r\n",
       "ans =\r\n",
       "\r\n",
       "    1.5714\r\n",
       "\r\n",
       "\r\n",
       "ans =\r\n",
       "\r\n",
       "    1.6364\r\n",
       "\r\n",
       "\r\n",
       "ans =\r\n",
       "\r\n",
       "    1.6111\r\n",
       "\r\n",
       "\r\n",
       "ans =\r\n",
       "\r\n",
       "    1.6207\r\n",
       "\r\n",
       "\r\n",
       "ans =\r\n",
       "\r\n",
       "    1.6170\r\n",
       "\r\n",
       "\r\n",
       "ans =\r\n",
       "\r\n",
       "    1.6184\r\n",
       "\r\n",
       "\r\n",
       "ans =\r\n",
       "\r\n",
       "    1.6179\r\n",
       "\r\n",
       "\r\n",
       "ans =\r\n",
       "\r\n",
       "    1.6181\r\n",
       "\r\n",
       "\r\n",
       "ans =\r\n",
       "\r\n",
       "    1.6180\r\n",
       "\r\n",
       "\r\n",
       "ans =\r\n",
       "\r\n",
       "    1.6180"
      ]
     },
     "execution_count": 3,
     "metadata": {},
     "output_type": "execute_result"
    }
   ],
   "source": [
    "1/2\n",
    "3/1\n",
    "4/3\n",
    "7/4\n",
    "11/7\n",
    "18/11\n",
    "29/18\n",
    "47/29\n",
    "76/47\n",
    "123/76\n",
    "199/123\n",
    "322/199\n",
    "521/322\n",
    "843/521"
   ]
  },
  {
   "cell_type": "code",
   "execution_count": 1,
   "metadata": {
    "collapsed": false
   },
   "outputs": [
    {
     "data": {
      "text/plain": [
       "ans =\r\n",
       "\r\n",
       "                   0\r\n",
       "                   0\r\n",
       "   1.333333333333333\r\n",
       "   1.750000000000000\r\n",
       "   1.571428571428571\r\n",
       "   1.636363636363637\r\n",
       "   1.611111111111111\r\n",
       "   1.620689655172414\r\n",
       "   1.617021276595745\r\n",
       "   1.618421052631579\r\n",
       "   1.617886178861789\r\n",
       "   1.618090452261306\r\n",
       "   1.618012422360248\r\n",
       "   1.618042226487524\r\n",
       "   1.618030842230130\r\n",
       "   1.618035190615836\r\n",
       "   1.618033529678296\r\n",
       "   1.618034164099692\r\n",
       "   1.618033921772240\r\n",
       "   1.618034014333084\r\n",
       "   1.618033978977986\r\n",
       "   1.618033992482432\r\n",
       "   1.618033987324193\r\n",
       "   1.618033989294465\r\n",
       "   1.618033988541888\r\n",
       "   1.618033988829347\r\n",
       "   1.618033988719547\r\n",
       "   1.618033988761487\r\n",
       "   1.618033988745467\r\n",
       "   1.618033988751586"
      ]
     },
     "execution_count": 1,
     "metadata": {},
     "output_type": "execute_result"
    }
   ],
   "source": [
    "format long\n",
    "lucas_ratio(30)"
   ]
  },
  {
   "cell_type": "code",
   "execution_count": 2,
   "metadata": {
    "collapsed": false
   },
   "outputs": [
    {
     "data": {
      "image/png": "[encoded data removed]",
      "text/plain": [
       "<IPython.core.display.Image object>"
      ]
     },
     "metadata": {},
     "output_type": "display_data"
    },
    {
     "data": {},
     "execution_count": 2,
     "metadata": {},
     "output_type": "execute_result"
    }
   ],
   "source": [
    "x = 1:30;\n",
    "y = lucas_ratio(30);\n",
    "plot(x,y)\n",
    "hold on\n",
    "xlabel('n')\n",
    "ylabel('L(n)/L(n-1)')"
   ]
  },
  {
   "cell_type": "code",
   "execution_count": 3,
   "metadata": {
    "collapsed": false
   },
   "outputs": [
    {
     "data": {
      "text/plain": [
       "phi =\r\n",
       "\r\n",
       "   1.618033988749895\r\n",
       "\r\n",
       "\r\n",
       "L8 =\r\n",
       "\r\n",
       "  29.000000000000007"
      ]
     },
     "execution_count": 3,
     "metadata": {},
     "output_type": "execute_result"
    }
   ],
   "source": [
    "phi = (1+sqrt(5))/2\n",
    "L8 = phi^7 + (1-phi)^7"
   ]
  },
  {
   "cell_type": "code",
   "execution_count": 2,
   "metadata": {
    "collapsed": false
   },
   "outputs": [
    {
     "data": {
      "text/plain": [
       "f =\r\n",
       "\r\n",
       "     3\r\n",
       "\r\n",
       "\r\n",
       "f =\r\n",
       "\r\n",
       "   29.0000\r\n",
       "\r\n",
       "\r\n",
       "f =\r\n",
       "\r\n",
       "  843.0000"
      ]
     },
     "execution_count": 2,
     "metadata": {},
     "output_type": "execute_result"
    }
   ],
   "source": [
    "luc(3);\n",
    "luc(8);\n",
    "luc(15);"
   ]
  },
  {
   "cell_type": "code",
   "execution_count": 1,
   "metadata": {
    "collapsed": false
   },
   "outputs": [
    {
     "data": {
      "text/plain": [
       "ans =\r\n",
       "\r\n",
       "    2.6180\r\n",
       "\r\n",
       "\r\n",
       "ans =\r\n",
       "\r\n",
       "   29.0344\r\n",
       "\r\n",
       "\r\n",
       "ans =\r\n",
       "\r\n",
       "  842.9988"
      ]
     },
     "execution_count": 1,
     "metadata": {},
     "output_type": "execute_result"
    }
   ],
   "source": [
    "approximate_luc(3)\n",
    "approximate_luc(8)\n",
    "approximate_luc(15)"
   ]
  },
  {
   "cell_type": "code",
   "execution_count": null,
   "metadata": {
    "collapsed": true
   },
   "outputs": [],
   "source": []
  }
 ],
 "metadata": {
  "anaconda-cloud": {},
  "kernelspec": {
   "display_name": "Python [default]",
   "language": "python",
   "name": "python3"
  },
  "language_info": {
   "codemirror_mode": {
    "name": "ipython",
    "version": 3
   },
   "file_extension": ".py",
   "mimetype": "text/x-python",
   "name": "python",
   "nbconvert_exporter": "python",
   "pygments_lexer": "ipython3",
   "version": "3.5.2"
  }
 },
 "nbformat": 4,
 "nbformat_minor": 0
}
