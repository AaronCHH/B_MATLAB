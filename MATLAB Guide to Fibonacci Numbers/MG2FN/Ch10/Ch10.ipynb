{
 "cells": [
  {
   "cell_type": "code",
   "execution_count": 1,
   "metadata": {
    "collapsed": false
   },
   "outputs": [
    {
     "data": {
      "text/plain": [
       "ans =\r\n",
       "\r\n",
       "           0\r\n",
       "           0\r\n",
       "           1\r\n",
       "           1\r\n",
       "           2\r\n",
       "           4\r\n",
       "           7\r\n",
       "          13\r\n",
       "          24\r\n",
       "          44\r\n",
       "          81\r\n",
       "         149\r\n",
       "         274\r\n",
       "         504\r\n",
       "         927\r\n",
       "        1705\r\n",
       "        3136\r\n",
       "        5768\r\n",
       "       10609\r\n",
       "       19513"
      ]
     },
     "execution_count": 1,
     "metadata": {},
     "output_type": "execute_result"
    }
   ],
   "source": [
    "tribonacci(20)"
   ]
  },
  {
   "cell_type": "code",
   "execution_count": 2,
   "metadata": {
    "collapsed": false
   },
   "outputs": [
    {
     "data": {
      "text/plain": [
       "ans =\r\n",
       "\r\n",
       "   1.8393 + 0.0000i\r\n",
       "  -0.4196 - 0.6063i\r\n",
       "  -0.4196 + 0.6063i"
      ]
     },
     "execution_count": 2,
     "metadata": {},
     "output_type": "execute_result"
    }
   ],
   "source": [
    "solve('x^3 -x^2 -x -1=0');\n",
    "double(ans)"
   ]
  },
  {
   "cell_type": "code",
   "execution_count": 1,
   "metadata": {
    "collapsed": false
   },
   "outputs": [
    {
     "data": {
      "text/plain": [
       "ans =\r\n",
       "\r\n",
       "           0\r\n",
       "           0\r\n",
       "           0\r\n",
       "           1\r\n",
       "           1\r\n",
       "           2\r\n",
       "           4\r\n",
       "           8\r\n",
       "          15\r\n",
       "          29\r\n",
       "          56\r\n",
       "         108\r\n",
       "         208\r\n",
       "         401\r\n",
       "         773\r\n",
       "        1490\r\n",
       "        2872\r\n",
       "        5536\r\n",
       "       10671\r\n",
       "       20569"
      ]
     },
     "execution_count": 1,
     "metadata": {},
     "output_type": "execute_result"
    }
   ],
   "source": [
    "tetranacci(20)"
   ]
  },
  {
   "cell_type": "code",
   "execution_count": 2,
   "metadata": {
    "collapsed": false
   },
   "outputs": [
    {
     "data": {
      "text/plain": [
       "ans =\r\n",
       "\r\n",
       "  -0.7748 + 0.0000i\r\n",
       "   1.9276 + 0.0000i\r\n",
       "  -0.0764 + 0.8147i\r\n",
       "  -0.0764 - 0.8147i"
      ]
     },
     "execution_count": 2,
     "metadata": {},
     "output_type": "execute_result"
    }
   ],
   "source": [
    "solve('x^4 - x^3 -x^2 -x -1=0');\n",
    "double(ans)"
   ]
  },
  {
   "cell_type": "code",
   "execution_count": 1,
   "metadata": {
    "collapsed": false
   },
   "outputs": [
    {
     "data": {
      "text/plain": [
       "ans =\r\n",
       "\r\n",
       "           0\r\n",
       "           0\r\n",
       "           0\r\n",
       "           0\r\n",
       "           1\r\n",
       "           1\r\n",
       "           2\r\n",
       "           4\r\n",
       "           8\r\n",
       "          16\r\n",
       "          31\r\n",
       "          61\r\n",
       "         120\r\n",
       "         236\r\n",
       "         464\r\n",
       "         912\r\n",
       "        1793\r\n",
       "        3525\r\n",
       "        6930\r\n",
       "       13624"
      ]
     },
     "execution_count": 1,
     "metadata": {},
     "output_type": "execute_result"
    }
   ],
   "source": [
    "pentanacci(20)"
   ]
  },
  {
   "cell_type": "code",
   "execution_count": 1,
   "metadata": {
    "collapsed": false
   },
   "outputs": [
    {
     "data": {
      "text/plain": [
       "ans =\r\n",
       "\r\n",
       "           0\r\n",
       "           0\r\n",
       "           0\r\n",
       "           0\r\n",
       "           0\r\n",
       "           1\r\n",
       "           1\r\n",
       "           2\r\n",
       "           4\r\n",
       "           8\r\n",
       "          16\r\n",
       "          32\r\n",
       "          63\r\n",
       "         125\r\n",
       "         248\r\n",
       "         492\r\n",
       "         976\r\n",
       "        1936\r\n",
       "        3840\r\n",
       "        7617"
      ]
     },
     "execution_count": 1,
     "metadata": {},
     "output_type": "execute_result"
    }
   ],
   "source": [
    "hexanacci(20)"
   ]
  },
  {
   "cell_type": "code",
   "execution_count": 1,
   "metadata": {
    "collapsed": false
   },
   "outputs": [
    {
     "data": {
      "text/plain": [
       "ans =\r\n",
       "\r\n",
       "           0\r\n",
       "           0\r\n",
       "           0\r\n",
       "           0\r\n",
       "           0\r\n",
       "           0\r\n",
       "           1\r\n",
       "           1\r\n",
       "           2\r\n",
       "           4\r\n",
       "           8\r\n",
       "          16\r\n",
       "          32\r\n",
       "          64\r\n",
       "         127\r\n",
       "         253\r\n",
       "         504\r\n",
       "        1004\r\n",
       "        2000\r\n",
       "        3984"
      ]
     },
     "execution_count": 1,
     "metadata": {},
     "output_type": "execute_result"
    }
   ],
   "source": [
    "heptanacci(20)"
   ]
  },
  {
   "cell_type": "code",
   "execution_count": 2,
   "metadata": {
    "collapsed": false
   },
   "outputs": [
    {
     "data": {
      "text/plain": [
       "ans =\r\n",
       "\r\n",
       "   -0.6180\r\n",
       "    1.6180"
      ]
     },
     "execution_count": 2,
     "metadata": {},
     "output_type": "execute_result"
    }
   ],
   "source": [
    "solve('x^2 - x - 1 = 0');\n",
    "double(ans)"
   ]
  },
  {
   "cell_type": "code",
   "execution_count": 3,
   "metadata": {
    "collapsed": false
   },
   "outputs": [
    {
     "data": {
      "text/plain": [
       "ans =\r\n",
       "\r\n",
       "   1.3247 + 0.0000i\r\n",
       "  -0.6624 - 0.5623i\r\n",
       "  -0.6624 + 0.5623i"
      ]
     },
     "execution_count": 3,
     "metadata": {},
     "output_type": "execute_result"
    }
   ],
   "source": [
    "solve('x^3- x - 1 = 0');\n",
    "double(ans)"
   ]
  },
  {
   "cell_type": "code",
   "execution_count": 4,
   "metadata": {
    "collapsed": false
   },
   "outputs": [
    {
     "data": {
      "text/plain": [
       "ans =\r\n",
       "\r\n",
       "   1.4656 + 0.0000i\r\n",
       "  -0.2328 - 0.7926i\r\n",
       "  -0.2328 + 0.7926i"
      ]
     },
     "execution_count": 4,
     "metadata": {},
     "output_type": "execute_result"
    }
   ],
   "source": [
    "solve('x^3- x^2 - 1 = 0');\n",
    "double(ans)"
   ]
  },
  {
   "cell_type": "code",
   "execution_count": 5,
   "metadata": {
    "collapsed": false
   },
   "outputs": [
    {
     "data": {
      "text/plain": [
       "ans =\r\n",
       "\r\n",
       "  -0.7245 + 0.0000i\r\n",
       "   1.2207 + 0.0000i\r\n",
       "  -0.2481 - 1.0340i\r\n",
       "  -0.2481 + 1.0340i"
      ]
     },
     "execution_count": 5,
     "metadata": {},
     "output_type": "execute_result"
    }
   ],
   "source": [
    "solve('x^4- x - 1 = 0');\n",
    "double(ans)"
   ]
  },
  {
   "cell_type": "code",
   "execution_count": 6,
   "metadata": {
    "collapsed": false
   },
   "outputs": [
    {
     "data": {
      "text/plain": [
       "ans =\r\n",
       "\r\n",
       "  -0.8192 + 0.0000i\r\n",
       "   1.3803 + 0.0000i\r\n",
       "   0.2194 + 0.9145i\r\n",
       "   0.2194 - 0.9145i"
      ]
     },
     "execution_count": 6,
     "metadata": {},
     "output_type": "execute_result"
    }
   ],
   "source": [
    "solve('x^4- x^3 - 1 = 0');\n",
    "double(ans)"
   ]
  },
  {
   "cell_type": "code",
   "execution_count": 7,
   "metadata": {
    "collapsed": false
   },
   "outputs": [
    {
     "data": {
      "text/plain": [
       "ans =\r\n",
       "\r\n",
       "   1.1673 + 0.0000i\r\n",
       "   0.1812 - 1.0840i\r\n",
       "  -0.7649 - 0.3525i\r\n",
       "   0.1812 + 1.0840i\r\n",
       "  -0.7649 + 0.3525i"
      ]
     },
     "execution_count": 7,
     "metadata": {},
     "output_type": "execute_result"
    }
   ],
   "source": [
    "solve('x^5- x - 1 = 0');\n",
    "double(ans)"
   ]
  },
  {
   "cell_type": "code",
   "execution_count": 8,
   "metadata": {
    "collapsed": false
   },
   "outputs": [
    {
     "data": {
      "text/plain": [
       "ans =\r\n",
       "\r\n",
       "   1.1939 + 0.0000i\r\n",
       "  -0.7515 + 0.7846i\r\n",
       "  -0.7515 - 0.7846i\r\n",
       "   0.1546 + 0.8281i\r\n",
       "   0.1546 - 0.8281i"
      ]
     },
     "execution_count": 8,
     "metadata": {},
     "output_type": "execute_result"
    }
   ],
   "source": [
    "solve('x^5- x^2 - 1 = 0');\n",
    "double(ans)"
   ]
  },
  {
   "cell_type": "code",
   "execution_count": 9,
   "metadata": {
    "collapsed": false
   },
   "outputs": [
    {
     "data": {
      "text/plain": [
       "ans =\r\n",
       "\r\n",
       "   1.2365 + 0.0000i\r\n",
       "  -0.9590 - 0.4284i\r\n",
       "   0.3408 + 0.7854i\r\n",
       "   0.3408 - 0.7854i\r\n",
       "  -0.9590 + 0.4284i"
      ]
     },
     "execution_count": 9,
     "metadata": {},
     "output_type": "execute_result"
    }
   ],
   "source": [
    "solve('x^5- x^3 - 1 = 0');\n",
    "double(ans)"
   ]
  },
  {
   "cell_type": "code",
   "execution_count": 10,
   "metadata": {
    "collapsed": false
   },
   "outputs": [
    {
     "data": {
      "text/plain": [
       "ans =\r\n",
       "\r\n",
       "   0.5000 - 0.8660i\r\n",
       "   0.5000 + 0.8660i\r\n",
       "   1.3247 + 0.0000i\r\n",
       "  -0.6624 - 0.5623i\r\n",
       "  -0.6624 + 0.5623i"
      ]
     },
     "execution_count": 10,
     "metadata": {},
     "output_type": "execute_result"
    }
   ],
   "source": [
    "solve('x^5- x^4 - 1 = 0');\n",
    "double(ans)"
   ]
  },
  {
   "cell_type": "code",
   "execution_count": null,
   "metadata": {
    "collapsed": true
   },
   "outputs": [],
   "source": []
  }
 ],
 "metadata": {
  "kernelspec": {
   "display_name": "Matlab",
   "language": "matlab",
   "name": "matlab_kernel"
  },
  "language_info": {
   "file_extension": ".m",
   "help_links": [
    {
     "text": "MetaKernel Magics",
     "url": "https://github.com/calysto/metakernel/blob/master/metakernel/magics/README.md"
    }
   ],
   "mimetype": "text/x-matlab",
   "name": "octave"
  }
 },
 "nbformat": 4,
 "nbformat_minor": 0
}
