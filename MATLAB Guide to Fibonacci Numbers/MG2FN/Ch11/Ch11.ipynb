{
 "cells": [
  {
   "cell_type": "code",
   "execution_count": 11,
   "metadata": {
    "collapsed": false
   },
   "outputs": [
    {
     "data": {
      "text/plain": [
       "ans =\r\n",
       "\r\n",
       "     1\r\n",
       "     2\r\n",
       "     1\r\n",
       "    -1\r\n",
       "    -2\r\n",
       "    -1\r\n",
       "     1\r\n",
       "     2\r\n",
       "     1\r\n",
       "    -1\r\n",
       "    -2\r\n",
       "    -1\r\n",
       "     1\r\n",
       "     2\r\n",
       "     1\r\n",
       "    -1\r\n",
       "    -2\r\n",
       "    -1\r\n",
       "     1\r\n",
       "     2"
      ]
     },
     "execution_count": 11,
     "metadata": {},
     "output_type": "execute_result"
    }
   ],
   "source": [
    "random_fibonacci(20)"
   ]
  },
  {
   "cell_type": "code",
   "execution_count": null,
   "metadata": {
    "collapsed": true
   },
   "outputs": [],
   "source": []
  }
 ],
 "metadata": {
  "kernelspec": {
   "display_name": "Matlab",
   "language": "matlab",
   "name": "matlab_kernel"
  },
  "language_info": {
   "file_extension": ".m",
   "help_links": [
    {
     "text": "MetaKernel Magics",
     "url": "https://github.com/calysto/metakernel/blob/master/metakernel/magics/README.md"
    }
   ],
   "mimetype": "text/x-matlab",
   "name": "octave"
  }
 },
 "nbformat": 4,
 "nbformat_minor": 0
}
